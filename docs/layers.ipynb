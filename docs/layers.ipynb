{
 "cells": [
  {
   "cell_type": "markdown",
   "metadata": {},
   "source": [
    "# Adding and modifying layers"
   ]
  },
  {
   "cell_type": "markdown",
   "metadata": {},
   "source": [
    "On this page, we take a look at all the available plotting features. Let's start off by creating a simple time series:"
   ]
  },
  {
   "cell_type": "code",
   "execution_count": 1,
   "metadata": {},
   "outputs": [],
   "source": [
    "from astropy import units as u\n",
    "from astropy.timeseries import TimeSeries\n",
    "ts = TimeSeries(time_start='2016-03-22T12:30:31', time_delta=3 * u.s, n_samples=10)\n",
    "ts['flux'] = [10, 11, 9, 10, 2, 3, 5, 12, 11, 10]\n",
    "ts['error'] = [2, 2.5, 2, 1.5, 2, 2, 1.5, 1.5, 2., 2.5]"
   ]
  },
  {
   "cell_type": "markdown",
   "metadata": {},
   "source": [
    "### Creating an interactive figure"
   ]
  },
  {
   "cell_type": "markdown",
   "metadata": {},
   "source": [
    "To create an interactive figure, use the [InteractiveTimeSeriesFigure](api/aas_timeseries.InteractiveTimeSeriesFigure.rst#aas_timeseries.InteractiveTimeSeriesFigure) class:"
   ]
  },
  {
   "cell_type": "code",
   "execution_count": 2,
   "metadata": {},
   "outputs": [],
   "source": [
    "from aas_timeseries import InteractiveTimeSeriesFigure\n",
    "fig = InteractiveTimeSeriesFigure()"
   ]
  },
  {
   "cell_type": "markdown",
   "metadata": {},
   "source": [
    "### Note on adding and modifying layers"
   ]
  },
  {
   "cell_type": "markdown",
   "metadata": {},
   "source": [
    "Before we look at specific examples of layers, let's take a look at a couple of general patterns. First, interactive plots are defined by a collection of layers (e.g. markers, lines, shaded areas, text) that you can add using ``fig.add_*`` methods. These methods take all the arguments that can be used to customize a layer, e.g.:\n",
    "\n",
    "    fig.add_markers(time_series=ts, column='flux', label='Flux', color='red')\n",
    "    \n",
    "The ``add_*`` methods typically return an object that can be used to further customize the layer, so the above is equivalent to:\n",
    "\n",
    "    markers = fig.add_markers(time_series=ts, column='flux', label='Flux')\n",
    "    markers.color = 'red'\n",
    "\n",
    "Second, ``add_*`` layers take a ``label=`` argument that is used to define the name of the layer as shown in the list of layers (accessible from the top right menu in each interactive plot)."
   ]
  },
  {
   "cell_type": "markdown",
   "metadata": {},
   "source": [
    "### Markers"
   ]
  },
  {
   "cell_type": "markdown",
   "metadata": {},
   "source": [
    "To add markers, use the [add_markers](api/aas_timeseries.InteractiveTimeSeriesFigure.rst#aas_timeseries.InteractiveTimeSeriesFigure.add_markers) method:"
   ]
  },
  {
   "cell_type": "code",
   "execution_count": 3,
   "metadata": {},
   "outputs": [],
   "source": [
    "markers = fig.add_markers(time_series=ts, column='flux', label='Flux')"
   ]
  },
  {
   "cell_type": "markdown",
   "metadata": {},
   "source": [
    "We can then use [preview_interactive](api/aas_timeseries.InteractiveTimeSeriesFigure.rst#aas_timeseries.InteractiveTimeSeriesFigure.preview_interactive) to view the current version of the interactive plot."
   ]
  },
  {
   "cell_type": "code",
   "execution_count": 4,
   "metadata": {
    "scrolled": false
   },
   "outputs": [
    {
     "data": {
      "application/vnd.jupyter.widget-view+json": {
       "model_id": "d5d2d305f4dc4d33abd7662296e6371e",
       "version_major": 2,
       "version_minor": 0
      },
      "text/plain": [
       "TimeSeriesWidget(vega_json='{\\n  \"$schema\": \"https://vega.github.io/schema/vega/v4.json\",\\n  \"width\": 600,\\n  …"
      ]
     },
     "metadata": {},
     "output_type": "display_data"
    }
   ],
   "source": [
    "fig.preview_interactive()"
   ]
  },
  {
   "cell_type": "markdown",
   "metadata": {},
   "source": [
    "As mentioned above, because we wrote ``markers =``, we can further change the properties of the markers after they have been added to the figure - for example, we can change the marker size:"
   ]
  },
  {
   "cell_type": "code",
   "execution_count": 5,
   "metadata": {},
   "outputs": [
    {
     "data": {
      "application/vnd.jupyter.widget-view+json": {
       "model_id": "a50af5efdaab4930b41c7ee8c7174d9a",
       "version_major": 2,
       "version_minor": 0
      },
      "text/plain": [
       "TimeSeriesWidget(vega_json='{\\n  \"$schema\": \"https://vega.github.io/schema/vega/v4.json\",\\n  \"width\": 600,\\n  …"
      ]
     },
     "metadata": {},
     "output_type": "display_data"
    }
   ],
   "source": [
    "markers.size = 40\n",
    "fig.preview_interactive()"
   ]
  },
  {
   "cell_type": "markdown",
   "metadata": {},
   "source": [
    "If you want to show error bars, you can pass the ``error`` argument to [add_markers](api/aas_timeseries.InteractiveTimeSeriesFigure.rst#aas_timeseries.InteractiveTimeSeriesFigure.add_markers), specifying a column to use for the uncertainties, or you can set it on the ``markers`` object after the fact:"
   ]
  },
  {
   "cell_type": "code",
   "execution_count": 6,
   "metadata": {},
   "outputs": [],
   "source": [
    "markers.error = 'error'\n",
    "fig.preview_interactive() \n",
    "fig.save_vega_json('test_error.json')"
   ]
  },
  {
   "cell_type": "markdown",
   "metadata": {},
   "source": [
    "### Lines"
   ]
  },
  {
   "cell_type": "markdown",
   "metadata": {},
   "source": [
    "Adding a line is done in a similar way using the [add_line](api/aas_timeseries.InteractiveTimeSeriesFigure.rst#aas_timeseries.InteractiveTimeSeriesFigure.add_line) method:"
   ]
  },
  {
   "cell_type": "code",
   "execution_count": 7,
   "metadata": {},
   "outputs": [],
   "source": [
    "line = fig.add_line(time_series=ts, column='flux', label='Flux')"
   ]
  },
  {
   "cell_type": "code",
   "execution_count": 8,
   "metadata": {},
   "outputs": [
    {
     "data": {
      "application/vnd.jupyter.widget-view+json": {
       "model_id": "5f059d22464148749a64b9897dc76e53",
       "version_major": 2,
       "version_minor": 0
      },
      "text/plain": [
       "TimeSeriesWidget(vega_json='{\\n  \"$schema\": \"https://vega.github.io/schema/vega/v4.json\",\\n  \"width\": 600,\\n  …"
      ]
     },
     "metadata": {},
     "output_type": "display_data"
    }
   ],
   "source": [
    "fig.preview_interactive()"
   ]
  },
  {
   "cell_type": "markdown",
   "metadata": {},
   "source": [
    "As for markers, the returned ``line`` object can be used to update properties of the line, e.g.:"
   ]
  },
  {
   "cell_type": "code",
   "execution_count": 9,
   "metadata": {},
   "outputs": [
    {
     "data": {
      "application/vnd.jupyter.widget-view+json": {
       "model_id": "ff9480df026149bb81bfe64255afc406",
       "version_major": 2,
       "version_minor": 0
      },
      "text/plain": [
       "TimeSeriesWidget(vega_json='{\\n  \"$schema\": \"https://vega.github.io/schema/vega/v4.json\",\\n  \"width\": 600,\\n  …"
      ]
     },
     "metadata": {},
     "output_type": "display_data"
    }
   ],
   "source": [
    "line.width = 2\n",
    "fig.preview_interactive()"
   ]
  },
  {
   "cell_type": "markdown",
   "metadata": {},
   "source": [
    "### Vertical and horizontal lines"
   ]
  },
  {
   "cell_type": "markdown",
   "metadata": {},
   "source": [
    "In some cases it can be useful to indicate specific points in time with vertical lines, or certain y-axis values with horizontal lines. These can be added with the [add_vertical_line](api/aas_timeseries.InteractiveTimeSeriesFigure.rst#aas_timeseries.InteractiveTimeSeriesFigure.add_vertical_line) and [add_horizontal_line](api/aas_timeseries.InteractiveTimeSeriesFigure.rst#aas_timeseries.InteractiveTimeSeriesFigure.add_horizontal_line) methods:"
   ]
  },
  {
   "cell_type": "code",
   "execution_count": 10,
   "metadata": {},
   "outputs": [],
   "source": [
    "vertical_line = fig.add_vertical_line(ts.time[5], label='Special event')\n",
    "horizontal_line = fig.add_horizontal_line(10, label='Baseline flux')"
   ]
  },
  {
   "cell_type": "code",
   "execution_count": 11,
   "metadata": {},
   "outputs": [
    {
     "data": {
      "application/vnd.jupyter.widget-view+json": {
       "model_id": "689cf49274324c6398967d332bf6b913",
       "version_major": 2,
       "version_minor": 0
      },
      "text/plain": [
       "TimeSeriesWidget(vega_json='{\\n  \"$schema\": \"https://vega.github.io/schema/vega/v4.json\",\\n  \"width\": 600,\\n  …"
      ]
     },
     "metadata": {},
     "output_type": "display_data"
    }
   ],
   "source": [
    "fig.preview_interactive()"
   ]
  },
  {
   "cell_type": "markdown",
   "metadata": {},
   "source": [
    "### Ranges"
   ]
  },
  {
   "cell_type": "markdown",
   "metadata": {},
   "source": [
    "There are three kinds of ranges that can be added to plots. First, if your time series has columns that can serve as the lower and upper values for a range as a function of time. Let's create two such columns to demonstrate:"
   ]
  },
  {
   "cell_type": "code",
   "execution_count": 12,
   "metadata": {},
   "outputs": [],
   "source": [
    "ts['flux_lo'] = ts['flux'] - ts['error']\n",
    "ts['flux_hi'] = ts['flux'] + ts['error']"
   ]
  },
  {
   "cell_type": "markdown",
   "metadata": {},
   "source": [
    "And we can now plot a time-dependent range using [add_range](api/aas_timeseries.InteractiveTimeSeriesFigure.rst#aas_timeseries.InteractiveTimeSeriesFigure.add_range):"
   ]
  },
  {
   "cell_type": "code",
   "execution_count": 13,
   "metadata": {},
   "outputs": [
    {
     "data": {
      "application/vnd.jupyter.widget-view+json": {
       "model_id": "2a9c3aefe3014f84a16f88a837bad588",
       "version_major": 2,
       "version_minor": 0
      },
      "text/plain": [
       "TimeSeriesWidget(vega_json='{\\n  \"$schema\": \"https://vega.github.io/schema/vega/v4.json\",\\n  \"width\": 600,\\n  …"
      ]
     },
     "metadata": {},
     "output_type": "display_data"
    }
   ],
   "source": [
    "frange = fig.add_range(time_series=ts, column_lower='flux_lo',\n",
    "                       column_upper='flux_hi', label='Range')\n",
    "fig.preview_interactive()"
   ]
  },
  {
   "cell_type": "markdown",
   "metadata": {},
   "source": [
    "It is also possible to define horizontal and vertical ranges in a similar way to horizontal and vertical lines using [add_vertical_range](api/aas_timeseries.InteractiveTimeSeriesFigure.rst#aas_timeseries.InteractiveTimeSeriesFigure.add_vertical_range) and [add_horizontal_range](api/aas_timeseries.InteractiveTimeSeriesFigure.rst#aas_timeseries.InteractiveTimeSeriesFigure.add_horizontal_range):"
   ]
  },
  {
   "cell_type": "code",
   "execution_count": 14,
   "metadata": {},
   "outputs": [],
   "source": [
    "vrange = fig.add_vertical_range(ts.time[4], ts.time[6], label='Vertical Range')\n",
    "hrange = fig.add_horizontal_range(8, 11, label='Horizontal Range')"
   ]
  },
  {
   "cell_type": "code",
   "execution_count": 15,
   "metadata": {},
   "outputs": [
    {
     "data": {
      "application/vnd.jupyter.widget-view+json": {
       "model_id": "b20d40ff9e204a7ca6b635eab49d5106",
       "version_major": 2,
       "version_minor": 0
      },
      "text/plain": [
       "TimeSeriesWidget(vega_json='{\\n  \"$schema\": \"https://vega.github.io/schema/vega/v4.json\",\\n  \"width\": 600,\\n  …"
      ]
     },
     "metadata": {},
     "output_type": "display_data"
    }
   ],
   "source": [
    "fig.preview_interactive()"
   ]
  },
  {
   "cell_type": "markdown",
   "metadata": {},
   "source": [
    "### Text labels"
   ]
  },
  {
   "cell_type": "markdown",
   "metadata": {},
   "source": [
    "Text labels can be added using the [add_text](api/aas_timeseries.InteractiveTimeSeriesFigure.rst#aas_timeseries.InteractiveTimeSeriesFigure.add_text) method:"
   ]
  },
  {
   "cell_type": "code",
   "execution_count": 16,
   "metadata": {},
   "outputs": [],
   "source": [
    "text = fig.add_text(time=ts.time[1], value=5, text='Here be dragons', label='Text')"
   ]
  },
  {
   "cell_type": "code",
   "execution_count": 17,
   "metadata": {
    "scrolled": false
   },
   "outputs": [
    {
     "data": {
      "application/vnd.jupyter.widget-view+json": {
       "model_id": "a70d9bcd2dfd4b5492e9c14e6431c784",
       "version_major": 2,
       "version_minor": 0
      },
      "text/plain": [
       "TimeSeriesWidget(vega_json='{\\n  \"$schema\": \"https://vega.github.io/schema/vega/v4.json\",\\n  \"width\": 600,\\n  …"
      ]
     },
     "metadata": {},
     "output_type": "display_data"
    }
   ],
   "source": [
    "fig.preview_interactive()"
   ]
  },
  {
   "cell_type": "markdown",
   "metadata": {},
   "source": [
    "### Removing layers"
   ]
  },
  {
   "cell_type": "markdown",
   "metadata": {},
   "source": [
    "To remove a layer, call its [remove](api/aas_timeseries.layers.BaseLayer.rst#aas_timeseries.layers.BaseLayer.remove) method:"
   ]
  },
  {
   "cell_type": "code",
   "execution_count": 18,
   "metadata": {},
   "outputs": [],
   "source": [
    "text.remove()"
   ]
  },
  {
   "cell_type": "code",
   "execution_count": 19,
   "metadata": {},
   "outputs": [
    {
     "data": {
      "application/vnd.jupyter.widget-view+json": {
       "model_id": "f5501c84dea944af83ece8fd1ca25794",
       "version_major": 2,
       "version_minor": 0
      },
      "text/plain": [
       "TimeSeriesWidget(vega_json='{\\n  \"$schema\": \"https://vega.github.io/schema/vega/v4.json\",\\n  \"width\": 600,\\n  …"
      ]
     },
     "metadata": {},
     "output_type": "display_data"
    }
   ],
   "source": [
    "fig.preview_interactive()"
   ]
  }
 ],
 "metadata": {
  "kernelspec": {
   "display_name": "Python 3",
   "language": "python",
   "name": "python3"
  },
  "language_info": {
   "codemirror_mode": {
    "name": "ipython",
    "version": 3
   },
   "file_extension": ".py",
   "mimetype": "text/x-python",
   "name": "python",
   "nbconvert_exporter": "python",
   "pygments_lexer": "ipython3",
   "version": "3.7.1"
  },
  "widgets": {
   "application/vnd.jupyter.widget-state+json": {
    "state": {
     "1235289e432f41a0946b7b60b0704707": {
      "model_module": "jupyter-aas-timeseries",
      "model_module_version": "^0.1.6",
      "model_name": "TimeSeriesModel",
      "state": {
       "_model_module_version": "^0.1.6",
       "_view_module_version": "^0.1.6",
       "height": 480,
       "layout": "IPY_MODEL_b410f75018544106a61602a95c49e35d",
       "vega_json": "{\n  \"$schema\": \"https://vega.github.io/schema/vega/v4.json\",\n  \"width\": 600,\n  \"height\": 400,\n  \"padding\": 0,\n  \"autosize\": {\n    \"type\": \"fit\",\n    \"resize\": false\n  },\n  \"data\": [\n    {\n      \"name\": \"6feccf06-bb20-4fd5-85c4-b8565a1a3622\",\n      \"format\": {\n        \"type\": \"csv\",\n        \"parse\": {\n          \"time\": \"date\",\n          \"flux\": \"number\",\n          \"error\": \"number\",\n          \"flux_lo\": \"number\",\n          \"flux_hi\": \"number\"\n        }\n      },\n      \"values\": \"time,flux,error,flux_lo,flux_hi\\n2016-03-22T12:30:31.000,10.0,2.0,8.0,12.0\\n2016-03-22T12:30:34.000,11.0,2.5,8.5,13.5\\n2016-03-22T12:30:37.000,9.0,2.0,7.0,11.0\\n2016-03-22T12:30:40.000,10.0,1.5,8.5,11.5\\n2016-03-22T12:30:43.000,2.0,2.0,0.0,4.0\\n2016-03-22T12:30:46.000,3.0,2.0,1.0,5.0\\n2016-03-22T12:30:49.000,5.0,1.5,3.5,6.5\\n2016-03-22T12:30:52.000,12.0,1.5,10.5,13.5\\n2016-03-22T12:30:55.000,11.0,2.0,9.0,13.0\\n2016-03-22T12:30:58.000,10.0,2.5,7.5,12.5\\n\"\n    }\n  ],\n  \"marks\": [\n    {\n      \"type\": \"symbol\",\n      \"name\": \"3d1aaf1d-31b8-46bd-8fa3-b7310a7e3461\",\n      \"description\": \"Flux\",\n      \"clip\": true,\n      \"from\": {\n        \"data\": \"6feccf06-bb20-4fd5-85c4-b8565a1a3622\"\n      },\n      \"encode\": {\n        \"enter\": {\n          \"x\": {\n            \"scale\": \"xscale\",\n            \"field\": \"time\"\n          },\n          \"y\": {\n            \"scale\": \"yscale\",\n            \"field\": \"flux\"\n          },\n          \"shape\": {\n            \"value\": \"circle\"\n          }\n        },\n        \"update\": {\n          \"shape\": {\n            \"value\": \"circle\"\n          },\n          \"size\": {\n            \"value\": 40\n          },\n          \"fill\": {\n            \"value\": \"#000000\"\n          },\n          \"fillOpacity\": {\n            \"value\": 1\n          },\n          \"stroke\": {\n            \"value\": \"#000000\"\n          },\n          \"strokeOpacity\": {\n            \"value\": 0.2\n          },\n          \"strokeWidth\": {\n            \"value\": 0\n          }\n        }\n      }\n    },\n    {\n      \"type\": \"rect\",\n      \"name\": \"3d1aaf1d-31b8-46bd-8fa3-b7310a7e3461\",\n      \"description\": \"Flux\",\n      \"clip\": true,\n      \"from\": {\n        \"data\": \"6feccf06-bb20-4fd5-85c4-b8565a1a3622\"\n      },\n      \"encode\": {\n        \"enter\": {\n          \"x\": {\n            \"scale\": \"xscale\",\n            \"field\": \"time\"\n          },\n          \"y\": {\n            \"scale\": \"yscale\",\n            \"signal\": \"datum['flux'] - datum['error']\"\n          },\n          \"y2\": {\n            \"scale\": \"yscale\",\n            \"signal\": \"datum['flux'] + datum['error']\"\n          }\n        },\n        \"update\": {\n          \"shape\": {\n            \"value\": \"circle\"\n          },\n          \"width\": {\n            \"value\": 1\n          },\n          \"fill\": {\n            \"value\": \"#000000\"\n          },\n          \"fillOpacity\": {\n            \"value\": 1\n          },\n          \"stroke\": {\n            \"value\": \"#000000\"\n          },\n          \"strokeOpacity\": {\n            \"value\": 0.2\n          },\n          \"strokeWidth\": {\n            \"value\": 0\n          }\n        }\n      }\n    },\n    {\n      \"type\": \"line\",\n      \"name\": \"69ece06b-5b2f-41fc-a477-7d27c39ba82e\",\n      \"description\": \"Flux\",\n      \"clip\": true,\n      \"from\": {\n        \"data\": \"6feccf06-bb20-4fd5-85c4-b8565a1a3622\"\n      },\n      \"encode\": {\n        \"enter\": {\n          \"x\": {\n            \"scale\": \"xscale\",\n            \"field\": \"time\"\n          },\n          \"y\": {\n            \"scale\": \"yscale\",\n            \"field\": \"flux\"\n          },\n          \"stroke\": {\n            \"value\": \"#000000\"\n          },\n          \"strokeOpacity\": {\n            \"value\": 1\n          },\n          \"strokeWidth\": {\n            \"value\": 2\n          }\n        }\n      }\n    },\n    {\n      \"type\": \"rule\",\n      \"name\": \"fba42ef8-882d-474b-9efe-14c91067bcd7\",\n      \"description\": \"Special event\",\n      \"clip\": true,\n      \"encode\": {\n        \"enter\": {\n          \"x\": {\n            \"scale\": \"xscale\",\n            \"signal\": \"datetime(2016, 2, 22, 12, 30, 46)\"\n          },\n          \"y\": {\n            \"value\": 0\n          },\n          \"y2\": {\n            \"field\": {\n              \"group\": \"height\"\n            }\n          },\n          \"strokeWidth\": {\n            \"value\": 1\n          },\n          \"stroke\": {\n            \"value\": \"#000000\"\n          },\n          \"strokeOpacity\": {\n            \"value\": 1\n          }\n        }\n      }\n    },\n    {\n      \"type\": \"rule\",\n      \"name\": \"5f2a1eb2-2314-4918-9682-6fe410137887\",\n      \"description\": \"Baseline flux\",\n      \"clip\": true,\n      \"encode\": {\n        \"enter\": {\n          \"x\": {\n            \"value\": 0\n          },\n          \"x2\": {\n            \"field\": {\n              \"group\": \"width\"\n            }\n          },\n          \"y\": {\n            \"scale\": \"yscale\",\n            \"value\": 10.0\n          },\n          \"strokeWidth\": {\n            \"value\": 1\n          },\n          \"stroke\": {\n            \"value\": \"#000000\"\n          },\n          \"strokeOpacity\": {\n            \"value\": 1\n          }\n        }\n      }\n    },\n    {\n      \"type\": \"area\",\n      \"name\": \"d0efd74b-5d2f-41db-a3d3-ff69c3db2620\",\n      \"description\": \"Range\",\n      \"clip\": true,\n      \"from\": {\n        \"data\": \"6feccf06-bb20-4fd5-85c4-b8565a1a3622\"\n      },\n      \"encode\": {\n        \"enter\": {\n          \"x\": {\n            \"scale\": \"xscale\",\n            \"field\": \"time\"\n          },\n          \"y\": {\n            \"scale\": \"yscale\",\n            \"field\": \"flux_lo\"\n          },\n          \"y2\": {\n            \"scale\": \"yscale\",\n            \"field\": \"flux_hi\"\n          },\n          \"fill\": {\n            \"value\": \"#a6cee3\"\n          },\n          \"fillOpacity\": {\n            \"value\": 0.2\n          },\n          \"stroke\": {\n            \"value\": \"#000000\"\n          },\n          \"strokeOpacity\": {\n            \"value\": 0.2\n          },\n          \"strokeWidth\": {\n            \"value\": 0\n          }\n        }\n      }\n    },\n    {\n      \"type\": \"rect\",\n      \"name\": \"c219fb74-25f5-4ad8-8774-6818f800f5e3\",\n      \"description\": \"Vertical Range\",\n      \"clip\": true,\n      \"encode\": {\n        \"enter\": {\n          \"x\": {\n            \"scale\": \"xscale\",\n            \"signal\": \"datetime(2016, 2, 22, 12, 30, 43)\"\n          },\n          \"x2\": {\n            \"scale\": \"xscale\",\n            \"signal\": \"datetime(2016, 2, 22, 12, 30, 49)\"\n          },\n          \"y\": {\n            \"value\": 0\n          },\n          \"y2\": {\n            \"field\": {\n              \"group\": \"height\"\n            }\n          },\n          \"fill\": {\n            \"value\": \"#1f78b4\"\n          },\n          \"fillOpacity\": {\n            \"value\": 0.2\n          },\n          \"stroke\": {\n            \"value\": \"#000000\"\n          },\n          \"strokeOpacity\": {\n            \"value\": 0.2\n          },\n          \"strokeWidth\": {\n            \"value\": 0\n          }\n        }\n      }\n    },\n    {\n      \"type\": \"rect\",\n      \"name\": \"c6247cb3-f631-4298-8e2a-417980c518b0\",\n      \"description\": \"Horizontal Range\",\n      \"clip\": true,\n      \"encode\": {\n        \"enter\": {\n          \"x\": {\n            \"value\": 0\n          },\n          \"x2\": {\n            \"field\": {\n              \"group\": \"width\"\n            }\n          },\n          \"y\": {\n            \"scale\": \"yscale\",\n            \"value\": 8.0\n          },\n          \"y2\": {\n            \"scale\": \"yscale\",\n            \"value\": 11.0\n          },\n          \"fill\": {\n            \"value\": \"#b2df8a\"\n          },\n          \"fillOpacity\": {\n            \"value\": 0.2\n          },\n          \"stroke\": {\n            \"value\": \"#000000\"\n          },\n          \"strokeOpacity\": {\n            \"value\": 0.2\n          },\n          \"strokeWidth\": {\n            \"value\": 0\n          }\n        }\n      }\n    },\n    {\n      \"type\": \"text\",\n      \"name\": \"de603e0d-55d4-4e38-9236-911b739799ae\",\n      \"description\": \"Text\",\n      \"clip\": true,\n      \"encode\": {\n        \"enter\": {\n          \"x\": {\n            \"scale\": \"xscale\",\n            \"signal\": \"datetime(2016, 2, 22, 12, 30, 34)\"\n          },\n          \"y\": {\n            \"scale\": \"yscale\",\n            \"value\": 5.0\n          },\n          \"text\": {\n            \"value\": \"Here be dragons\"\n          },\n          \"fill\": {\n            \"value\": \"#000000\"\n          },\n          \"fillOpacity\": {\n            \"value\": 1\n          },\n          \"fontWeigth\": {\n            \"value\": \"normal\"\n          },\n          \"baseline\": {\n            \"value\": \"alphabetic\"\n          },\n          \"align\": {\n            \"value\": \"left\"\n          },\n          \"angle\": {\n            \"value\": 0.0\n          }\n        }\n      }\n    }\n  ],\n  \"axes\": [\n    {\n      \"orient\": \"bottom\",\n      \"scale\": \"xscale\",\n      \"title\": \"Time\"\n    },\n    {\n      \"orient\": \"left\",\n      \"scale\": \"yscale\",\n      \"title\": \"Intensity\"\n    }\n  ],\n  \"scales\": [\n    {\n      \"name\": \"xscale\",\n      \"type\": \"time\",\n      \"range\": \"width\",\n      \"zero\": false,\n      \"padding\": 36,\n      \"domain\": [\n        {\n          \"signal\": \"datetime(2016, 2, 22, 12, 30, 31)\"\n        },\n        {\n          \"signal\": \"datetime(2016, 2, 22, 12, 30, 58)\"\n        }\n      ]\n    },\n    {\n      \"name\": \"yscale\",\n      \"type\": \"linear\",\n      \"range\": \"height\",\n      \"zero\": false,\n      \"padding\": 36,\n      \"domain\": [\n        2.0,\n        12.0\n      ]\n    }\n  ]\n}",
       "width": 600
      }
     },
     "1813b74d491649ddad230764f11a0ea4": {
      "model_module": "@jupyter-widgets/base",
      "model_module_version": "1.1.0",
      "model_name": "LayoutModel",
      "state": {}
     },
     "248076e2ce414d99a29c7f8590981798": {
      "model_module": "@jupyter-widgets/base",
      "model_module_version": "1.1.0",
      "model_name": "LayoutModel",
      "state": {}
     },
     "2611d560610b41e280e02d168510d262": {
      "model_module": "@jupyter-widgets/base",
      "model_module_version": "1.1.0",
      "model_name": "LayoutModel",
      "state": {}
     },
     "2763b2cc8efe43cfbbe8c684318c9dbc": {
      "model_module": "jupyter-aas-timeseries",
      "model_module_version": "^0.1.6",
      "model_name": "TimeSeriesModel",
      "state": {
       "_model_module_version": "^0.1.6",
       "_view_module_version": "^0.1.6",
       "height": 480,
       "layout": "IPY_MODEL_493f963026ff45d19eb299a36419d633",
       "vega_json": "{\n  \"$schema\": \"https://vega.github.io/schema/vega/v4.json\",\n  \"width\": 600,\n  \"height\": 400,\n  \"padding\": 0,\n  \"autosize\": {\n    \"type\": \"fit\",\n    \"resize\": false\n  },\n  \"data\": [\n    {\n      \"name\": \"6feccf06-bb20-4fd5-85c4-b8565a1a3622\",\n      \"format\": {\n        \"type\": \"csv\",\n        \"parse\": {\n          \"time\": \"date\",\n          \"flux\": \"number\",\n          \"error\": \"number\"\n        }\n      },\n      \"values\": \"time,flux,error\\n2016-03-22T12:30:31.000,10.0,2.0\\n2016-03-22T12:30:34.000,11.0,2.5\\n2016-03-22T12:30:37.000,9.0,2.0\\n2016-03-22T12:30:40.000,10.0,1.5\\n2016-03-22T12:30:43.000,2.0,2.0\\n2016-03-22T12:30:46.000,3.0,2.0\\n2016-03-22T12:30:49.000,5.0,1.5\\n2016-03-22T12:30:52.000,12.0,1.5\\n2016-03-22T12:30:55.000,11.0,2.0\\n2016-03-22T12:30:58.000,10.0,2.5\\n\"\n    }\n  ],\n  \"marks\": [\n    {\n      \"type\": \"symbol\",\n      \"name\": \"3d1aaf1d-31b8-46bd-8fa3-b7310a7e3461\",\n      \"description\": \"Flux\",\n      \"clip\": true,\n      \"from\": {\n        \"data\": \"6feccf06-bb20-4fd5-85c4-b8565a1a3622\"\n      },\n      \"encode\": {\n        \"enter\": {\n          \"x\": {\n            \"scale\": \"xscale\",\n            \"field\": \"time\"\n          },\n          \"y\": {\n            \"scale\": \"yscale\",\n            \"field\": \"flux\"\n          },\n          \"shape\": {\n            \"value\": \"circle\"\n          }\n        },\n        \"update\": {\n          \"shape\": {\n            \"value\": \"circle\"\n          },\n          \"size\": {\n            \"value\": 40\n          },\n          \"fill\": {\n            \"value\": \"#000000\"\n          },\n          \"fillOpacity\": {\n            \"value\": 1\n          },\n          \"stroke\": {\n            \"value\": \"#000000\"\n          },\n          \"strokeOpacity\": {\n            \"value\": 0.2\n          },\n          \"strokeWidth\": {\n            \"value\": 0\n          }\n        }\n      }\n    },\n    {\n      \"type\": \"rect\",\n      \"name\": \"3d1aaf1d-31b8-46bd-8fa3-b7310a7e3461\",\n      \"description\": \"Flux\",\n      \"clip\": true,\n      \"from\": {\n        \"data\": \"6feccf06-bb20-4fd5-85c4-b8565a1a3622\"\n      },\n      \"encode\": {\n        \"enter\": {\n          \"x\": {\n            \"scale\": \"xscale\",\n            \"field\": \"time\"\n          },\n          \"y\": {\n            \"scale\": \"yscale\",\n            \"signal\": \"datum['flux'] - datum['error']\"\n          },\n          \"y2\": {\n            \"scale\": \"yscale\",\n            \"signal\": \"datum['flux'] + datum['error']\"\n          }\n        },\n        \"update\": {\n          \"shape\": {\n            \"value\": \"circle\"\n          },\n          \"width\": {\n            \"value\": 1\n          },\n          \"fill\": {\n            \"value\": \"#000000\"\n          },\n          \"fillOpacity\": {\n            \"value\": 1\n          },\n          \"stroke\": {\n            \"value\": \"#000000\"\n          },\n          \"strokeOpacity\": {\n            \"value\": 0.2\n          },\n          \"strokeWidth\": {\n            \"value\": 0\n          }\n        }\n      }\n    },\n    {\n      \"type\": \"line\",\n      \"name\": \"69ece06b-5b2f-41fc-a477-7d27c39ba82e\",\n      \"description\": \"Flux\",\n      \"clip\": true,\n      \"from\": {\n        \"data\": \"6feccf06-bb20-4fd5-85c4-b8565a1a3622\"\n      },\n      \"encode\": {\n        \"enter\": {\n          \"x\": {\n            \"scale\": \"xscale\",\n            \"field\": \"time\"\n          },\n          \"y\": {\n            \"scale\": \"yscale\",\n            \"field\": \"flux\"\n          },\n          \"stroke\": {\n            \"value\": \"#000000\"\n          },\n          \"strokeOpacity\": {\n            \"value\": 1\n          },\n          \"strokeWidth\": {\n            \"value\": 1\n          }\n        }\n      }\n    }\n  ],\n  \"axes\": [\n    {\n      \"orient\": \"bottom\",\n      \"scale\": \"xscale\",\n      \"title\": \"Time\"\n    },\n    {\n      \"orient\": \"left\",\n      \"scale\": \"yscale\",\n      \"title\": \"Intensity\"\n    }\n  ],\n  \"scales\": [\n    {\n      \"name\": \"xscale\",\n      \"type\": \"time\",\n      \"range\": \"width\",\n      \"zero\": false,\n      \"padding\": 36,\n      \"domain\": [\n        {\n          \"signal\": \"datetime(2016, 2, 22, 12, 30, 31)\"\n        },\n        {\n          \"signal\": \"datetime(2016, 2, 22, 12, 30, 58)\"\n        }\n      ]\n    },\n    {\n      \"name\": \"yscale\",\n      \"type\": \"linear\",\n      \"range\": \"height\",\n      \"zero\": false,\n      \"padding\": 36,\n      \"domain\": [\n        2.0,\n        12.0\n      ]\n    }\n  ]\n}",
       "width": 600
      }
     },
     "28ae06885d7b4d5e9b4ecf9aa972eb29": {
      "model_module": "jupyter-aas-timeseries",
      "model_module_version": "^0.1.6",
      "model_name": "TimeSeriesModel",
      "state": {
       "_model_module_version": "^0.1.6",
       "_view_module_version": "^0.1.6",
       "height": 480,
       "layout": "IPY_MODEL_fc8cd8efa6aa49ceaa04038ded93a759",
       "vega_json": "{\n  \"$schema\": \"https://vega.github.io/schema/vega/v4.json\",\n  \"width\": 600,\n  \"height\": 400,\n  \"padding\": 0,\n  \"autosize\": {\n    \"type\": \"fit\",\n    \"resize\": false\n  },\n  \"data\": [\n    {\n      \"name\": \"6feccf06-bb20-4fd5-85c4-b8565a1a3622\",\n      \"format\": {\n        \"type\": \"csv\",\n        \"parse\": {\n          \"time\": \"date\",\n          \"flux\": \"number\",\n          \"error\": \"number\",\n          \"flux_lo\": \"number\",\n          \"flux_hi\": \"number\"\n        }\n      },\n      \"values\": \"time,flux,error,flux_lo,flux_hi\\n2016-03-22T12:30:31.000,10.0,2.0,8.0,12.0\\n2016-03-22T12:30:34.000,11.0,2.5,8.5,13.5\\n2016-03-22T12:30:37.000,9.0,2.0,7.0,11.0\\n2016-03-22T12:30:40.000,10.0,1.5,8.5,11.5\\n2016-03-22T12:30:43.000,2.0,2.0,0.0,4.0\\n2016-03-22T12:30:46.000,3.0,2.0,1.0,5.0\\n2016-03-22T12:30:49.000,5.0,1.5,3.5,6.5\\n2016-03-22T12:30:52.000,12.0,1.5,10.5,13.5\\n2016-03-22T12:30:55.000,11.0,2.0,9.0,13.0\\n2016-03-22T12:30:58.000,10.0,2.5,7.5,12.5\\n\"\n    }\n  ],\n  \"marks\": [\n    {\n      \"type\": \"symbol\",\n      \"name\": \"3d1aaf1d-31b8-46bd-8fa3-b7310a7e3461\",\n      \"description\": \"Flux\",\n      \"clip\": true,\n      \"from\": {\n        \"data\": \"6feccf06-bb20-4fd5-85c4-b8565a1a3622\"\n      },\n      \"encode\": {\n        \"enter\": {\n          \"x\": {\n            \"scale\": \"xscale\",\n            \"field\": \"time\"\n          },\n          \"y\": {\n            \"scale\": \"yscale\",\n            \"field\": \"flux\"\n          },\n          \"shape\": {\n            \"value\": \"circle\"\n          }\n        },\n        \"update\": {\n          \"shape\": {\n            \"value\": \"circle\"\n          },\n          \"size\": {\n            \"value\": 40\n          },\n          \"fill\": {\n            \"value\": \"#000000\"\n          },\n          \"fillOpacity\": {\n            \"value\": 1\n          },\n          \"stroke\": {\n            \"value\": \"#000000\"\n          },\n          \"strokeOpacity\": {\n            \"value\": 0.2\n          },\n          \"strokeWidth\": {\n            \"value\": 0\n          }\n        }\n      }\n    },\n    {\n      \"type\": \"rect\",\n      \"name\": \"3d1aaf1d-31b8-46bd-8fa3-b7310a7e3461\",\n      \"description\": \"Flux\",\n      \"clip\": true,\n      \"from\": {\n        \"data\": \"6feccf06-bb20-4fd5-85c4-b8565a1a3622\"\n      },\n      \"encode\": {\n        \"enter\": {\n          \"x\": {\n            \"scale\": \"xscale\",\n            \"field\": \"time\"\n          },\n          \"y\": {\n            \"scale\": \"yscale\",\n            \"signal\": \"datum['flux'] - datum['error']\"\n          },\n          \"y2\": {\n            \"scale\": \"yscale\",\n            \"signal\": \"datum['flux'] + datum['error']\"\n          }\n        },\n        \"update\": {\n          \"shape\": {\n            \"value\": \"circle\"\n          },\n          \"width\": {\n            \"value\": 1\n          },\n          \"fill\": {\n            \"value\": \"#000000\"\n          },\n          \"fillOpacity\": {\n            \"value\": 1\n          },\n          \"stroke\": {\n            \"value\": \"#000000\"\n          },\n          \"strokeOpacity\": {\n            \"value\": 0.2\n          },\n          \"strokeWidth\": {\n            \"value\": 0\n          }\n        }\n      }\n    },\n    {\n      \"type\": \"line\",\n      \"name\": \"69ece06b-5b2f-41fc-a477-7d27c39ba82e\",\n      \"description\": \"Flux\",\n      \"clip\": true,\n      \"from\": {\n        \"data\": \"6feccf06-bb20-4fd5-85c4-b8565a1a3622\"\n      },\n      \"encode\": {\n        \"enter\": {\n          \"x\": {\n            \"scale\": \"xscale\",\n            \"field\": \"time\"\n          },\n          \"y\": {\n            \"scale\": \"yscale\",\n            \"field\": \"flux\"\n          },\n          \"stroke\": {\n            \"value\": \"#000000\"\n          },\n          \"strokeOpacity\": {\n            \"value\": 1\n          },\n          \"strokeWidth\": {\n            \"value\": 2\n          }\n        }\n      }\n    },\n    {\n      \"type\": \"rule\",\n      \"name\": \"fba42ef8-882d-474b-9efe-14c91067bcd7\",\n      \"description\": \"Special event\",\n      \"clip\": true,\n      \"encode\": {\n        \"enter\": {\n          \"x\": {\n            \"scale\": \"xscale\",\n            \"signal\": \"datetime(2016, 2, 22, 12, 30, 46)\"\n          },\n          \"y\": {\n            \"value\": 0\n          },\n          \"y2\": {\n            \"field\": {\n              \"group\": \"height\"\n            }\n          },\n          \"strokeWidth\": {\n            \"value\": 1\n          },\n          \"stroke\": {\n            \"value\": \"#000000\"\n          },\n          \"strokeOpacity\": {\n            \"value\": 1\n          }\n        }\n      }\n    },\n    {\n      \"type\": \"rule\",\n      \"name\": \"5f2a1eb2-2314-4918-9682-6fe410137887\",\n      \"description\": \"Baseline flux\",\n      \"clip\": true,\n      \"encode\": {\n        \"enter\": {\n          \"x\": {\n            \"value\": 0\n          },\n          \"x2\": {\n            \"field\": {\n              \"group\": \"width\"\n            }\n          },\n          \"y\": {\n            \"scale\": \"yscale\",\n            \"value\": 10.0\n          },\n          \"strokeWidth\": {\n            \"value\": 1\n          },\n          \"stroke\": {\n            \"value\": \"#000000\"\n          },\n          \"strokeOpacity\": {\n            \"value\": 1\n          }\n        }\n      }\n    },\n    {\n      \"type\": \"area\",\n      \"name\": \"d0efd74b-5d2f-41db-a3d3-ff69c3db2620\",\n      \"description\": \"Range\",\n      \"clip\": true,\n      \"from\": {\n        \"data\": \"6feccf06-bb20-4fd5-85c4-b8565a1a3622\"\n      },\n      \"encode\": {\n        \"enter\": {\n          \"x\": {\n            \"scale\": \"xscale\",\n            \"field\": \"time\"\n          },\n          \"y\": {\n            \"scale\": \"yscale\",\n            \"field\": \"flux_lo\"\n          },\n          \"y2\": {\n            \"scale\": \"yscale\",\n            \"field\": \"flux_hi\"\n          },\n          \"fill\": {\n            \"value\": \"#a6cee3\"\n          },\n          \"fillOpacity\": {\n            \"value\": 0.2\n          },\n          \"stroke\": {\n            \"value\": \"#000000\"\n          },\n          \"strokeOpacity\": {\n            \"value\": 0.2\n          },\n          \"strokeWidth\": {\n            \"value\": 0\n          }\n        }\n      }\n    },\n    {\n      \"type\": \"rect\",\n      \"name\": \"c219fb74-25f5-4ad8-8774-6818f800f5e3\",\n      \"description\": \"Vertical Range\",\n      \"clip\": true,\n      \"encode\": {\n        \"enter\": {\n          \"x\": {\n            \"scale\": \"xscale\",\n            \"signal\": \"datetime(2016, 2, 22, 12, 30, 43)\"\n          },\n          \"x2\": {\n            \"scale\": \"xscale\",\n            \"signal\": \"datetime(2016, 2, 22, 12, 30, 49)\"\n          },\n          \"y\": {\n            \"value\": 0\n          },\n          \"y2\": {\n            \"field\": {\n              \"group\": \"height\"\n            }\n          },\n          \"fill\": {\n            \"value\": \"#1f78b4\"\n          },\n          \"fillOpacity\": {\n            \"value\": 0.2\n          },\n          \"stroke\": {\n            \"value\": \"#000000\"\n          },\n          \"strokeOpacity\": {\n            \"value\": 0.2\n          },\n          \"strokeWidth\": {\n            \"value\": 0\n          }\n        }\n      }\n    },\n    {\n      \"type\": \"rect\",\n      \"name\": \"c6247cb3-f631-4298-8e2a-417980c518b0\",\n      \"description\": \"Horizontal Range\",\n      \"clip\": true,\n      \"encode\": {\n        \"enter\": {\n          \"x\": {\n            \"value\": 0\n          },\n          \"x2\": {\n            \"field\": {\n              \"group\": \"width\"\n            }\n          },\n          \"y\": {\n            \"scale\": \"yscale\",\n            \"value\": 8.0\n          },\n          \"y2\": {\n            \"scale\": \"yscale\",\n            \"value\": 11.0\n          },\n          \"fill\": {\n            \"value\": \"#b2df8a\"\n          },\n          \"fillOpacity\": {\n            \"value\": 0.2\n          },\n          \"stroke\": {\n            \"value\": \"#000000\"\n          },\n          \"strokeOpacity\": {\n            \"value\": 0.2\n          },\n          \"strokeWidth\": {\n            \"value\": 0\n          }\n        }\n      }\n    }\n  ],\n  \"axes\": [\n    {\n      \"orient\": \"bottom\",\n      \"scale\": \"xscale\",\n      \"title\": \"Time\"\n    },\n    {\n      \"orient\": \"left\",\n      \"scale\": \"yscale\",\n      \"title\": \"Intensity\"\n    }\n  ],\n  \"scales\": [\n    {\n      \"name\": \"xscale\",\n      \"type\": \"time\",\n      \"range\": \"width\",\n      \"zero\": false,\n      \"padding\": 36,\n      \"domain\": [\n        {\n          \"signal\": \"datetime(2016, 2, 22, 12, 30, 31)\"\n        },\n        {\n          \"signal\": \"datetime(2016, 2, 22, 12, 30, 58)\"\n        }\n      ]\n    },\n    {\n      \"name\": \"yscale\",\n      \"type\": \"linear\",\n      \"range\": \"height\",\n      \"zero\": false,\n      \"padding\": 36,\n      \"domain\": [\n        2.0,\n        12.0\n      ]\n    }\n  ]\n}",
       "width": 600
      }
     },
     "2a9c3aefe3014f84a16f88a837bad588": {
      "model_module": "jupyter-aas-timeseries",
      "model_module_version": "^0.1.6",
      "model_name": "TimeSeriesModel",
      "state": {
       "_model_module_version": "^0.1.6",
       "_view_module_version": "^0.1.6",
       "height": 480,
       "layout": "IPY_MODEL_fec3cfd63e424614b347996b0fd6c3e1",
       "vega_json": "{\n  \"$schema\": \"https://vega.github.io/schema/vega/v4.json\",\n  \"width\": 600,\n  \"height\": 400,\n  \"padding\": 0,\n  \"autosize\": {\n    \"type\": \"fit\",\n    \"resize\": false\n  },\n  \"data\": [\n    {\n      \"name\": \"fb65add2-b390-4340-87cf-dc080bbee8da\",\n      \"format\": {\n        \"type\": \"csv\",\n        \"parse\": {\n          \"time\": \"date\",\n          \"flux\": \"number\",\n          \"error\": \"number\",\n          \"flux_lo\": \"number\",\n          \"flux_hi\": \"number\"\n        }\n      },\n      \"values\": \"time,flux,error,flux_lo,flux_hi\\n2016-03-22T12:30:31.000,10.0,2.0,8.0,12.0\\n2016-03-22T12:30:34.000,11.0,2.5,8.5,13.5\\n2016-03-22T12:30:37.000,9.0,2.0,7.0,11.0\\n2016-03-22T12:30:40.000,10.0,1.5,8.5,11.5\\n2016-03-22T12:30:43.000,2.0,2.0,0.0,4.0\\n2016-03-22T12:30:46.000,3.0,2.0,1.0,5.0\\n2016-03-22T12:30:49.000,5.0,1.5,3.5,6.5\\n2016-03-22T12:30:52.000,12.0,1.5,10.5,13.5\\n2016-03-22T12:30:55.000,11.0,2.0,9.0,13.0\\n2016-03-22T12:30:58.000,10.0,2.5,7.5,12.5\\n\"\n    }\n  ],\n  \"marks\": [\n    {\n      \"type\": \"symbol\",\n      \"name\": \"56590664-cd06-4ad0-b159-d0279f0d762f\",\n      \"description\": \"Flux\",\n      \"clip\": true,\n      \"from\": {\n        \"data\": \"fb65add2-b390-4340-87cf-dc080bbee8da\"\n      },\n      \"encode\": {\n        \"enter\": {\n          \"x\": {\n            \"scale\": \"xscale\",\n            \"field\": \"time\"\n          },\n          \"y\": {\n            \"scale\": \"yscale\",\n            \"field\": \"flux\"\n          },\n          \"shape\": {\n            \"value\": \"circle\"\n          }\n        },\n        \"update\": {\n          \"shape\": {\n            \"value\": \"circle\"\n          },\n          \"size\": {\n            \"value\": 40\n          },\n          \"fill\": {\n            \"value\": \"#000000\"\n          },\n          \"fillOpacity\": {\n            \"value\": 1\n          },\n          \"stroke\": {\n            \"value\": \"#000000\"\n          },\n          \"strokeOpacity\": {\n            \"value\": 0.2\n          },\n          \"strokeWidth\": {\n            \"value\": 0\n          }\n        }\n      }\n    },\n    {\n      \"type\": \"rect\",\n      \"name\": \"56590664-cd06-4ad0-b159-d0279f0d762f\",\n      \"description\": \"Flux\",\n      \"clip\": true,\n      \"from\": {\n        \"data\": \"fb65add2-b390-4340-87cf-dc080bbee8da\"\n      },\n      \"encode\": {\n        \"enter\": {\n          \"x\": {\n            \"scale\": \"xscale\",\n            \"field\": \"time\"\n          },\n          \"y\": {\n            \"scale\": \"yscale\",\n            \"signal\": \"datum['flux'] - datum['error']\"\n          },\n          \"y2\": {\n            \"scale\": \"yscale\",\n            \"signal\": \"datum['flux'] + datum['error']\"\n          }\n        },\n        \"update\": {\n          \"shape\": {\n            \"value\": \"circle\"\n          },\n          \"width\": {\n            \"value\": 1\n          },\n          \"fill\": {\n            \"value\": \"#000000\"\n          },\n          \"fillOpacity\": {\n            \"value\": 1\n          },\n          \"stroke\": {\n            \"value\": \"#000000\"\n          },\n          \"strokeOpacity\": {\n            \"value\": 0.2\n          },\n          \"strokeWidth\": {\n            \"value\": 0\n          }\n        }\n      }\n    },\n    {\n      \"type\": \"line\",\n      \"name\": \"bd23f57b-9582-4027-9506-abc5455c09df\",\n      \"description\": \"Flux\",\n      \"clip\": true,\n      \"from\": {\n        \"data\": \"fb65add2-b390-4340-87cf-dc080bbee8da\"\n      },\n      \"encode\": {\n        \"enter\": {\n          \"x\": {\n            \"scale\": \"xscale\",\n            \"field\": \"time\"\n          },\n          \"y\": {\n            \"scale\": \"yscale\",\n            \"field\": \"flux\"\n          },\n          \"stroke\": {\n            \"value\": \"#000000\"\n          },\n          \"strokeOpacity\": {\n            \"value\": 1\n          },\n          \"strokeWidth\": {\n            \"value\": 2\n          }\n        }\n      }\n    },\n    {\n      \"type\": \"rule\",\n      \"name\": \"41c490ac-04d4-41d9-85e0-6738930c4379\",\n      \"description\": \"Special event\",\n      \"clip\": true,\n      \"encode\": {\n        \"enter\": {\n          \"x\": {\n            \"scale\": \"xscale\",\n            \"signal\": \"datetime(2016, 2, 22, 12, 30, 46)\"\n          },\n          \"y\": {\n            \"value\": 0\n          },\n          \"y2\": {\n            \"field\": {\n              \"group\": \"height\"\n            }\n          },\n          \"strokeWidth\": {\n            \"value\": 1\n          },\n          \"stroke\": {\n            \"value\": \"#000000\"\n          },\n          \"strokeOpacity\": {\n            \"value\": 1\n          }\n        }\n      }\n    },\n    {\n      \"type\": \"rule\",\n      \"name\": \"69c2f31c-184f-40c4-bd24-020d9e081f8c\",\n      \"description\": \"Baseline flux\",\n      \"clip\": true,\n      \"encode\": {\n        \"enter\": {\n          \"x\": {\n            \"value\": 0\n          },\n          \"x2\": {\n            \"field\": {\n              \"group\": \"width\"\n            }\n          },\n          \"y\": {\n            \"scale\": \"yscale\",\n            \"value\": 10.0\n          },\n          \"strokeWidth\": {\n            \"value\": 1\n          },\n          \"stroke\": {\n            \"value\": \"#000000\"\n          },\n          \"strokeOpacity\": {\n            \"value\": 1\n          }\n        }\n      }\n    },\n    {\n      \"type\": \"area\",\n      \"name\": \"26a4b3ee-2161-463b-a06e-8c7b91a64815\",\n      \"description\": \"Range\",\n      \"clip\": true,\n      \"from\": {\n        \"data\": \"fb65add2-b390-4340-87cf-dc080bbee8da\"\n      },\n      \"encode\": {\n        \"enter\": {\n          \"x\": {\n            \"scale\": \"xscale\",\n            \"field\": \"time\"\n          },\n          \"y\": {\n            \"scale\": \"yscale\",\n            \"field\": \"flux_lo\"\n          },\n          \"y2\": {\n            \"scale\": \"yscale\",\n            \"field\": \"flux_hi\"\n          },\n          \"fill\": {\n            \"value\": \"#a6cee3\"\n          },\n          \"fillOpacity\": {\n            \"value\": 0.2\n          },\n          \"stroke\": {\n            \"value\": \"#000000\"\n          },\n          \"strokeOpacity\": {\n            \"value\": 0.2\n          },\n          \"strokeWidth\": {\n            \"value\": 0\n          }\n        }\n      }\n    }\n  ],\n  \"axes\": [\n    {\n      \"orient\": \"bottom\",\n      \"scale\": \"xscale\",\n      \"title\": \"Time\"\n    },\n    {\n      \"orient\": \"left\",\n      \"scale\": \"yscale\",\n      \"title\": \"Intensity\"\n    }\n  ],\n  \"scales\": [\n    {\n      \"name\": \"xscale\",\n      \"type\": \"time\",\n      \"range\": \"width\",\n      \"zero\": false,\n      \"padding\": 36,\n      \"domain\": [\n        {\n          \"signal\": \"datetime(2016, 2, 22, 12, 30, 31)\"\n        },\n        {\n          \"signal\": \"datetime(2016, 2, 22, 12, 30, 58)\"\n        }\n      ]\n    },\n    {\n      \"name\": \"yscale\",\n      \"type\": \"linear\",\n      \"range\": \"height\",\n      \"zero\": false,\n      \"padding\": 36,\n      \"domain\": [\n        2.0,\n        12.0\n      ]\n    }\n  ]\n}",
       "width": 600
      }
     },
     "33220a1962e24aecb96b70e0bf378dd5": {
      "model_module": "jupyter-aas-timeseries",
      "model_module_version": "^0.1.6",
      "model_name": "TimeSeriesModel",
      "state": {
       "_model_module_version": "^0.1.6",
       "_view_module_version": "^0.1.6",
       "height": 480,
       "layout": "IPY_MODEL_1813b74d491649ddad230764f11a0ea4",
       "vega_json": "{\n  \"$schema\": \"https://vega.github.io/schema/vega/v4.json\",\n  \"width\": 600,\n  \"height\": 400,\n  \"padding\": 0,\n  \"autosize\": {\n    \"type\": \"fit\",\n    \"resize\": false\n  },\n  \"data\": [\n    {\n      \"name\": \"6feccf06-bb20-4fd5-85c4-b8565a1a3622\",\n      \"format\": {\n        \"type\": \"csv\",\n        \"parse\": {\n          \"time\": \"date\",\n          \"flux\": \"number\",\n          \"error\": \"number\",\n          \"flux_lo\": \"number\",\n          \"flux_hi\": \"number\"\n        }\n      },\n      \"values\": \"time,flux,error,flux_lo,flux_hi\\n2016-03-22T12:30:31.000,10.0,2.0,8.0,12.0\\n2016-03-22T12:30:34.000,11.0,2.5,8.5,13.5\\n2016-03-22T12:30:37.000,9.0,2.0,7.0,11.0\\n2016-03-22T12:30:40.000,10.0,1.5,8.5,11.5\\n2016-03-22T12:30:43.000,2.0,2.0,0.0,4.0\\n2016-03-22T12:30:46.000,3.0,2.0,1.0,5.0\\n2016-03-22T12:30:49.000,5.0,1.5,3.5,6.5\\n2016-03-22T12:30:52.000,12.0,1.5,10.5,13.5\\n2016-03-22T12:30:55.000,11.0,2.0,9.0,13.0\\n2016-03-22T12:30:58.000,10.0,2.5,7.5,12.5\\n\"\n    }\n  ],\n  \"marks\": [\n    {\n      \"type\": \"symbol\",\n      \"name\": \"3d1aaf1d-31b8-46bd-8fa3-b7310a7e3461\",\n      \"description\": \"Flux\",\n      \"clip\": true,\n      \"from\": {\n        \"data\": \"6feccf06-bb20-4fd5-85c4-b8565a1a3622\"\n      },\n      \"encode\": {\n        \"enter\": {\n          \"x\": {\n            \"scale\": \"xscale\",\n            \"field\": \"time\"\n          },\n          \"y\": {\n            \"scale\": \"yscale\",\n            \"field\": \"flux\"\n          },\n          \"shape\": {\n            \"value\": \"circle\"\n          }\n        },\n        \"update\": {\n          \"shape\": {\n            \"value\": \"circle\"\n          },\n          \"size\": {\n            \"value\": 40\n          },\n          \"fill\": {\n            \"value\": \"#000000\"\n          },\n          \"fillOpacity\": {\n            \"value\": 1\n          },\n          \"stroke\": {\n            \"value\": \"#000000\"\n          },\n          \"strokeOpacity\": {\n            \"value\": 0.2\n          },\n          \"strokeWidth\": {\n            \"value\": 0\n          }\n        }\n      }\n    },\n    {\n      \"type\": \"rect\",\n      \"name\": \"3d1aaf1d-31b8-46bd-8fa3-b7310a7e3461\",\n      \"description\": \"Flux\",\n      \"clip\": true,\n      \"from\": {\n        \"data\": \"6feccf06-bb20-4fd5-85c4-b8565a1a3622\"\n      },\n      \"encode\": {\n        \"enter\": {\n          \"x\": {\n            \"scale\": \"xscale\",\n            \"field\": \"time\"\n          },\n          \"y\": {\n            \"scale\": \"yscale\",\n            \"signal\": \"datum['flux'] - datum['error']\"\n          },\n          \"y2\": {\n            \"scale\": \"yscale\",\n            \"signal\": \"datum['flux'] + datum['error']\"\n          }\n        },\n        \"update\": {\n          \"shape\": {\n            \"value\": \"circle\"\n          },\n          \"width\": {\n            \"value\": 1\n          },\n          \"fill\": {\n            \"value\": \"#000000\"\n          },\n          \"fillOpacity\": {\n            \"value\": 1\n          },\n          \"stroke\": {\n            \"value\": \"#000000\"\n          },\n          \"strokeOpacity\": {\n            \"value\": 0.2\n          },\n          \"strokeWidth\": {\n            \"value\": 0\n          }\n        }\n      }\n    },\n    {\n      \"type\": \"line\",\n      \"name\": \"69ece06b-5b2f-41fc-a477-7d27c39ba82e\",\n      \"description\": \"Flux\",\n      \"clip\": true,\n      \"from\": {\n        \"data\": \"6feccf06-bb20-4fd5-85c4-b8565a1a3622\"\n      },\n      \"encode\": {\n        \"enter\": {\n          \"x\": {\n            \"scale\": \"xscale\",\n            \"field\": \"time\"\n          },\n          \"y\": {\n            \"scale\": \"yscale\",\n            \"field\": \"flux\"\n          },\n          \"stroke\": {\n            \"value\": \"#000000\"\n          },\n          \"strokeOpacity\": {\n            \"value\": 1\n          },\n          \"strokeWidth\": {\n            \"value\": 2\n          }\n        }\n      }\n    },\n    {\n      \"type\": \"rule\",\n      \"name\": \"fba42ef8-882d-474b-9efe-14c91067bcd7\",\n      \"description\": \"Special event\",\n      \"clip\": true,\n      \"encode\": {\n        \"enter\": {\n          \"x\": {\n            \"scale\": \"xscale\",\n            \"signal\": \"datetime(2016, 2, 22, 12, 30, 46)\"\n          },\n          \"y\": {\n            \"value\": 0\n          },\n          \"y2\": {\n            \"field\": {\n              \"group\": \"height\"\n            }\n          },\n          \"strokeWidth\": {\n            \"value\": 1\n          },\n          \"stroke\": {\n            \"value\": \"#000000\"\n          },\n          \"strokeOpacity\": {\n            \"value\": 1\n          }\n        }\n      }\n    },\n    {\n      \"type\": \"rule\",\n      \"name\": \"5f2a1eb2-2314-4918-9682-6fe410137887\",\n      \"description\": \"Baseline flux\",\n      \"clip\": true,\n      \"encode\": {\n        \"enter\": {\n          \"x\": {\n            \"value\": 0\n          },\n          \"x2\": {\n            \"field\": {\n              \"group\": \"width\"\n            }\n          },\n          \"y\": {\n            \"scale\": \"yscale\",\n            \"value\": 10.0\n          },\n          \"strokeWidth\": {\n            \"value\": 1\n          },\n          \"stroke\": {\n            \"value\": \"#000000\"\n          },\n          \"strokeOpacity\": {\n            \"value\": 1\n          }\n        }\n      }\n    },\n    {\n      \"type\": \"area\",\n      \"name\": \"d0efd74b-5d2f-41db-a3d3-ff69c3db2620\",\n      \"description\": \"Range\",\n      \"clip\": true,\n      \"from\": {\n        \"data\": \"6feccf06-bb20-4fd5-85c4-b8565a1a3622\"\n      },\n      \"encode\": {\n        \"enter\": {\n          \"x\": {\n            \"scale\": \"xscale\",\n            \"field\": \"time\"\n          },\n          \"y\": {\n            \"scale\": \"yscale\",\n            \"field\": \"flux_lo\"\n          },\n          \"y2\": {\n            \"scale\": \"yscale\",\n            \"field\": \"flux_hi\"\n          },\n          \"fill\": {\n            \"value\": \"#a6cee3\"\n          },\n          \"fillOpacity\": {\n            \"value\": 0.2\n          },\n          \"stroke\": {\n            \"value\": \"#000000\"\n          },\n          \"strokeOpacity\": {\n            \"value\": 0.2\n          },\n          \"strokeWidth\": {\n            \"value\": 0\n          }\n        }\n      }\n    },\n    {\n      \"type\": \"rect\",\n      \"name\": \"c219fb74-25f5-4ad8-8774-6818f800f5e3\",\n      \"description\": \"Vertical Range\",\n      \"clip\": true,\n      \"encode\": {\n        \"enter\": {\n          \"x\": {\n            \"scale\": \"xscale\",\n            \"signal\": \"datetime(2016, 2, 22, 12, 30, 43)\"\n          },\n          \"x2\": {\n            \"scale\": \"xscale\",\n            \"signal\": \"datetime(2016, 2, 22, 12, 30, 49)\"\n          },\n          \"y\": {\n            \"value\": 0\n          },\n          \"y2\": {\n            \"field\": {\n              \"group\": \"height\"\n            }\n          },\n          \"fill\": {\n            \"value\": \"#1f78b4\"\n          },\n          \"fillOpacity\": {\n            \"value\": 0.2\n          },\n          \"stroke\": {\n            \"value\": \"#000000\"\n          },\n          \"strokeOpacity\": {\n            \"value\": 0.2\n          },\n          \"strokeWidth\": {\n            \"value\": 0\n          }\n        }\n      }\n    },\n    {\n      \"type\": \"rect\",\n      \"name\": \"c6247cb3-f631-4298-8e2a-417980c518b0\",\n      \"description\": \"Horizontal Range\",\n      \"clip\": true,\n      \"encode\": {\n        \"enter\": {\n          \"x\": {\n            \"value\": 0\n          },\n          \"x2\": {\n            \"field\": {\n              \"group\": \"width\"\n            }\n          },\n          \"y\": {\n            \"scale\": \"yscale\",\n            \"value\": 8.0\n          },\n          \"y2\": {\n            \"scale\": \"yscale\",\n            \"value\": 11.0\n          },\n          \"fill\": {\n            \"value\": \"#b2df8a\"\n          },\n          \"fillOpacity\": {\n            \"value\": 0.2\n          },\n          \"stroke\": {\n            \"value\": \"#000000\"\n          },\n          \"strokeOpacity\": {\n            \"value\": 0.2\n          },\n          \"strokeWidth\": {\n            \"value\": 0\n          }\n        }\n      }\n    }\n  ],\n  \"axes\": [\n    {\n      \"orient\": \"bottom\",\n      \"scale\": \"xscale\",\n      \"title\": \"Time\"\n    },\n    {\n      \"orient\": \"left\",\n      \"scale\": \"yscale\",\n      \"title\": \"Intensity\"\n    }\n  ],\n  \"scales\": [\n    {\n      \"name\": \"xscale\",\n      \"type\": \"time\",\n      \"range\": \"width\",\n      \"zero\": false,\n      \"padding\": 36,\n      \"domain\": [\n        {\n          \"signal\": \"datetime(2016, 2, 22, 12, 30, 31)\"\n        },\n        {\n          \"signal\": \"datetime(2016, 2, 22, 12, 30, 58)\"\n        }\n      ]\n    },\n    {\n      \"name\": \"yscale\",\n      \"type\": \"linear\",\n      \"range\": \"height\",\n      \"zero\": false,\n      \"padding\": 36,\n      \"domain\": [\n        2.0,\n        12.0\n      ]\n    }\n  ]\n}",
       "width": 600
      }
     },
     "3b7a7bcd2ea34c4298955c6b56443a0d": {
      "model_module": "@jupyter-widgets/base",
      "model_module_version": "1.1.0",
      "model_name": "LayoutModel",
      "state": {}
     },
     "3e7711c33c804007bcff2b60465b8cb8": {
      "model_module": "@jupyter-widgets/base",
      "model_module_version": "1.1.0",
      "model_name": "LayoutModel",
      "state": {}
     },
     "493f963026ff45d19eb299a36419d633": {
      "model_module": "@jupyter-widgets/base",
      "model_module_version": "1.1.0",
      "model_name": "LayoutModel",
      "state": {}
     },
     "4bac093eeb364f2ba21da7a156356c76": {
      "model_module": "jupyter-aas-timeseries",
      "model_module_version": "^0.1.6",
      "model_name": "TimeSeriesModel",
      "state": {
       "_model_module_version": "^0.1.6",
       "_view_module_version": "^0.1.6",
       "height": 480,
       "layout": "IPY_MODEL_9259ee0898e14a0a8bea3c8737fbb9e9",
       "vega_json": "{\n  \"$schema\": \"https://vega.github.io/schema/vega/v4.json\",\n  \"width\": 600,\n  \"height\": 400,\n  \"padding\": 0,\n  \"autosize\": {\n    \"type\": \"fit\",\n    \"resize\": false\n  },\n  \"data\": [\n    {\n      \"name\": \"6feccf06-bb20-4fd5-85c4-b8565a1a3622\",\n      \"format\": {\n        \"type\": \"csv\",\n        \"parse\": {\n          \"time\": \"date\",\n          \"flux\": \"number\",\n          \"error\": \"number\",\n          \"flux_lo\": \"number\",\n          \"flux_hi\": \"number\"\n        }\n      },\n      \"values\": \"time,flux,error,flux_lo,flux_hi\\n2016-03-22T12:30:31.000,10.0,2.0,8.0,12.0\\n2016-03-22T12:30:34.000,11.0,2.5,8.5,13.5\\n2016-03-22T12:30:37.000,9.0,2.0,7.0,11.0\\n2016-03-22T12:30:40.000,10.0,1.5,8.5,11.5\\n2016-03-22T12:30:43.000,2.0,2.0,0.0,4.0\\n2016-03-22T12:30:46.000,3.0,2.0,1.0,5.0\\n2016-03-22T12:30:49.000,5.0,1.5,3.5,6.5\\n2016-03-22T12:30:52.000,12.0,1.5,10.5,13.5\\n2016-03-22T12:30:55.000,11.0,2.0,9.0,13.0\\n2016-03-22T12:30:58.000,10.0,2.5,7.5,12.5\\n\"\n    }\n  ],\n  \"marks\": [\n    {\n      \"type\": \"symbol\",\n      \"name\": \"3d1aaf1d-31b8-46bd-8fa3-b7310a7e3461\",\n      \"description\": \"Flux\",\n      \"clip\": true,\n      \"from\": {\n        \"data\": \"6feccf06-bb20-4fd5-85c4-b8565a1a3622\"\n      },\n      \"encode\": {\n        \"enter\": {\n          \"x\": {\n            \"scale\": \"xscale\",\n            \"field\": \"time\"\n          },\n          \"y\": {\n            \"scale\": \"yscale\",\n            \"field\": \"flux\"\n          },\n          \"shape\": {\n            \"value\": \"circle\"\n          }\n        },\n        \"update\": {\n          \"shape\": {\n            \"value\": \"circle\"\n          },\n          \"size\": {\n            \"value\": 40\n          },\n          \"fill\": {\n            \"value\": \"#000000\"\n          },\n          \"fillOpacity\": {\n            \"value\": 1\n          },\n          \"stroke\": {\n            \"value\": \"#000000\"\n          },\n          \"strokeOpacity\": {\n            \"value\": 0.2\n          },\n          \"strokeWidth\": {\n            \"value\": 0\n          }\n        }\n      }\n    },\n    {\n      \"type\": \"rect\",\n      \"name\": \"3d1aaf1d-31b8-46bd-8fa3-b7310a7e3461\",\n      \"description\": \"Flux\",\n      \"clip\": true,\n      \"from\": {\n        \"data\": \"6feccf06-bb20-4fd5-85c4-b8565a1a3622\"\n      },\n      \"encode\": {\n        \"enter\": {\n          \"x\": {\n            \"scale\": \"xscale\",\n            \"field\": \"time\"\n          },\n          \"y\": {\n            \"scale\": \"yscale\",\n            \"signal\": \"datum['flux'] - datum['error']\"\n          },\n          \"y2\": {\n            \"scale\": \"yscale\",\n            \"signal\": \"datum['flux'] + datum['error']\"\n          }\n        },\n        \"update\": {\n          \"shape\": {\n            \"value\": \"circle\"\n          },\n          \"width\": {\n            \"value\": 1\n          },\n          \"fill\": {\n            \"value\": \"#000000\"\n          },\n          \"fillOpacity\": {\n            \"value\": 1\n          },\n          \"stroke\": {\n            \"value\": \"#000000\"\n          },\n          \"strokeOpacity\": {\n            \"value\": 0.2\n          },\n          \"strokeWidth\": {\n            \"value\": 0\n          }\n        }\n      }\n    },\n    {\n      \"type\": \"line\",\n      \"name\": \"69ece06b-5b2f-41fc-a477-7d27c39ba82e\",\n      \"description\": \"Flux\",\n      \"clip\": true,\n      \"from\": {\n        \"data\": \"6feccf06-bb20-4fd5-85c4-b8565a1a3622\"\n      },\n      \"encode\": {\n        \"enter\": {\n          \"x\": {\n            \"scale\": \"xscale\",\n            \"field\": \"time\"\n          },\n          \"y\": {\n            \"scale\": \"yscale\",\n            \"field\": \"flux\"\n          },\n          \"stroke\": {\n            \"value\": \"#000000\"\n          },\n          \"strokeOpacity\": {\n            \"value\": 1\n          },\n          \"strokeWidth\": {\n            \"value\": 2\n          }\n        }\n      }\n    },\n    {\n      \"type\": \"rule\",\n      \"name\": \"fba42ef8-882d-474b-9efe-14c91067bcd7\",\n      \"description\": \"Special event\",\n      \"clip\": true,\n      \"encode\": {\n        \"enter\": {\n          \"x\": {\n            \"scale\": \"xscale\",\n            \"signal\": \"datetime(2016, 2, 22, 12, 30, 46)\"\n          },\n          \"y\": {\n            \"value\": 0\n          },\n          \"y2\": {\n            \"field\": {\n              \"group\": \"height\"\n            }\n          },\n          \"strokeWidth\": {\n            \"value\": 1\n          },\n          \"stroke\": {\n            \"value\": \"#000000\"\n          },\n          \"strokeOpacity\": {\n            \"value\": 1\n          }\n        }\n      }\n    },\n    {\n      \"type\": \"rule\",\n      \"name\": \"5f2a1eb2-2314-4918-9682-6fe410137887\",\n      \"description\": \"Baseline flux\",\n      \"clip\": true,\n      \"encode\": {\n        \"enter\": {\n          \"x\": {\n            \"value\": 0\n          },\n          \"x2\": {\n            \"field\": {\n              \"group\": \"width\"\n            }\n          },\n          \"y\": {\n            \"scale\": \"yscale\",\n            \"value\": 10.0\n          },\n          \"strokeWidth\": {\n            \"value\": 1\n          },\n          \"stroke\": {\n            \"value\": \"#000000\"\n          },\n          \"strokeOpacity\": {\n            \"value\": 1\n          }\n        }\n      }\n    },\n    {\n      \"type\": \"area\",\n      \"name\": \"d0efd74b-5d2f-41db-a3d3-ff69c3db2620\",\n      \"description\": \"Range\",\n      \"clip\": true,\n      \"from\": {\n        \"data\": \"6feccf06-bb20-4fd5-85c4-b8565a1a3622\"\n      },\n      \"encode\": {\n        \"enter\": {\n          \"x\": {\n            \"scale\": \"xscale\",\n            \"field\": \"time\"\n          },\n          \"y\": {\n            \"scale\": \"yscale\",\n            \"field\": \"flux_lo\"\n          },\n          \"y2\": {\n            \"scale\": \"yscale\",\n            \"field\": \"flux_hi\"\n          },\n          \"fill\": {\n            \"value\": \"#a6cee3\"\n          },\n          \"fillOpacity\": {\n            \"value\": 0.2\n          },\n          \"stroke\": {\n            \"value\": \"#000000\"\n          },\n          \"strokeOpacity\": {\n            \"value\": 0.2\n          },\n          \"strokeWidth\": {\n            \"value\": 0\n          }\n        }\n      }\n    }\n  ],\n  \"axes\": [\n    {\n      \"orient\": \"bottom\",\n      \"scale\": \"xscale\",\n      \"title\": \"Time\"\n    },\n    {\n      \"orient\": \"left\",\n      \"scale\": \"yscale\",\n      \"title\": \"Intensity\"\n    }\n  ],\n  \"scales\": [\n    {\n      \"name\": \"xscale\",\n      \"type\": \"time\",\n      \"range\": \"width\",\n      \"zero\": false,\n      \"padding\": 36,\n      \"domain\": [\n        {\n          \"signal\": \"datetime(2016, 2, 22, 12, 30, 31)\"\n        },\n        {\n          \"signal\": \"datetime(2016, 2, 22, 12, 30, 58)\"\n        }\n      ]\n    },\n    {\n      \"name\": \"yscale\",\n      \"type\": \"linear\",\n      \"range\": \"height\",\n      \"zero\": false,\n      \"padding\": 36,\n      \"domain\": [\n        2.0,\n        12.0\n      ]\n    }\n  ]\n}",
       "width": 600
      }
     },
     "5f059d22464148749a64b9897dc76e53": {
      "model_module": "jupyter-aas-timeseries",
      "model_module_version": "^0.1.6",
      "model_name": "TimeSeriesModel",
      "state": {
       "_model_module_version": "^0.1.6",
       "_view_module_version": "^0.1.6",
       "height": 480,
       "layout": "IPY_MODEL_799cea684c654adc979c9e4dfd7e50a6",
       "vega_json": "{\n  \"$schema\": \"https://vega.github.io/schema/vega/v4.json\",\n  \"width\": 600,\n  \"height\": 400,\n  \"padding\": 0,\n  \"autosize\": {\n    \"type\": \"fit\",\n    \"resize\": false\n  },\n  \"data\": [\n    {\n      \"name\": \"fb65add2-b390-4340-87cf-dc080bbee8da\",\n      \"format\": {\n        \"type\": \"csv\",\n        \"parse\": {\n          \"time\": \"date\",\n          \"flux\": \"number\",\n          \"error\": \"number\"\n        }\n      },\n      \"values\": \"time,flux,error\\n2016-03-22T12:30:31.000,10.0,2.0\\n2016-03-22T12:30:34.000,11.0,2.5\\n2016-03-22T12:30:37.000,9.0,2.0\\n2016-03-22T12:30:40.000,10.0,1.5\\n2016-03-22T12:30:43.000,2.0,2.0\\n2016-03-22T12:30:46.000,3.0,2.0\\n2016-03-22T12:30:49.000,5.0,1.5\\n2016-03-22T12:30:52.000,12.0,1.5\\n2016-03-22T12:30:55.000,11.0,2.0\\n2016-03-22T12:30:58.000,10.0,2.5\\n\"\n    }\n  ],\n  \"marks\": [\n    {\n      \"type\": \"symbol\",\n      \"name\": \"56590664-cd06-4ad0-b159-d0279f0d762f\",\n      \"description\": \"Flux\",\n      \"clip\": true,\n      \"from\": {\n        \"data\": \"fb65add2-b390-4340-87cf-dc080bbee8da\"\n      },\n      \"encode\": {\n        \"enter\": {\n          \"x\": {\n            \"scale\": \"xscale\",\n            \"field\": \"time\"\n          },\n          \"y\": {\n            \"scale\": \"yscale\",\n            \"field\": \"flux\"\n          },\n          \"shape\": {\n            \"value\": \"circle\"\n          }\n        },\n        \"update\": {\n          \"shape\": {\n            \"value\": \"circle\"\n          },\n          \"size\": {\n            \"value\": 40\n          },\n          \"fill\": {\n            \"value\": \"#000000\"\n          },\n          \"fillOpacity\": {\n            \"value\": 1\n          },\n          \"stroke\": {\n            \"value\": \"#000000\"\n          },\n          \"strokeOpacity\": {\n            \"value\": 0.2\n          },\n          \"strokeWidth\": {\n            \"value\": 0\n          }\n        }\n      }\n    },\n    {\n      \"type\": \"rect\",\n      \"name\": \"56590664-cd06-4ad0-b159-d0279f0d762f\",\n      \"description\": \"Flux\",\n      \"clip\": true,\n      \"from\": {\n        \"data\": \"fb65add2-b390-4340-87cf-dc080bbee8da\"\n      },\n      \"encode\": {\n        \"enter\": {\n          \"x\": {\n            \"scale\": \"xscale\",\n            \"field\": \"time\"\n          },\n          \"y\": {\n            \"scale\": \"yscale\",\n            \"signal\": \"datum['flux'] - datum['error']\"\n          },\n          \"y2\": {\n            \"scale\": \"yscale\",\n            \"signal\": \"datum['flux'] + datum['error']\"\n          }\n        },\n        \"update\": {\n          \"shape\": {\n            \"value\": \"circle\"\n          },\n          \"width\": {\n            \"value\": 1\n          },\n          \"fill\": {\n            \"value\": \"#000000\"\n          },\n          \"fillOpacity\": {\n            \"value\": 1\n          },\n          \"stroke\": {\n            \"value\": \"#000000\"\n          },\n          \"strokeOpacity\": {\n            \"value\": 0.2\n          },\n          \"strokeWidth\": {\n            \"value\": 0\n          }\n        }\n      }\n    },\n    {\n      \"type\": \"line\",\n      \"name\": \"bd23f57b-9582-4027-9506-abc5455c09df\",\n      \"description\": \"Flux\",\n      \"clip\": true,\n      \"from\": {\n        \"data\": \"fb65add2-b390-4340-87cf-dc080bbee8da\"\n      },\n      \"encode\": {\n        \"enter\": {\n          \"x\": {\n            \"scale\": \"xscale\",\n            \"field\": \"time\"\n          },\n          \"y\": {\n            \"scale\": \"yscale\",\n            \"field\": \"flux\"\n          },\n          \"stroke\": {\n            \"value\": \"#000000\"\n          },\n          \"strokeOpacity\": {\n            \"value\": 1\n          },\n          \"strokeWidth\": {\n            \"value\": 1\n          }\n        }\n      }\n    }\n  ],\n  \"axes\": [\n    {\n      \"orient\": \"bottom\",\n      \"scale\": \"xscale\",\n      \"title\": \"Time\"\n    },\n    {\n      \"orient\": \"left\",\n      \"scale\": \"yscale\",\n      \"title\": \"Intensity\"\n    }\n  ],\n  \"scales\": [\n    {\n      \"name\": \"xscale\",\n      \"type\": \"time\",\n      \"range\": \"width\",\n      \"zero\": false,\n      \"padding\": 36,\n      \"domain\": [\n        {\n          \"signal\": \"datetime(2016, 2, 22, 12, 30, 31)\"\n        },\n        {\n          \"signal\": \"datetime(2016, 2, 22, 12, 30, 58)\"\n        }\n      ]\n    },\n    {\n      \"name\": \"yscale\",\n      \"type\": \"linear\",\n      \"range\": \"height\",\n      \"zero\": false,\n      \"padding\": 36,\n      \"domain\": [\n        2.0,\n        12.0\n      ]\n    }\n  ]\n}",
       "width": 600
      }
     },
     "608cec072d324b81bff3a2243e26dfa0": {
      "model_module": "@jupyter-widgets/base",
      "model_module_version": "1.1.0",
      "model_name": "LayoutModel",
      "state": {}
     },
     "6808828ecc714d14bc787a51253d4528": {
      "model_module": "@jupyter-widgets/base",
      "model_module_version": "1.1.0",
      "model_name": "LayoutModel",
      "state": {}
     },
     "689cf49274324c6398967d332bf6b913": {
      "model_module": "jupyter-aas-timeseries",
      "model_module_version": "^0.1.6",
      "model_name": "TimeSeriesModel",
      "state": {
       "_model_module_version": "^0.1.6",
       "_view_module_version": "^0.1.6",
       "height": 480,
       "layout": "IPY_MODEL_7c02b61988d845a4ae64d8f6f4651703",
       "vega_json": "{\n  \"$schema\": \"https://vega.github.io/schema/vega/v4.json\",\n  \"width\": 600,\n  \"height\": 400,\n  \"padding\": 0,\n  \"autosize\": {\n    \"type\": \"fit\",\n    \"resize\": false\n  },\n  \"data\": [\n    {\n      \"name\": \"fb65add2-b390-4340-87cf-dc080bbee8da\",\n      \"format\": {\n        \"type\": \"csv\",\n        \"parse\": {\n          \"time\": \"date\",\n          \"flux\": \"number\",\n          \"error\": \"number\"\n        }\n      },\n      \"values\": \"time,flux,error\\n2016-03-22T12:30:31.000,10.0,2.0\\n2016-03-22T12:30:34.000,11.0,2.5\\n2016-03-22T12:30:37.000,9.0,2.0\\n2016-03-22T12:30:40.000,10.0,1.5\\n2016-03-22T12:30:43.000,2.0,2.0\\n2016-03-22T12:30:46.000,3.0,2.0\\n2016-03-22T12:30:49.000,5.0,1.5\\n2016-03-22T12:30:52.000,12.0,1.5\\n2016-03-22T12:30:55.000,11.0,2.0\\n2016-03-22T12:30:58.000,10.0,2.5\\n\"\n    }\n  ],\n  \"marks\": [\n    {\n      \"type\": \"symbol\",\n      \"name\": \"56590664-cd06-4ad0-b159-d0279f0d762f\",\n      \"description\": \"Flux\",\n      \"clip\": true,\n      \"from\": {\n        \"data\": \"fb65add2-b390-4340-87cf-dc080bbee8da\"\n      },\n      \"encode\": {\n        \"enter\": {\n          \"x\": {\n            \"scale\": \"xscale\",\n            \"field\": \"time\"\n          },\n          \"y\": {\n            \"scale\": \"yscale\",\n            \"field\": \"flux\"\n          },\n          \"shape\": {\n            \"value\": \"circle\"\n          }\n        },\n        \"update\": {\n          \"shape\": {\n            \"value\": \"circle\"\n          },\n          \"size\": {\n            \"value\": 40\n          },\n          \"fill\": {\n            \"value\": \"#000000\"\n          },\n          \"fillOpacity\": {\n            \"value\": 1\n          },\n          \"stroke\": {\n            \"value\": \"#000000\"\n          },\n          \"strokeOpacity\": {\n            \"value\": 0.2\n          },\n          \"strokeWidth\": {\n            \"value\": 0\n          }\n        }\n      }\n    },\n    {\n      \"type\": \"rect\",\n      \"name\": \"56590664-cd06-4ad0-b159-d0279f0d762f\",\n      \"description\": \"Flux\",\n      \"clip\": true,\n      \"from\": {\n        \"data\": \"fb65add2-b390-4340-87cf-dc080bbee8da\"\n      },\n      \"encode\": {\n        \"enter\": {\n          \"x\": {\n            \"scale\": \"xscale\",\n            \"field\": \"time\"\n          },\n          \"y\": {\n            \"scale\": \"yscale\",\n            \"signal\": \"datum['flux'] - datum['error']\"\n          },\n          \"y2\": {\n            \"scale\": \"yscale\",\n            \"signal\": \"datum['flux'] + datum['error']\"\n          }\n        },\n        \"update\": {\n          \"shape\": {\n            \"value\": \"circle\"\n          },\n          \"width\": {\n            \"value\": 1\n          },\n          \"fill\": {\n            \"value\": \"#000000\"\n          },\n          \"fillOpacity\": {\n            \"value\": 1\n          },\n          \"stroke\": {\n            \"value\": \"#000000\"\n          },\n          \"strokeOpacity\": {\n            \"value\": 0.2\n          },\n          \"strokeWidth\": {\n            \"value\": 0\n          }\n        }\n      }\n    },\n    {\n      \"type\": \"line\",\n      \"name\": \"bd23f57b-9582-4027-9506-abc5455c09df\",\n      \"description\": \"Flux\",\n      \"clip\": true,\n      \"from\": {\n        \"data\": \"fb65add2-b390-4340-87cf-dc080bbee8da\"\n      },\n      \"encode\": {\n        \"enter\": {\n          \"x\": {\n            \"scale\": \"xscale\",\n            \"field\": \"time\"\n          },\n          \"y\": {\n            \"scale\": \"yscale\",\n            \"field\": \"flux\"\n          },\n          \"stroke\": {\n            \"value\": \"#000000\"\n          },\n          \"strokeOpacity\": {\n            \"value\": 1\n          },\n          \"strokeWidth\": {\n            \"value\": 2\n          }\n        }\n      }\n    },\n    {\n      \"type\": \"rule\",\n      \"name\": \"41c490ac-04d4-41d9-85e0-6738930c4379\",\n      \"description\": \"Special event\",\n      \"clip\": true,\n      \"encode\": {\n        \"enter\": {\n          \"x\": {\n            \"scale\": \"xscale\",\n            \"signal\": \"datetime(2016, 2, 22, 12, 30, 46)\"\n          },\n          \"y\": {\n            \"value\": 0\n          },\n          \"y2\": {\n            \"field\": {\n              \"group\": \"height\"\n            }\n          },\n          \"strokeWidth\": {\n            \"value\": 1\n          },\n          \"stroke\": {\n            \"value\": \"#000000\"\n          },\n          \"strokeOpacity\": {\n            \"value\": 1\n          }\n        }\n      }\n    },\n    {\n      \"type\": \"rule\",\n      \"name\": \"69c2f31c-184f-40c4-bd24-020d9e081f8c\",\n      \"description\": \"Baseline flux\",\n      \"clip\": true,\n      \"encode\": {\n        \"enter\": {\n          \"x\": {\n            \"value\": 0\n          },\n          \"x2\": {\n            \"field\": {\n              \"group\": \"width\"\n            }\n          },\n          \"y\": {\n            \"scale\": \"yscale\",\n            \"value\": 10.0\n          },\n          \"strokeWidth\": {\n            \"value\": 1\n          },\n          \"stroke\": {\n            \"value\": \"#000000\"\n          },\n          \"strokeOpacity\": {\n            \"value\": 1\n          }\n        }\n      }\n    }\n  ],\n  \"axes\": [\n    {\n      \"orient\": \"bottom\",\n      \"scale\": \"xscale\",\n      \"title\": \"Time\"\n    },\n    {\n      \"orient\": \"left\",\n      \"scale\": \"yscale\",\n      \"title\": \"Intensity\"\n    }\n  ],\n  \"scales\": [\n    {\n      \"name\": \"xscale\",\n      \"type\": \"time\",\n      \"range\": \"width\",\n      \"zero\": false,\n      \"padding\": 36,\n      \"domain\": [\n        {\n          \"signal\": \"datetime(2016, 2, 22, 12, 30, 31)\"\n        },\n        {\n          \"signal\": \"datetime(2016, 2, 22, 12, 30, 58)\"\n        }\n      ]\n    },\n    {\n      \"name\": \"yscale\",\n      \"type\": \"linear\",\n      \"range\": \"height\",\n      \"zero\": false,\n      \"padding\": 36,\n      \"domain\": [\n        2.0,\n        12.0\n      ]\n    }\n  ]\n}",
       "width": 600
      }
     },
     "6f1e3cc03ab144aab124e2dc6ad084c2": {
      "model_module": "@jupyter-widgets/base",
      "model_module_version": "1.1.0",
      "model_name": "LayoutModel",
      "state": {}
     },
     "727c2109fce64383bc7c37c974aa0f08": {
      "model_module": "@jupyter-widgets/base",
      "model_module_version": "1.1.0",
      "model_name": "LayoutModel",
      "state": {}
     },
     "799cea684c654adc979c9e4dfd7e50a6": {
      "model_module": "@jupyter-widgets/base",
      "model_module_version": "1.1.0",
      "model_name": "LayoutModel",
      "state": {}
     },
     "7c02b61988d845a4ae64d8f6f4651703": {
      "model_module": "@jupyter-widgets/base",
      "model_module_version": "1.1.0",
      "model_name": "LayoutModel",
      "state": {}
     },
     "7cdce266bb4445a5947aec3e8ba6f9a5": {
      "model_module": "@jupyter-widgets/base",
      "model_module_version": "1.1.0",
      "model_name": "LayoutModel",
      "state": {}
     },
     "7f926256e6f545ae870a2ad210275587": {
      "model_module": "jupyter-aas-timeseries",
      "model_module_version": "^0.1.6",
      "model_name": "TimeSeriesModel",
      "state": {
       "_model_module_version": "^0.1.6",
       "_view_module_version": "^0.1.6",
       "height": 480,
       "layout": "IPY_MODEL_727c2109fce64383bc7c37c974aa0f08",
       "vega_json": "{\n  \"$schema\": \"https://vega.github.io/schema/vega/v4.json\",\n  \"width\": 600,\n  \"height\": 400,\n  \"padding\": 0,\n  \"autosize\": {\n    \"type\": \"fit\",\n    \"resize\": false\n  },\n  \"data\": [\n    {\n      \"name\": \"6feccf06-bb20-4fd5-85c4-b8565a1a3622\",\n      \"format\": {\n        \"type\": \"csv\",\n        \"parse\": {\n          \"time\": \"date\",\n          \"flux\": \"number\",\n          \"error\": \"number\"\n        }\n      },\n      \"values\": \"time,flux,error\\n2016-03-22T12:30:31.000,10.0,2.0\\n2016-03-22T12:30:34.000,11.0,2.5\\n2016-03-22T12:30:37.000,9.0,2.0\\n2016-03-22T12:30:40.000,10.0,1.5\\n2016-03-22T12:30:43.000,2.0,2.0\\n2016-03-22T12:30:46.000,3.0,2.0\\n2016-03-22T12:30:49.000,5.0,1.5\\n2016-03-22T12:30:52.000,12.0,1.5\\n2016-03-22T12:30:55.000,11.0,2.0\\n2016-03-22T12:30:58.000,10.0,2.5\\n\"\n    }\n  ],\n  \"marks\": [\n    {\n      \"type\": \"symbol\",\n      \"name\": \"3d1aaf1d-31b8-46bd-8fa3-b7310a7e3461\",\n      \"description\": \"Flux\",\n      \"clip\": true,\n      \"from\": {\n        \"data\": \"6feccf06-bb20-4fd5-85c4-b8565a1a3622\"\n      },\n      \"encode\": {\n        \"enter\": {\n          \"x\": {\n            \"scale\": \"xscale\",\n            \"field\": \"time\"\n          },\n          \"y\": {\n            \"scale\": \"yscale\",\n            \"field\": \"flux\"\n          },\n          \"shape\": {\n            \"value\": \"circle\"\n          }\n        },\n        \"update\": {\n          \"shape\": {\n            \"value\": \"circle\"\n          },\n          \"size\": {\n            \"value\": 40\n          },\n          \"fill\": {\n            \"value\": \"#000000\"\n          },\n          \"fillOpacity\": {\n            \"value\": 1\n          },\n          \"stroke\": {\n            \"value\": \"#000000\"\n          },\n          \"strokeOpacity\": {\n            \"value\": 0.2\n          },\n          \"strokeWidth\": {\n            \"value\": 0\n          }\n        }\n      }\n    },\n    {\n      \"type\": \"rect\",\n      \"name\": \"3d1aaf1d-31b8-46bd-8fa3-b7310a7e3461\",\n      \"description\": \"Flux\",\n      \"clip\": true,\n      \"from\": {\n        \"data\": \"6feccf06-bb20-4fd5-85c4-b8565a1a3622\"\n      },\n      \"encode\": {\n        \"enter\": {\n          \"x\": {\n            \"scale\": \"xscale\",\n            \"field\": \"time\"\n          },\n          \"y\": {\n            \"scale\": \"yscale\",\n            \"signal\": \"datum['flux'] - datum['error']\"\n          },\n          \"y2\": {\n            \"scale\": \"yscale\",\n            \"signal\": \"datum['flux'] + datum['error']\"\n          }\n        },\n        \"update\": {\n          \"shape\": {\n            \"value\": \"circle\"\n          },\n          \"width\": {\n            \"value\": 1\n          },\n          \"fill\": {\n            \"value\": \"#000000\"\n          },\n          \"fillOpacity\": {\n            \"value\": 1\n          },\n          \"stroke\": {\n            \"value\": \"#000000\"\n          },\n          \"strokeOpacity\": {\n            \"value\": 0.2\n          },\n          \"strokeWidth\": {\n            \"value\": 0\n          }\n        }\n      }\n    },\n    {\n      \"type\": \"line\",\n      \"name\": \"69ece06b-5b2f-41fc-a477-7d27c39ba82e\",\n      \"description\": \"Flux\",\n      \"clip\": true,\n      \"from\": {\n        \"data\": \"6feccf06-bb20-4fd5-85c4-b8565a1a3622\"\n      },\n      \"encode\": {\n        \"enter\": {\n          \"x\": {\n            \"scale\": \"xscale\",\n            \"field\": \"time\"\n          },\n          \"y\": {\n            \"scale\": \"yscale\",\n            \"field\": \"flux\"\n          },\n          \"stroke\": {\n            \"value\": \"#000000\"\n          },\n          \"strokeOpacity\": {\n            \"value\": 1\n          },\n          \"strokeWidth\": {\n            \"value\": 2\n          }\n        }\n      }\n    },\n    {\n      \"type\": \"rule\",\n      \"name\": \"fba42ef8-882d-474b-9efe-14c91067bcd7\",\n      \"description\": \"Special event\",\n      \"clip\": true,\n      \"encode\": {\n        \"enter\": {\n          \"x\": {\n            \"scale\": \"xscale\",\n            \"signal\": \"datetime(2016, 2, 22, 12, 30, 46)\"\n          },\n          \"y\": {\n            \"value\": 0\n          },\n          \"y2\": {\n            \"field\": {\n              \"group\": \"height\"\n            }\n          },\n          \"strokeWidth\": {\n            \"value\": 1\n          },\n          \"stroke\": {\n            \"value\": \"#000000\"\n          },\n          \"strokeOpacity\": {\n            \"value\": 1\n          }\n        }\n      }\n    },\n    {\n      \"type\": \"rule\",\n      \"name\": \"5f2a1eb2-2314-4918-9682-6fe410137887\",\n      \"description\": \"Baseline flux\",\n      \"clip\": true,\n      \"encode\": {\n        \"enter\": {\n          \"x\": {\n            \"value\": 0\n          },\n          \"x2\": {\n            \"field\": {\n              \"group\": \"width\"\n            }\n          },\n          \"y\": {\n            \"scale\": \"yscale\",\n            \"value\": 10.0\n          },\n          \"strokeWidth\": {\n            \"value\": 1\n          },\n          \"stroke\": {\n            \"value\": \"#000000\"\n          },\n          \"strokeOpacity\": {\n            \"value\": 1\n          }\n        }\n      }\n    }\n  ],\n  \"axes\": [\n    {\n      \"orient\": \"bottom\",\n      \"scale\": \"xscale\",\n      \"title\": \"Time\"\n    },\n    {\n      \"orient\": \"left\",\n      \"scale\": \"yscale\",\n      \"title\": \"Intensity\"\n    }\n  ],\n  \"scales\": [\n    {\n      \"name\": \"xscale\",\n      \"type\": \"time\",\n      \"range\": \"width\",\n      \"zero\": false,\n      \"padding\": 36,\n      \"domain\": [\n        {\n          \"signal\": \"datetime(2016, 2, 22, 12, 30, 31)\"\n        },\n        {\n          \"signal\": \"datetime(2016, 2, 22, 12, 30, 58)\"\n        }\n      ]\n    },\n    {\n      \"name\": \"yscale\",\n      \"type\": \"linear\",\n      \"range\": \"height\",\n      \"zero\": false,\n      \"padding\": 36,\n      \"domain\": [\n        2.0,\n        12.0\n      ]\n    }\n  ]\n}",
       "width": 600
      }
     },
     "80b3267bd0d94b1bb36f325c5f24623b": {
      "model_module": "jupyter-aas-timeseries",
      "model_module_version": "^0.1.6",
      "model_name": "TimeSeriesModel",
      "state": {
       "_model_module_version": "^0.1.6",
       "_view_module_version": "^0.1.6",
       "height": 480,
       "layout": "IPY_MODEL_248076e2ce414d99a29c7f8590981798",
       "vega_json": "{\n  \"$schema\": \"https://vega.github.io/schema/vega/v4.json\",\n  \"width\": 600,\n  \"height\": 400,\n  \"padding\": 0,\n  \"autosize\": {\n    \"type\": \"fit\",\n    \"resize\": false\n  },\n  \"data\": [\n    {\n      \"name\": \"6feccf06-bb20-4fd5-85c4-b8565a1a3622\",\n      \"format\": {\n        \"type\": \"csv\",\n        \"parse\": {\n          \"time\": \"date\",\n          \"flux\": \"number\",\n          \"error\": \"number\"\n        }\n      },\n      \"values\": \"time,flux,error\\n2016-03-22T12:30:31.000,10.0,2.0\\n2016-03-22T12:30:34.000,11.0,2.5\\n2016-03-22T12:30:37.000,9.0,2.0\\n2016-03-22T12:30:40.000,10.0,1.5\\n2016-03-22T12:30:43.000,2.0,2.0\\n2016-03-22T12:30:46.000,3.0,2.0\\n2016-03-22T12:30:49.000,5.0,1.5\\n2016-03-22T12:30:52.000,12.0,1.5\\n2016-03-22T12:30:55.000,11.0,2.0\\n2016-03-22T12:30:58.000,10.0,2.5\\n\"\n    }\n  ],\n  \"marks\": [\n    {\n      \"type\": \"symbol\",\n      \"name\": \"3d1aaf1d-31b8-46bd-8fa3-b7310a7e3461\",\n      \"description\": \"Flux\",\n      \"clip\": true,\n      \"from\": {\n        \"data\": \"6feccf06-bb20-4fd5-85c4-b8565a1a3622\"\n      },\n      \"encode\": {\n        \"enter\": {\n          \"x\": {\n            \"scale\": \"xscale\",\n            \"field\": \"time\"\n          },\n          \"y\": {\n            \"scale\": \"yscale\",\n            \"field\": \"flux\"\n          },\n          \"shape\": {\n            \"value\": \"circle\"\n          }\n        },\n        \"update\": {\n          \"shape\": {\n            \"value\": \"circle\"\n          },\n          \"size\": {\n            \"value\": 40\n          },\n          \"fill\": {\n            \"value\": \"#000000\"\n          },\n          \"fillOpacity\": {\n            \"value\": 1\n          },\n          \"stroke\": {\n            \"value\": \"#000000\"\n          },\n          \"strokeOpacity\": {\n            \"value\": 0.2\n          },\n          \"strokeWidth\": {\n            \"value\": 0\n          }\n        }\n      }\n    },\n    {\n      \"type\": \"rect\",\n      \"name\": \"3d1aaf1d-31b8-46bd-8fa3-b7310a7e3461\",\n      \"description\": \"Flux\",\n      \"clip\": true,\n      \"from\": {\n        \"data\": \"6feccf06-bb20-4fd5-85c4-b8565a1a3622\"\n      },\n      \"encode\": {\n        \"enter\": {\n          \"x\": {\n            \"scale\": \"xscale\",\n            \"field\": \"time\"\n          },\n          \"y\": {\n            \"scale\": \"yscale\",\n            \"signal\": \"datum['flux'] - datum['error']\"\n          },\n          \"y2\": {\n            \"scale\": \"yscale\",\n            \"signal\": \"datum['flux'] + datum['error']\"\n          }\n        },\n        \"update\": {\n          \"shape\": {\n            \"value\": \"circle\"\n          },\n          \"width\": {\n            \"value\": 1\n          },\n          \"fill\": {\n            \"value\": \"#000000\"\n          },\n          \"fillOpacity\": {\n            \"value\": 1\n          },\n          \"stroke\": {\n            \"value\": \"#000000\"\n          },\n          \"strokeOpacity\": {\n            \"value\": 0.2\n          },\n          \"strokeWidth\": {\n            \"value\": 0\n          }\n        }\n      }\n    },\n    {\n      \"type\": \"line\",\n      \"name\": \"69ece06b-5b2f-41fc-a477-7d27c39ba82e\",\n      \"description\": \"Flux\",\n      \"clip\": true,\n      \"from\": {\n        \"data\": \"6feccf06-bb20-4fd5-85c4-b8565a1a3622\"\n      },\n      \"encode\": {\n        \"enter\": {\n          \"x\": {\n            \"scale\": \"xscale\",\n            \"field\": \"time\"\n          },\n          \"y\": {\n            \"scale\": \"yscale\",\n            \"field\": \"flux\"\n          },\n          \"stroke\": {\n            \"value\": \"#000000\"\n          },\n          \"strokeOpacity\": {\n            \"value\": 1\n          },\n          \"strokeWidth\": {\n            \"value\": 2\n          }\n        }\n      }\n    }\n  ],\n  \"axes\": [\n    {\n      \"orient\": \"bottom\",\n      \"scale\": \"xscale\",\n      \"title\": \"Time\"\n    },\n    {\n      \"orient\": \"left\",\n      \"scale\": \"yscale\",\n      \"title\": \"Intensity\"\n    }\n  ],\n  \"scales\": [\n    {\n      \"name\": \"xscale\",\n      \"type\": \"time\",\n      \"range\": \"width\",\n      \"zero\": false,\n      \"padding\": 36,\n      \"domain\": [\n        {\n          \"signal\": \"datetime(2016, 2, 22, 12, 30, 31)\"\n        },\n        {\n          \"signal\": \"datetime(2016, 2, 22, 12, 30, 58)\"\n        }\n      ]\n    },\n    {\n      \"name\": \"yscale\",\n      \"type\": \"linear\",\n      \"range\": \"height\",\n      \"zero\": false,\n      \"padding\": 36,\n      \"domain\": [\n        2.0,\n        12.0\n      ]\n    }\n  ]\n}",
       "width": 600
      }
     },
     "9259ee0898e14a0a8bea3c8737fbb9e9": {
      "model_module": "@jupyter-widgets/base",
      "model_module_version": "1.1.0",
      "model_name": "LayoutModel",
      "state": {}
     },
     "9cc3e300f9ad4481a87eed32a0eaea5f": {
      "model_module": "jupyter-aas-timeseries",
      "model_module_version": "^0.1.6",
      "model_name": "TimeSeriesModel",
      "state": {
       "_model_module_version": "^0.1.6",
       "_view_module_version": "^0.1.6",
       "height": 480,
       "layout": "IPY_MODEL_6808828ecc714d14bc787a51253d4528",
       "vega_json": "{\n  \"$schema\": \"https://vega.github.io/schema/vega/v4.json\",\n  \"width\": 600,\n  \"height\": 400,\n  \"padding\": 0,\n  \"autosize\": {\n    \"type\": \"fit\",\n    \"resize\": false\n  },\n  \"data\": [\n    {\n      \"name\": \"6feccf06-bb20-4fd5-85c4-b8565a1a3622\",\n      \"format\": {\n        \"type\": \"csv\",\n        \"parse\": {\n          \"time\": \"date\",\n          \"flux\": \"number\"\n        }\n      },\n      \"values\": \"time,flux\\n2016-03-22T12:30:31.000,10.0\\n2016-03-22T12:30:34.000,11.0\\n2016-03-22T12:30:37.000,9.0\\n2016-03-22T12:30:40.000,10.0\\n2016-03-22T12:30:43.000,2.0\\n2016-03-22T12:30:46.000,3.0\\n2016-03-22T12:30:49.000,5.0\\n2016-03-22T12:30:52.000,12.0\\n2016-03-22T12:30:55.000,11.0\\n2016-03-22T12:30:58.000,10.0\\n\"\n    }\n  ],\n  \"marks\": [\n    {\n      \"type\": \"symbol\",\n      \"name\": \"3d1aaf1d-31b8-46bd-8fa3-b7310a7e3461\",\n      \"description\": \"Flux\",\n      \"clip\": true,\n      \"from\": {\n        \"data\": \"6feccf06-bb20-4fd5-85c4-b8565a1a3622\"\n      },\n      \"encode\": {\n        \"enter\": {\n          \"x\": {\n            \"scale\": \"xscale\",\n            \"field\": \"time\"\n          },\n          \"y\": {\n            \"scale\": \"yscale\",\n            \"field\": \"flux\"\n          },\n          \"shape\": {\n            \"value\": \"circle\"\n          }\n        },\n        \"update\": {\n          \"shape\": {\n            \"value\": \"circle\"\n          },\n          \"size\": {\n            \"value\": 40\n          },\n          \"fill\": {\n            \"value\": \"#000000\"\n          },\n          \"fillOpacity\": {\n            \"value\": 1\n          },\n          \"stroke\": {\n            \"value\": \"#000000\"\n          },\n          \"strokeOpacity\": {\n            \"value\": 0.2\n          },\n          \"strokeWidth\": {\n            \"value\": 0\n          }\n        }\n      }\n    }\n  ],\n  \"axes\": [\n    {\n      \"orient\": \"bottom\",\n      \"scale\": \"xscale\",\n      \"title\": \"Time\"\n    },\n    {\n      \"orient\": \"left\",\n      \"scale\": \"yscale\",\n      \"title\": \"Intensity\"\n    }\n  ],\n  \"scales\": [\n    {\n      \"name\": \"xscale\",\n      \"type\": \"time\",\n      \"range\": \"width\",\n      \"zero\": false,\n      \"padding\": 36,\n      \"domain\": [\n        {\n          \"signal\": \"datetime(2016, 2, 22, 12, 30, 31)\"\n        },\n        {\n          \"signal\": \"datetime(2016, 2, 22, 12, 30, 58)\"\n        }\n      ]\n    },\n    {\n      \"name\": \"yscale\",\n      \"type\": \"linear\",\n      \"range\": \"height\",\n      \"zero\": false,\n      \"padding\": 36,\n      \"domain\": [\n        2.0,\n        12.0\n      ]\n    }\n  ]\n}",
       "width": 600
      }
     },
     "a50af5efdaab4930b41c7ee8c7174d9a": {
      "model_module": "jupyter-aas-timeseries",
      "model_module_version": "^0.1.6",
      "model_name": "TimeSeriesModel",
      "state": {
       "_model_module_version": "^0.1.6",
       "_view_module_version": "^0.1.6",
       "height": 480,
       "layout": "IPY_MODEL_608cec072d324b81bff3a2243e26dfa0",
       "vega_json": "{\n  \"$schema\": \"https://vega.github.io/schema/vega/v4.json\",\n  \"width\": 600,\n  \"height\": 400,\n  \"padding\": 0,\n  \"autosize\": {\n    \"type\": \"fit\",\n    \"resize\": false\n  },\n  \"data\": [\n    {\n      \"name\": \"fb65add2-b390-4340-87cf-dc080bbee8da\",\n      \"format\": {\n        \"type\": \"csv\",\n        \"parse\": {\n          \"time\": \"date\",\n          \"flux\": \"number\"\n        }\n      },\n      \"values\": \"time,flux\\n2016-03-22T12:30:31.000,10.0\\n2016-03-22T12:30:34.000,11.0\\n2016-03-22T12:30:37.000,9.0\\n2016-03-22T12:30:40.000,10.0\\n2016-03-22T12:30:43.000,2.0\\n2016-03-22T12:30:46.000,3.0\\n2016-03-22T12:30:49.000,5.0\\n2016-03-22T12:30:52.000,12.0\\n2016-03-22T12:30:55.000,11.0\\n2016-03-22T12:30:58.000,10.0\\n\"\n    }\n  ],\n  \"marks\": [\n    {\n      \"type\": \"symbol\",\n      \"name\": \"56590664-cd06-4ad0-b159-d0279f0d762f\",\n      \"description\": \"Flux\",\n      \"clip\": true,\n      \"from\": {\n        \"data\": \"fb65add2-b390-4340-87cf-dc080bbee8da\"\n      },\n      \"encode\": {\n        \"enter\": {\n          \"x\": {\n            \"scale\": \"xscale\",\n            \"field\": \"time\"\n          },\n          \"y\": {\n            \"scale\": \"yscale\",\n            \"field\": \"flux\"\n          },\n          \"shape\": {\n            \"value\": \"circle\"\n          }\n        },\n        \"update\": {\n          \"shape\": {\n            \"value\": \"circle\"\n          },\n          \"size\": {\n            \"value\": 40\n          },\n          \"fill\": {\n            \"value\": \"#000000\"\n          },\n          \"fillOpacity\": {\n            \"value\": 1\n          },\n          \"stroke\": {\n            \"value\": \"#000000\"\n          },\n          \"strokeOpacity\": {\n            \"value\": 0.2\n          },\n          \"strokeWidth\": {\n            \"value\": 0\n          }\n        }\n      }\n    }\n  ],\n  \"axes\": [\n    {\n      \"orient\": \"bottom\",\n      \"scale\": \"xscale\",\n      \"title\": \"Time\"\n    },\n    {\n      \"orient\": \"left\",\n      \"scale\": \"yscale\",\n      \"title\": \"Intensity\"\n    }\n  ],\n  \"scales\": [\n    {\n      \"name\": \"xscale\",\n      \"type\": \"time\",\n      \"range\": \"width\",\n      \"zero\": false,\n      \"padding\": 36,\n      \"domain\": [\n        {\n          \"signal\": \"datetime(2016, 2, 22, 12, 30, 31)\"\n        },\n        {\n          \"signal\": \"datetime(2016, 2, 22, 12, 30, 58)\"\n        }\n      ]\n    },\n    {\n      \"name\": \"yscale\",\n      \"type\": \"linear\",\n      \"range\": \"height\",\n      \"zero\": false,\n      \"padding\": 36,\n      \"domain\": [\n        2.0,\n        12.0\n      ]\n    }\n  ]\n}",
       "width": 600
      }
     },
     "a70d9bcd2dfd4b5492e9c14e6431c784": {
      "model_module": "jupyter-aas-timeseries",
      "model_module_version": "^0.1.6",
      "model_name": "TimeSeriesModel",
      "state": {
       "_model_module_version": "^0.1.6",
       "_view_module_version": "^0.1.6",
       "height": 480,
       "layout": "IPY_MODEL_7cdce266bb4445a5947aec3e8ba6f9a5",
       "vega_json": "{\n  \"$schema\": \"https://vega.github.io/schema/vega/v4.json\",\n  \"width\": 600,\n  \"height\": 400,\n  \"padding\": 0,\n  \"autosize\": {\n    \"type\": \"fit\",\n    \"resize\": false\n  },\n  \"data\": [\n    {\n      \"name\": \"fb65add2-b390-4340-87cf-dc080bbee8da\",\n      \"format\": {\n        \"type\": \"csv\",\n        \"parse\": {\n          \"time\": \"date\",\n          \"flux\": \"number\",\n          \"error\": \"number\",\n          \"flux_lo\": \"number\",\n          \"flux_hi\": \"number\"\n        }\n      },\n      \"values\": \"time,flux,error,flux_lo,flux_hi\\n2016-03-22T12:30:31.000,10.0,2.0,8.0,12.0\\n2016-03-22T12:30:34.000,11.0,2.5,8.5,13.5\\n2016-03-22T12:30:37.000,9.0,2.0,7.0,11.0\\n2016-03-22T12:30:40.000,10.0,1.5,8.5,11.5\\n2016-03-22T12:30:43.000,2.0,2.0,0.0,4.0\\n2016-03-22T12:30:46.000,3.0,2.0,1.0,5.0\\n2016-03-22T12:30:49.000,5.0,1.5,3.5,6.5\\n2016-03-22T12:30:52.000,12.0,1.5,10.5,13.5\\n2016-03-22T12:30:55.000,11.0,2.0,9.0,13.0\\n2016-03-22T12:30:58.000,10.0,2.5,7.5,12.5\\n\"\n    }\n  ],\n  \"marks\": [\n    {\n      \"type\": \"symbol\",\n      \"name\": \"56590664-cd06-4ad0-b159-d0279f0d762f\",\n      \"description\": \"Flux\",\n      \"clip\": true,\n      \"from\": {\n        \"data\": \"fb65add2-b390-4340-87cf-dc080bbee8da\"\n      },\n      \"encode\": {\n        \"enter\": {\n          \"x\": {\n            \"scale\": \"xscale\",\n            \"field\": \"time\"\n          },\n          \"y\": {\n            \"scale\": \"yscale\",\n            \"field\": \"flux\"\n          },\n          \"shape\": {\n            \"value\": \"circle\"\n          }\n        },\n        \"update\": {\n          \"shape\": {\n            \"value\": \"circle\"\n          },\n          \"size\": {\n            \"value\": 40\n          },\n          \"fill\": {\n            \"value\": \"#000000\"\n          },\n          \"fillOpacity\": {\n            \"value\": 1\n          },\n          \"stroke\": {\n            \"value\": \"#000000\"\n          },\n          \"strokeOpacity\": {\n            \"value\": 0.2\n          },\n          \"strokeWidth\": {\n            \"value\": 0\n          }\n        }\n      }\n    },\n    {\n      \"type\": \"rect\",\n      \"name\": \"56590664-cd06-4ad0-b159-d0279f0d762f\",\n      \"description\": \"Flux\",\n      \"clip\": true,\n      \"from\": {\n        \"data\": \"fb65add2-b390-4340-87cf-dc080bbee8da\"\n      },\n      \"encode\": {\n        \"enter\": {\n          \"x\": {\n            \"scale\": \"xscale\",\n            \"field\": \"time\"\n          },\n          \"y\": {\n            \"scale\": \"yscale\",\n            \"signal\": \"datum['flux'] - datum['error']\"\n          },\n          \"y2\": {\n            \"scale\": \"yscale\",\n            \"signal\": \"datum['flux'] + datum['error']\"\n          }\n        },\n        \"update\": {\n          \"shape\": {\n            \"value\": \"circle\"\n          },\n          \"width\": {\n            \"value\": 1\n          },\n          \"fill\": {\n            \"value\": \"#000000\"\n          },\n          \"fillOpacity\": {\n            \"value\": 1\n          },\n          \"stroke\": {\n            \"value\": \"#000000\"\n          },\n          \"strokeOpacity\": {\n            \"value\": 0.2\n          },\n          \"strokeWidth\": {\n            \"value\": 0\n          }\n        }\n      }\n    },\n    {\n      \"type\": \"line\",\n      \"name\": \"bd23f57b-9582-4027-9506-abc5455c09df\",\n      \"description\": \"Flux\",\n      \"clip\": true,\n      \"from\": {\n        \"data\": \"fb65add2-b390-4340-87cf-dc080bbee8da\"\n      },\n      \"encode\": {\n        \"enter\": {\n          \"x\": {\n            \"scale\": \"xscale\",\n            \"field\": \"time\"\n          },\n          \"y\": {\n            \"scale\": \"yscale\",\n            \"field\": \"flux\"\n          },\n          \"stroke\": {\n            \"value\": \"#000000\"\n          },\n          \"strokeOpacity\": {\n            \"value\": 1\n          },\n          \"strokeWidth\": {\n            \"value\": 2\n          }\n        }\n      }\n    },\n    {\n      \"type\": \"rule\",\n      \"name\": \"41c490ac-04d4-41d9-85e0-6738930c4379\",\n      \"description\": \"Special event\",\n      \"clip\": true,\n      \"encode\": {\n        \"enter\": {\n          \"x\": {\n            \"scale\": \"xscale\",\n            \"signal\": \"datetime(2016, 2, 22, 12, 30, 46)\"\n          },\n          \"y\": {\n            \"value\": 0\n          },\n          \"y2\": {\n            \"field\": {\n              \"group\": \"height\"\n            }\n          },\n          \"strokeWidth\": {\n            \"value\": 1\n          },\n          \"stroke\": {\n            \"value\": \"#000000\"\n          },\n          \"strokeOpacity\": {\n            \"value\": 1\n          }\n        }\n      }\n    },\n    {\n      \"type\": \"rule\",\n      \"name\": \"69c2f31c-184f-40c4-bd24-020d9e081f8c\",\n      \"description\": \"Baseline flux\",\n      \"clip\": true,\n      \"encode\": {\n        \"enter\": {\n          \"x\": {\n            \"value\": 0\n          },\n          \"x2\": {\n            \"field\": {\n              \"group\": \"width\"\n            }\n          },\n          \"y\": {\n            \"scale\": \"yscale\",\n            \"value\": 10.0\n          },\n          \"strokeWidth\": {\n            \"value\": 1\n          },\n          \"stroke\": {\n            \"value\": \"#000000\"\n          },\n          \"strokeOpacity\": {\n            \"value\": 1\n          }\n        }\n      }\n    },\n    {\n      \"type\": \"area\",\n      \"name\": \"26a4b3ee-2161-463b-a06e-8c7b91a64815\",\n      \"description\": \"Range\",\n      \"clip\": true,\n      \"from\": {\n        \"data\": \"fb65add2-b390-4340-87cf-dc080bbee8da\"\n      },\n      \"encode\": {\n        \"enter\": {\n          \"x\": {\n            \"scale\": \"xscale\",\n            \"field\": \"time\"\n          },\n          \"y\": {\n            \"scale\": \"yscale\",\n            \"field\": \"flux_lo\"\n          },\n          \"y2\": {\n            \"scale\": \"yscale\",\n            \"field\": \"flux_hi\"\n          },\n          \"fill\": {\n            \"value\": \"#a6cee3\"\n          },\n          \"fillOpacity\": {\n            \"value\": 0.2\n          },\n          \"stroke\": {\n            \"value\": \"#000000\"\n          },\n          \"strokeOpacity\": {\n            \"value\": 0.2\n          },\n          \"strokeWidth\": {\n            \"value\": 0\n          }\n        }\n      }\n    },\n    {\n      \"type\": \"rect\",\n      \"name\": \"15f5c74d-cf82-40ec-ab0b-f33c884ff1c9\",\n      \"description\": \"Vertical Range\",\n      \"clip\": true,\n      \"encode\": {\n        \"enter\": {\n          \"x\": {\n            \"scale\": \"xscale\",\n            \"signal\": \"datetime(2016, 2, 22, 12, 30, 43)\"\n          },\n          \"x2\": {\n            \"scale\": \"xscale\",\n            \"signal\": \"datetime(2016, 2, 22, 12, 30, 49)\"\n          },\n          \"y\": {\n            \"value\": 0\n          },\n          \"y2\": {\n            \"field\": {\n              \"group\": \"height\"\n            }\n          },\n          \"fill\": {\n            \"value\": \"#1f78b4\"\n          },\n          \"fillOpacity\": {\n            \"value\": 0.2\n          },\n          \"stroke\": {\n            \"value\": \"#000000\"\n          },\n          \"strokeOpacity\": {\n            \"value\": 0.2\n          },\n          \"strokeWidth\": {\n            \"value\": 0\n          }\n        }\n      }\n    },\n    {\n      \"type\": \"rect\",\n      \"name\": \"e235d4b6-76c9-4fee-a196-62aef5dae429\",\n      \"description\": \"Horizontal Range\",\n      \"clip\": true,\n      \"encode\": {\n        \"enter\": {\n          \"x\": {\n            \"value\": 0\n          },\n          \"x2\": {\n            \"field\": {\n              \"group\": \"width\"\n            }\n          },\n          \"y\": {\n            \"scale\": \"yscale\",\n            \"value\": 8.0\n          },\n          \"y2\": {\n            \"scale\": \"yscale\",\n            \"value\": 11.0\n          },\n          \"fill\": {\n            \"value\": \"#b2df8a\"\n          },\n          \"fillOpacity\": {\n            \"value\": 0.2\n          },\n          \"stroke\": {\n            \"value\": \"#000000\"\n          },\n          \"strokeOpacity\": {\n            \"value\": 0.2\n          },\n          \"strokeWidth\": {\n            \"value\": 0\n          }\n        }\n      }\n    },\n    {\n      \"type\": \"text\",\n      \"name\": \"7ba9b8c4-26d4-4e1c-b221-6a27224210fe\",\n      \"description\": \"Text\",\n      \"clip\": true,\n      \"encode\": {\n        \"enter\": {\n          \"x\": {\n            \"scale\": \"xscale\",\n            \"signal\": \"datetime(2016, 2, 22, 12, 30, 34)\"\n          },\n          \"y\": {\n            \"scale\": \"yscale\",\n            \"value\": 5.0\n          },\n          \"text\": {\n            \"value\": \"Here be dragons\"\n          },\n          \"fill\": {\n            \"value\": \"#000000\"\n          },\n          \"fillOpacity\": {\n            \"value\": 1\n          },\n          \"fontWeigth\": {\n            \"value\": \"normal\"\n          },\n          \"baseline\": {\n            \"value\": \"alphabetic\"\n          },\n          \"align\": {\n            \"value\": \"left\"\n          },\n          \"angle\": {\n            \"value\": 0.0\n          }\n        }\n      }\n    }\n  ],\n  \"axes\": [\n    {\n      \"orient\": \"bottom\",\n      \"scale\": \"xscale\",\n      \"title\": \"Time\"\n    },\n    {\n      \"orient\": \"left\",\n      \"scale\": \"yscale\",\n      \"title\": \"Intensity\"\n    }\n  ],\n  \"scales\": [\n    {\n      \"name\": \"xscale\",\n      \"type\": \"time\",\n      \"range\": \"width\",\n      \"zero\": false,\n      \"padding\": 36,\n      \"domain\": [\n        {\n          \"signal\": \"datetime(2016, 2, 22, 12, 30, 31)\"\n        },\n        {\n          \"signal\": \"datetime(2016, 2, 22, 12, 30, 58)\"\n        }\n      ]\n    },\n    {\n      \"name\": \"yscale\",\n      \"type\": \"linear\",\n      \"range\": \"height\",\n      \"zero\": false,\n      \"padding\": 36,\n      \"domain\": [\n        2.0,\n        12.0\n      ]\n    }\n  ]\n}",
       "width": 600
      }
     },
     "ae4d4a0c73be47d38baaaa0e191a8dd2": {
      "model_module": "@jupyter-widgets/base",
      "model_module_version": "1.1.0",
      "model_name": "LayoutModel",
      "state": {}
     },
     "b20d40ff9e204a7ca6b635eab49d5106": {
      "model_module": "jupyter-aas-timeseries",
      "model_module_version": "^0.1.6",
      "model_name": "TimeSeriesModel",
      "state": {
       "_model_module_version": "^0.1.6",
       "_view_module_version": "^0.1.6",
       "height": 480,
       "layout": "IPY_MODEL_3e7711c33c804007bcff2b60465b8cb8",
       "vega_json": "{\n  \"$schema\": \"https://vega.github.io/schema/vega/v4.json\",\n  \"width\": 600,\n  \"height\": 400,\n  \"padding\": 0,\n  \"autosize\": {\n    \"type\": \"fit\",\n    \"resize\": false\n  },\n  \"data\": [\n    {\n      \"name\": \"fb65add2-b390-4340-87cf-dc080bbee8da\",\n      \"format\": {\n        \"type\": \"csv\",\n        \"parse\": {\n          \"time\": \"date\",\n          \"flux\": \"number\",\n          \"error\": \"number\",\n          \"flux_lo\": \"number\",\n          \"flux_hi\": \"number\"\n        }\n      },\n      \"values\": \"time,flux,error,flux_lo,flux_hi\\n2016-03-22T12:30:31.000,10.0,2.0,8.0,12.0\\n2016-03-22T12:30:34.000,11.0,2.5,8.5,13.5\\n2016-03-22T12:30:37.000,9.0,2.0,7.0,11.0\\n2016-03-22T12:30:40.000,10.0,1.5,8.5,11.5\\n2016-03-22T12:30:43.000,2.0,2.0,0.0,4.0\\n2016-03-22T12:30:46.000,3.0,2.0,1.0,5.0\\n2016-03-22T12:30:49.000,5.0,1.5,3.5,6.5\\n2016-03-22T12:30:52.000,12.0,1.5,10.5,13.5\\n2016-03-22T12:30:55.000,11.0,2.0,9.0,13.0\\n2016-03-22T12:30:58.000,10.0,2.5,7.5,12.5\\n\"\n    }\n  ],\n  \"marks\": [\n    {\n      \"type\": \"symbol\",\n      \"name\": \"56590664-cd06-4ad0-b159-d0279f0d762f\",\n      \"description\": \"Flux\",\n      \"clip\": true,\n      \"from\": {\n        \"data\": \"fb65add2-b390-4340-87cf-dc080bbee8da\"\n      },\n      \"encode\": {\n        \"enter\": {\n          \"x\": {\n            \"scale\": \"xscale\",\n            \"field\": \"time\"\n          },\n          \"y\": {\n            \"scale\": \"yscale\",\n            \"field\": \"flux\"\n          },\n          \"shape\": {\n            \"value\": \"circle\"\n          }\n        },\n        \"update\": {\n          \"shape\": {\n            \"value\": \"circle\"\n          },\n          \"size\": {\n            \"value\": 40\n          },\n          \"fill\": {\n            \"value\": \"#000000\"\n          },\n          \"fillOpacity\": {\n            \"value\": 1\n          },\n          \"stroke\": {\n            \"value\": \"#000000\"\n          },\n          \"strokeOpacity\": {\n            \"value\": 0.2\n          },\n          \"strokeWidth\": {\n            \"value\": 0\n          }\n        }\n      }\n    },\n    {\n      \"type\": \"rect\",\n      \"name\": \"56590664-cd06-4ad0-b159-d0279f0d762f\",\n      \"description\": \"Flux\",\n      \"clip\": true,\n      \"from\": {\n        \"data\": \"fb65add2-b390-4340-87cf-dc080bbee8da\"\n      },\n      \"encode\": {\n        \"enter\": {\n          \"x\": {\n            \"scale\": \"xscale\",\n            \"field\": \"time\"\n          },\n          \"y\": {\n            \"scale\": \"yscale\",\n            \"signal\": \"datum['flux'] - datum['error']\"\n          },\n          \"y2\": {\n            \"scale\": \"yscale\",\n            \"signal\": \"datum['flux'] + datum['error']\"\n          }\n        },\n        \"update\": {\n          \"shape\": {\n            \"value\": \"circle\"\n          },\n          \"width\": {\n            \"value\": 1\n          },\n          \"fill\": {\n            \"value\": \"#000000\"\n          },\n          \"fillOpacity\": {\n            \"value\": 1\n          },\n          \"stroke\": {\n            \"value\": \"#000000\"\n          },\n          \"strokeOpacity\": {\n            \"value\": 0.2\n          },\n          \"strokeWidth\": {\n            \"value\": 0\n          }\n        }\n      }\n    },\n    {\n      \"type\": \"line\",\n      \"name\": \"bd23f57b-9582-4027-9506-abc5455c09df\",\n      \"description\": \"Flux\",\n      \"clip\": true,\n      \"from\": {\n        \"data\": \"fb65add2-b390-4340-87cf-dc080bbee8da\"\n      },\n      \"encode\": {\n        \"enter\": {\n          \"x\": {\n            \"scale\": \"xscale\",\n            \"field\": \"time\"\n          },\n          \"y\": {\n            \"scale\": \"yscale\",\n            \"field\": \"flux\"\n          },\n          \"stroke\": {\n            \"value\": \"#000000\"\n          },\n          \"strokeOpacity\": {\n            \"value\": 1\n          },\n          \"strokeWidth\": {\n            \"value\": 2\n          }\n        }\n      }\n    },\n    {\n      \"type\": \"rule\",\n      \"name\": \"41c490ac-04d4-41d9-85e0-6738930c4379\",\n      \"description\": \"Special event\",\n      \"clip\": true,\n      \"encode\": {\n        \"enter\": {\n          \"x\": {\n            \"scale\": \"xscale\",\n            \"signal\": \"datetime(2016, 2, 22, 12, 30, 46)\"\n          },\n          \"y\": {\n            \"value\": 0\n          },\n          \"y2\": {\n            \"field\": {\n              \"group\": \"height\"\n            }\n          },\n          \"strokeWidth\": {\n            \"value\": 1\n          },\n          \"stroke\": {\n            \"value\": \"#000000\"\n          },\n          \"strokeOpacity\": {\n            \"value\": 1\n          }\n        }\n      }\n    },\n    {\n      \"type\": \"rule\",\n      \"name\": \"69c2f31c-184f-40c4-bd24-020d9e081f8c\",\n      \"description\": \"Baseline flux\",\n      \"clip\": true,\n      \"encode\": {\n        \"enter\": {\n          \"x\": {\n            \"value\": 0\n          },\n          \"x2\": {\n            \"field\": {\n              \"group\": \"width\"\n            }\n          },\n          \"y\": {\n            \"scale\": \"yscale\",\n            \"value\": 10.0\n          },\n          \"strokeWidth\": {\n            \"value\": 1\n          },\n          \"stroke\": {\n            \"value\": \"#000000\"\n          },\n          \"strokeOpacity\": {\n            \"value\": 1\n          }\n        }\n      }\n    },\n    {\n      \"type\": \"area\",\n      \"name\": \"26a4b3ee-2161-463b-a06e-8c7b91a64815\",\n      \"description\": \"Range\",\n      \"clip\": true,\n      \"from\": {\n        \"data\": \"fb65add2-b390-4340-87cf-dc080bbee8da\"\n      },\n      \"encode\": {\n        \"enter\": {\n          \"x\": {\n            \"scale\": \"xscale\",\n            \"field\": \"time\"\n          },\n          \"y\": {\n            \"scale\": \"yscale\",\n            \"field\": \"flux_lo\"\n          },\n          \"y2\": {\n            \"scale\": \"yscale\",\n            \"field\": \"flux_hi\"\n          },\n          \"fill\": {\n            \"value\": \"#a6cee3\"\n          },\n          \"fillOpacity\": {\n            \"value\": 0.2\n          },\n          \"stroke\": {\n            \"value\": \"#000000\"\n          },\n          \"strokeOpacity\": {\n            \"value\": 0.2\n          },\n          \"strokeWidth\": {\n            \"value\": 0\n          }\n        }\n      }\n    },\n    {\n      \"type\": \"rect\",\n      \"name\": \"15f5c74d-cf82-40ec-ab0b-f33c884ff1c9\",\n      \"description\": \"Vertical Range\",\n      \"clip\": true,\n      \"encode\": {\n        \"enter\": {\n          \"x\": {\n            \"scale\": \"xscale\",\n            \"signal\": \"datetime(2016, 2, 22, 12, 30, 43)\"\n          },\n          \"x2\": {\n            \"scale\": \"xscale\",\n            \"signal\": \"datetime(2016, 2, 22, 12, 30, 49)\"\n          },\n          \"y\": {\n            \"value\": 0\n          },\n          \"y2\": {\n            \"field\": {\n              \"group\": \"height\"\n            }\n          },\n          \"fill\": {\n            \"value\": \"#1f78b4\"\n          },\n          \"fillOpacity\": {\n            \"value\": 0.2\n          },\n          \"stroke\": {\n            \"value\": \"#000000\"\n          },\n          \"strokeOpacity\": {\n            \"value\": 0.2\n          },\n          \"strokeWidth\": {\n            \"value\": 0\n          }\n        }\n      }\n    },\n    {\n      \"type\": \"rect\",\n      \"name\": \"e235d4b6-76c9-4fee-a196-62aef5dae429\",\n      \"description\": \"Horizontal Range\",\n      \"clip\": true,\n      \"encode\": {\n        \"enter\": {\n          \"x\": {\n            \"value\": 0\n          },\n          \"x2\": {\n            \"field\": {\n              \"group\": \"width\"\n            }\n          },\n          \"y\": {\n            \"scale\": \"yscale\",\n            \"value\": 8.0\n          },\n          \"y2\": {\n            \"scale\": \"yscale\",\n            \"value\": 11.0\n          },\n          \"fill\": {\n            \"value\": \"#b2df8a\"\n          },\n          \"fillOpacity\": {\n            \"value\": 0.2\n          },\n          \"stroke\": {\n            \"value\": \"#000000\"\n          },\n          \"strokeOpacity\": {\n            \"value\": 0.2\n          },\n          \"strokeWidth\": {\n            \"value\": 0\n          }\n        }\n      }\n    }\n  ],\n  \"axes\": [\n    {\n      \"orient\": \"bottom\",\n      \"scale\": \"xscale\",\n      \"title\": \"Time\"\n    },\n    {\n      \"orient\": \"left\",\n      \"scale\": \"yscale\",\n      \"title\": \"Intensity\"\n    }\n  ],\n  \"scales\": [\n    {\n      \"name\": \"xscale\",\n      \"type\": \"time\",\n      \"range\": \"width\",\n      \"zero\": false,\n      \"padding\": 36,\n      \"domain\": [\n        {\n          \"signal\": \"datetime(2016, 2, 22, 12, 30, 31)\"\n        },\n        {\n          \"signal\": \"datetime(2016, 2, 22, 12, 30, 58)\"\n        }\n      ]\n    },\n    {\n      \"name\": \"yscale\",\n      \"type\": \"linear\",\n      \"range\": \"height\",\n      \"zero\": false,\n      \"padding\": 36,\n      \"domain\": [\n        2.0,\n        12.0\n      ]\n    }\n  ]\n}",
       "width": 600
      }
     },
     "b410f75018544106a61602a95c49e35d": {
      "model_module": "@jupyter-widgets/base",
      "model_module_version": "1.1.0",
      "model_name": "LayoutModel",
      "state": {}
     },
     "c80e8927e9bf42f4a94ac5ebdc2e956d": {
      "model_module": "jupyter-aas-timeseries",
      "model_module_version": "^0.1.6",
      "model_name": "TimeSeriesModel",
      "state": {
       "_model_module_version": "^0.1.6",
       "_view_module_version": "^0.1.6",
       "height": 480,
       "layout": "IPY_MODEL_f512f909519b417b8029d903165be7d8",
       "vega_json": "{\n  \"$schema\": \"https://vega.github.io/schema/vega/v4.json\",\n  \"width\": 600,\n  \"height\": 400,\n  \"padding\": 0,\n  \"autosize\": {\n    \"type\": \"fit\",\n    \"resize\": false\n  },\n  \"data\": [\n    {\n      \"name\": \"fb65add2-b390-4340-87cf-dc080bbee8da\",\n      \"format\": {\n        \"type\": \"csv\",\n        \"parse\": {\n          \"time\": \"date\",\n          \"flux\": \"number\",\n          \"error\": \"number\"\n        }\n      },\n      \"values\": \"time,flux,error\\n2016-03-22T12:30:31.000,10.0,2.0\\n2016-03-22T12:30:34.000,11.0,2.5\\n2016-03-22T12:30:37.000,9.0,2.0\\n2016-03-22T12:30:40.000,10.0,1.5\\n2016-03-22T12:30:43.000,2.0,2.0\\n2016-03-22T12:30:46.000,3.0,2.0\\n2016-03-22T12:30:49.000,5.0,1.5\\n2016-03-22T12:30:52.000,12.0,1.5\\n2016-03-22T12:30:55.000,11.0,2.0\\n2016-03-22T12:30:58.000,10.0,2.5\\n\"\n    }\n  ],\n  \"marks\": [\n    {\n      \"type\": \"symbol\",\n      \"name\": \"56590664-cd06-4ad0-b159-d0279f0d762f\",\n      \"description\": \"Flux\",\n      \"clip\": true,\n      \"from\": {\n        \"data\": \"fb65add2-b390-4340-87cf-dc080bbee8da\"\n      },\n      \"encode\": {\n        \"enter\": {\n          \"x\": {\n            \"scale\": \"xscale\",\n            \"field\": \"time\"\n          },\n          \"y\": {\n            \"scale\": \"yscale\",\n            \"field\": \"flux\"\n          },\n          \"shape\": {\n            \"value\": \"circle\"\n          }\n        },\n        \"update\": {\n          \"shape\": {\n            \"value\": \"circle\"\n          },\n          \"size\": {\n            \"value\": 40\n          },\n          \"fill\": {\n            \"value\": \"#000000\"\n          },\n          \"fillOpacity\": {\n            \"value\": 1\n          },\n          \"stroke\": {\n            \"value\": \"#000000\"\n          },\n          \"strokeOpacity\": {\n            \"value\": 0.2\n          },\n          \"strokeWidth\": {\n            \"value\": 0\n          }\n        }\n      }\n    },\n    {\n      \"type\": \"rect\",\n      \"name\": \"56590664-cd06-4ad0-b159-d0279f0d762f\",\n      \"description\": \"Flux\",\n      \"clip\": true,\n      \"from\": {\n        \"data\": \"fb65add2-b390-4340-87cf-dc080bbee8da\"\n      },\n      \"encode\": {\n        \"enter\": {\n          \"x\": {\n            \"scale\": \"xscale\",\n            \"field\": \"time\"\n          },\n          \"y\": {\n            \"scale\": \"yscale\",\n            \"signal\": \"datum['flux'] - datum['error']\"\n          },\n          \"y2\": {\n            \"scale\": \"yscale\",\n            \"signal\": \"datum['flux'] + datum['error']\"\n          }\n        },\n        \"update\": {\n          \"shape\": {\n            \"value\": \"circle\"\n          },\n          \"width\": {\n            \"value\": 1\n          },\n          \"fill\": {\n            \"value\": \"#000000\"\n          },\n          \"fillOpacity\": {\n            \"value\": 1\n          },\n          \"stroke\": {\n            \"value\": \"#000000\"\n          },\n          \"strokeOpacity\": {\n            \"value\": 0.2\n          },\n          \"strokeWidth\": {\n            \"value\": 0\n          }\n        }\n      }\n    }\n  ],\n  \"axes\": [\n    {\n      \"orient\": \"bottom\",\n      \"scale\": \"xscale\",\n      \"title\": \"Time\"\n    },\n    {\n      \"orient\": \"left\",\n      \"scale\": \"yscale\",\n      \"title\": \"Intensity\"\n    }\n  ],\n  \"scales\": [\n    {\n      \"name\": \"xscale\",\n      \"type\": \"time\",\n      \"range\": \"width\",\n      \"zero\": false,\n      \"padding\": 36,\n      \"domain\": [\n        {\n          \"signal\": \"datetime(2016, 2, 22, 12, 30, 31)\"\n        },\n        {\n          \"signal\": \"datetime(2016, 2, 22, 12, 30, 58)\"\n        }\n      ]\n    },\n    {\n      \"name\": \"yscale\",\n      \"type\": \"linear\",\n      \"range\": \"height\",\n      \"zero\": false,\n      \"padding\": 36,\n      \"domain\": [\n        2.0,\n        12.0\n      ]\n    }\n  ]\n}",
       "width": 600
      }
     },
     "d5d2d305f4dc4d33abd7662296e6371e": {
      "model_module": "jupyter-aas-timeseries",
      "model_module_version": "^0.1.6",
      "model_name": "TimeSeriesModel",
      "state": {
       "_model_module_version": "^0.1.6",
       "_view_module_version": "^0.1.6",
       "height": 480,
       "layout": "IPY_MODEL_da55b6d9f81246d595a5865652c7c4ab",
       "vega_json": "{\n  \"$schema\": \"https://vega.github.io/schema/vega/v4.json\",\n  \"width\": 600,\n  \"height\": 400,\n  \"padding\": 0,\n  \"autosize\": {\n    \"type\": \"fit\",\n    \"resize\": false\n  },\n  \"data\": [\n    {\n      \"name\": \"fb65add2-b390-4340-87cf-dc080bbee8da\",\n      \"format\": {\n        \"type\": \"csv\",\n        \"parse\": {\n          \"time\": \"date\",\n          \"flux\": \"number\"\n        }\n      },\n      \"values\": \"time,flux\\n2016-03-22T12:30:31.000,10.0\\n2016-03-22T12:30:34.000,11.0\\n2016-03-22T12:30:37.000,9.0\\n2016-03-22T12:30:40.000,10.0\\n2016-03-22T12:30:43.000,2.0\\n2016-03-22T12:30:46.000,3.0\\n2016-03-22T12:30:49.000,5.0\\n2016-03-22T12:30:52.000,12.0\\n2016-03-22T12:30:55.000,11.0\\n2016-03-22T12:30:58.000,10.0\\n\"\n    }\n  ],\n  \"marks\": [\n    {\n      \"type\": \"symbol\",\n      \"name\": \"56590664-cd06-4ad0-b159-d0279f0d762f\",\n      \"description\": \"Flux\",\n      \"clip\": true,\n      \"from\": {\n        \"data\": \"fb65add2-b390-4340-87cf-dc080bbee8da\"\n      },\n      \"encode\": {\n        \"enter\": {\n          \"x\": {\n            \"scale\": \"xscale\",\n            \"field\": \"time\"\n          },\n          \"y\": {\n            \"scale\": \"yscale\",\n            \"field\": \"flux\"\n          },\n          \"shape\": {\n            \"value\": \"circle\"\n          }\n        },\n        \"update\": {\n          \"shape\": {\n            \"value\": \"circle\"\n          },\n          \"size\": {\n            \"value\": 20\n          },\n          \"fill\": {\n            \"value\": \"#000000\"\n          },\n          \"fillOpacity\": {\n            \"value\": 1\n          },\n          \"stroke\": {\n            \"value\": \"#000000\"\n          },\n          \"strokeOpacity\": {\n            \"value\": 0.2\n          },\n          \"strokeWidth\": {\n            \"value\": 0\n          }\n        }\n      }\n    }\n  ],\n  \"axes\": [\n    {\n      \"orient\": \"bottom\",\n      \"scale\": \"xscale\",\n      \"title\": \"Time\"\n    },\n    {\n      \"orient\": \"left\",\n      \"scale\": \"yscale\",\n      \"title\": \"Intensity\"\n    }\n  ],\n  \"scales\": [\n    {\n      \"name\": \"xscale\",\n      \"type\": \"time\",\n      \"range\": \"width\",\n      \"zero\": false,\n      \"padding\": 36,\n      \"domain\": [\n        {\n          \"signal\": \"datetime(2016, 2, 22, 12, 30, 31)\"\n        },\n        {\n          \"signal\": \"datetime(2016, 2, 22, 12, 30, 58)\"\n        }\n      ]\n    },\n    {\n      \"name\": \"yscale\",\n      \"type\": \"linear\",\n      \"range\": \"height\",\n      \"zero\": false,\n      \"padding\": 36,\n      \"domain\": [\n        2.0,\n        12.0\n      ]\n    }\n  ]\n}",
       "width": 600
      }
     },
     "da55b6d9f81246d595a5865652c7c4ab": {
      "model_module": "@jupyter-widgets/base",
      "model_module_version": "1.1.0",
      "model_name": "LayoutModel",
      "state": {}
     },
     "dfd6067325be4cfb922d2fb6e18b01e0": {
      "model_module": "jupyter-aas-timeseries",
      "model_module_version": "^0.1.6",
      "model_name": "TimeSeriesModel",
      "state": {
       "_model_module_version": "^0.1.6",
       "_view_module_version": "^0.1.6",
       "height": 480,
       "layout": "IPY_MODEL_3b7a7bcd2ea34c4298955c6b56443a0d",
       "vega_json": "{\n  \"$schema\": \"https://vega.github.io/schema/vega/v4.json\",\n  \"width\": 600,\n  \"height\": 400,\n  \"padding\": 0,\n  \"autosize\": {\n    \"type\": \"fit\",\n    \"resize\": false\n  },\n  \"data\": [\n    {\n      \"name\": \"6feccf06-bb20-4fd5-85c4-b8565a1a3622\",\n      \"format\": {\n        \"type\": \"csv\",\n        \"parse\": {\n          \"time\": \"date\",\n          \"flux\": \"number\"\n        }\n      },\n      \"values\": \"time,flux\\n2016-03-22T12:30:31.000,10.0\\n2016-03-22T12:30:34.000,11.0\\n2016-03-22T12:30:37.000,9.0\\n2016-03-22T12:30:40.000,10.0\\n2016-03-22T12:30:43.000,2.0\\n2016-03-22T12:30:46.000,3.0\\n2016-03-22T12:30:49.000,5.0\\n2016-03-22T12:30:52.000,12.0\\n2016-03-22T12:30:55.000,11.0\\n2016-03-22T12:30:58.000,10.0\\n\"\n    }\n  ],\n  \"marks\": [\n    {\n      \"type\": \"symbol\",\n      \"name\": \"3d1aaf1d-31b8-46bd-8fa3-b7310a7e3461\",\n      \"description\": \"Flux\",\n      \"clip\": true,\n      \"from\": {\n        \"data\": \"6feccf06-bb20-4fd5-85c4-b8565a1a3622\"\n      },\n      \"encode\": {\n        \"enter\": {\n          \"x\": {\n            \"scale\": \"xscale\",\n            \"field\": \"time\"\n          },\n          \"y\": {\n            \"scale\": \"yscale\",\n            \"field\": \"flux\"\n          },\n          \"shape\": {\n            \"value\": \"circle\"\n          }\n        },\n        \"update\": {\n          \"shape\": {\n            \"value\": \"circle\"\n          },\n          \"size\": {\n            \"value\": 20\n          },\n          \"fill\": {\n            \"value\": \"#000000\"\n          },\n          \"fillOpacity\": {\n            \"value\": 1\n          },\n          \"stroke\": {\n            \"value\": \"#000000\"\n          },\n          \"strokeOpacity\": {\n            \"value\": 0.2\n          },\n          \"strokeWidth\": {\n            \"value\": 0\n          }\n        }\n      }\n    }\n  ],\n  \"axes\": [\n    {\n      \"orient\": \"bottom\",\n      \"scale\": \"xscale\",\n      \"title\": \"Time\"\n    },\n    {\n      \"orient\": \"left\",\n      \"scale\": \"yscale\",\n      \"title\": \"Intensity\"\n    }\n  ],\n  \"scales\": [\n    {\n      \"name\": \"xscale\",\n      \"type\": \"time\",\n      \"range\": \"width\",\n      \"zero\": false,\n      \"padding\": 36,\n      \"domain\": [\n        {\n          \"signal\": \"datetime(2016, 2, 22, 12, 30, 31)\"\n        },\n        {\n          \"signal\": \"datetime(2016, 2, 22, 12, 30, 58)\"\n        }\n      ]\n    },\n    {\n      \"name\": \"yscale\",\n      \"type\": \"linear\",\n      \"range\": \"height\",\n      \"zero\": false,\n      \"padding\": 36,\n      \"domain\": [\n        2.0,\n        12.0\n      ]\n    }\n  ]\n}",
       "width": 600
      }
     },
     "e250623e8241408aa987db4765402659": {
      "model_module": "jupyter-aas-timeseries",
      "model_module_version": "^0.1.6",
      "model_name": "TimeSeriesModel",
      "state": {
       "_model_module_version": "^0.1.6",
       "_view_module_version": "^0.1.6",
       "height": 480,
       "layout": "IPY_MODEL_2611d560610b41e280e02d168510d262",
       "vega_json": "{\n  \"$schema\": \"https://vega.github.io/schema/vega/v4.json\",\n  \"width\": 600,\n  \"height\": 400,\n  \"padding\": 0,\n  \"autosize\": {\n    \"type\": \"fit\",\n    \"resize\": false\n  },\n  \"data\": [\n    {\n      \"name\": \"6feccf06-bb20-4fd5-85c4-b8565a1a3622\",\n      \"format\": {\n        \"type\": \"csv\",\n        \"parse\": {\n          \"time\": \"date\",\n          \"flux\": \"number\",\n          \"error\": \"number\"\n        }\n      },\n      \"values\": \"time,flux,error\\n2016-03-22T12:30:31.000,10.0,2.0\\n2016-03-22T12:30:34.000,11.0,2.5\\n2016-03-22T12:30:37.000,9.0,2.0\\n2016-03-22T12:30:40.000,10.0,1.5\\n2016-03-22T12:30:43.000,2.0,2.0\\n2016-03-22T12:30:46.000,3.0,2.0\\n2016-03-22T12:30:49.000,5.0,1.5\\n2016-03-22T12:30:52.000,12.0,1.5\\n2016-03-22T12:30:55.000,11.0,2.0\\n2016-03-22T12:30:58.000,10.0,2.5\\n\"\n    }\n  ],\n  \"marks\": [\n    {\n      \"type\": \"symbol\",\n      \"name\": \"3d1aaf1d-31b8-46bd-8fa3-b7310a7e3461\",\n      \"description\": \"Flux\",\n      \"clip\": true,\n      \"from\": {\n        \"data\": \"6feccf06-bb20-4fd5-85c4-b8565a1a3622\"\n      },\n      \"encode\": {\n        \"enter\": {\n          \"x\": {\n            \"scale\": \"xscale\",\n            \"field\": \"time\"\n          },\n          \"y\": {\n            \"scale\": \"yscale\",\n            \"field\": \"flux\"\n          },\n          \"shape\": {\n            \"value\": \"circle\"\n          }\n        },\n        \"update\": {\n          \"shape\": {\n            \"value\": \"circle\"\n          },\n          \"size\": {\n            \"value\": 40\n          },\n          \"fill\": {\n            \"value\": \"#000000\"\n          },\n          \"fillOpacity\": {\n            \"value\": 1\n          },\n          \"stroke\": {\n            \"value\": \"#000000\"\n          },\n          \"strokeOpacity\": {\n            \"value\": 0.2\n          },\n          \"strokeWidth\": {\n            \"value\": 0\n          }\n        }\n      }\n    },\n    {\n      \"type\": \"rect\",\n      \"name\": \"3d1aaf1d-31b8-46bd-8fa3-b7310a7e3461\",\n      \"description\": \"Flux\",\n      \"clip\": true,\n      \"from\": {\n        \"data\": \"6feccf06-bb20-4fd5-85c4-b8565a1a3622\"\n      },\n      \"encode\": {\n        \"enter\": {\n          \"x\": {\n            \"scale\": \"xscale\",\n            \"field\": \"time\"\n          },\n          \"y\": {\n            \"scale\": \"yscale\",\n            \"signal\": \"datum['flux'] - datum['error']\"\n          },\n          \"y2\": {\n            \"scale\": \"yscale\",\n            \"signal\": \"datum['flux'] + datum['error']\"\n          }\n        },\n        \"update\": {\n          \"shape\": {\n            \"value\": \"circle\"\n          },\n          \"width\": {\n            \"value\": 1\n          },\n          \"fill\": {\n            \"value\": \"#000000\"\n          },\n          \"fillOpacity\": {\n            \"value\": 1\n          },\n          \"stroke\": {\n            \"value\": \"#000000\"\n          },\n          \"strokeOpacity\": {\n            \"value\": 0.2\n          },\n          \"strokeWidth\": {\n            \"value\": 0\n          }\n        }\n      }\n    }\n  ],\n  \"axes\": [\n    {\n      \"orient\": \"bottom\",\n      \"scale\": \"xscale\",\n      \"title\": \"Time\"\n    },\n    {\n      \"orient\": \"left\",\n      \"scale\": \"yscale\",\n      \"title\": \"Intensity\"\n    }\n  ],\n  \"scales\": [\n    {\n      \"name\": \"xscale\",\n      \"type\": \"time\",\n      \"range\": \"width\",\n      \"zero\": false,\n      \"padding\": 36,\n      \"domain\": [\n        {\n          \"signal\": \"datetime(2016, 2, 22, 12, 30, 31)\"\n        },\n        {\n          \"signal\": \"datetime(2016, 2, 22, 12, 30, 58)\"\n        }\n      ]\n    },\n    {\n      \"name\": \"yscale\",\n      \"type\": \"linear\",\n      \"range\": \"height\",\n      \"zero\": false,\n      \"padding\": 36,\n      \"domain\": [\n        2.0,\n        12.0\n      ]\n    }\n  ]\n}",
       "width": 600
      }
     },
     "f512f909519b417b8029d903165be7d8": {
      "model_module": "@jupyter-widgets/base",
      "model_module_version": "1.1.0",
      "model_name": "LayoutModel",
      "state": {}
     },
     "f5501c84dea944af83ece8fd1ca25794": {
      "model_module": "jupyter-aas-timeseries",
      "model_module_version": "^0.1.6",
      "model_name": "TimeSeriesModel",
      "state": {
       "_model_module_version": "^0.1.6",
       "_view_module_version": "^0.1.6",
       "height": 480,
       "layout": "IPY_MODEL_6f1e3cc03ab144aab124e2dc6ad084c2",
       "vega_json": "{\n  \"$schema\": \"https://vega.github.io/schema/vega/v4.json\",\n  \"width\": 600,\n  \"height\": 400,\n  \"padding\": 0,\n  \"autosize\": {\n    \"type\": \"fit\",\n    \"resize\": false\n  },\n  \"data\": [\n    {\n      \"name\": \"fb65add2-b390-4340-87cf-dc080bbee8da\",\n      \"format\": {\n        \"type\": \"csv\",\n        \"parse\": {\n          \"time\": \"date\",\n          \"flux\": \"number\",\n          \"error\": \"number\",\n          \"flux_lo\": \"number\",\n          \"flux_hi\": \"number\"\n        }\n      },\n      \"values\": \"time,flux,error,flux_lo,flux_hi\\n2016-03-22T12:30:31.000,10.0,2.0,8.0,12.0\\n2016-03-22T12:30:34.000,11.0,2.5,8.5,13.5\\n2016-03-22T12:30:37.000,9.0,2.0,7.0,11.0\\n2016-03-22T12:30:40.000,10.0,1.5,8.5,11.5\\n2016-03-22T12:30:43.000,2.0,2.0,0.0,4.0\\n2016-03-22T12:30:46.000,3.0,2.0,1.0,5.0\\n2016-03-22T12:30:49.000,5.0,1.5,3.5,6.5\\n2016-03-22T12:30:52.000,12.0,1.5,10.5,13.5\\n2016-03-22T12:30:55.000,11.0,2.0,9.0,13.0\\n2016-03-22T12:30:58.000,10.0,2.5,7.5,12.5\\n\"\n    }\n  ],\n  \"marks\": [\n    {\n      \"type\": \"symbol\",\n      \"name\": \"56590664-cd06-4ad0-b159-d0279f0d762f\",\n      \"description\": \"Flux\",\n      \"clip\": true,\n      \"from\": {\n        \"data\": \"fb65add2-b390-4340-87cf-dc080bbee8da\"\n      },\n      \"encode\": {\n        \"enter\": {\n          \"x\": {\n            \"scale\": \"xscale\",\n            \"field\": \"time\"\n          },\n          \"y\": {\n            \"scale\": \"yscale\",\n            \"field\": \"flux\"\n          },\n          \"shape\": {\n            \"value\": \"circle\"\n          }\n        },\n        \"update\": {\n          \"shape\": {\n            \"value\": \"circle\"\n          },\n          \"size\": {\n            \"value\": 40\n          },\n          \"fill\": {\n            \"value\": \"#000000\"\n          },\n          \"fillOpacity\": {\n            \"value\": 1\n          },\n          \"stroke\": {\n            \"value\": \"#000000\"\n          },\n          \"strokeOpacity\": {\n            \"value\": 0.2\n          },\n          \"strokeWidth\": {\n            \"value\": 0\n          }\n        }\n      }\n    },\n    {\n      \"type\": \"rect\",\n      \"name\": \"56590664-cd06-4ad0-b159-d0279f0d762f\",\n      \"description\": \"Flux\",\n      \"clip\": true,\n      \"from\": {\n        \"data\": \"fb65add2-b390-4340-87cf-dc080bbee8da\"\n      },\n      \"encode\": {\n        \"enter\": {\n          \"x\": {\n            \"scale\": \"xscale\",\n            \"field\": \"time\"\n          },\n          \"y\": {\n            \"scale\": \"yscale\",\n            \"signal\": \"datum['flux'] - datum['error']\"\n          },\n          \"y2\": {\n            \"scale\": \"yscale\",\n            \"signal\": \"datum['flux'] + datum['error']\"\n          }\n        },\n        \"update\": {\n          \"shape\": {\n            \"value\": \"circle\"\n          },\n          \"width\": {\n            \"value\": 1\n          },\n          \"fill\": {\n            \"value\": \"#000000\"\n          },\n          \"fillOpacity\": {\n            \"value\": 1\n          },\n          \"stroke\": {\n            \"value\": \"#000000\"\n          },\n          \"strokeOpacity\": {\n            \"value\": 0.2\n          },\n          \"strokeWidth\": {\n            \"value\": 0\n          }\n        }\n      }\n    },\n    {\n      \"type\": \"line\",\n      \"name\": \"bd23f57b-9582-4027-9506-abc5455c09df\",\n      \"description\": \"Flux\",\n      \"clip\": true,\n      \"from\": {\n        \"data\": \"fb65add2-b390-4340-87cf-dc080bbee8da\"\n      },\n      \"encode\": {\n        \"enter\": {\n          \"x\": {\n            \"scale\": \"xscale\",\n            \"field\": \"time\"\n          },\n          \"y\": {\n            \"scale\": \"yscale\",\n            \"field\": \"flux\"\n          },\n          \"stroke\": {\n            \"value\": \"#000000\"\n          },\n          \"strokeOpacity\": {\n            \"value\": 1\n          },\n          \"strokeWidth\": {\n            \"value\": 2\n          }\n        }\n      }\n    },\n    {\n      \"type\": \"rule\",\n      \"name\": \"41c490ac-04d4-41d9-85e0-6738930c4379\",\n      \"description\": \"Special event\",\n      \"clip\": true,\n      \"encode\": {\n        \"enter\": {\n          \"x\": {\n            \"scale\": \"xscale\",\n            \"signal\": \"datetime(2016, 2, 22, 12, 30, 46)\"\n          },\n          \"y\": {\n            \"value\": 0\n          },\n          \"y2\": {\n            \"field\": {\n              \"group\": \"height\"\n            }\n          },\n          \"strokeWidth\": {\n            \"value\": 1\n          },\n          \"stroke\": {\n            \"value\": \"#000000\"\n          },\n          \"strokeOpacity\": {\n            \"value\": 1\n          }\n        }\n      }\n    },\n    {\n      \"type\": \"rule\",\n      \"name\": \"69c2f31c-184f-40c4-bd24-020d9e081f8c\",\n      \"description\": \"Baseline flux\",\n      \"clip\": true,\n      \"encode\": {\n        \"enter\": {\n          \"x\": {\n            \"value\": 0\n          },\n          \"x2\": {\n            \"field\": {\n              \"group\": \"width\"\n            }\n          },\n          \"y\": {\n            \"scale\": \"yscale\",\n            \"value\": 10.0\n          },\n          \"strokeWidth\": {\n            \"value\": 1\n          },\n          \"stroke\": {\n            \"value\": \"#000000\"\n          },\n          \"strokeOpacity\": {\n            \"value\": 1\n          }\n        }\n      }\n    },\n    {\n      \"type\": \"area\",\n      \"name\": \"26a4b3ee-2161-463b-a06e-8c7b91a64815\",\n      \"description\": \"Range\",\n      \"clip\": true,\n      \"from\": {\n        \"data\": \"fb65add2-b390-4340-87cf-dc080bbee8da\"\n      },\n      \"encode\": {\n        \"enter\": {\n          \"x\": {\n            \"scale\": \"xscale\",\n            \"field\": \"time\"\n          },\n          \"y\": {\n            \"scale\": \"yscale\",\n            \"field\": \"flux_lo\"\n          },\n          \"y2\": {\n            \"scale\": \"yscale\",\n            \"field\": \"flux_hi\"\n          },\n          \"fill\": {\n            \"value\": \"#a6cee3\"\n          },\n          \"fillOpacity\": {\n            \"value\": 0.2\n          },\n          \"stroke\": {\n            \"value\": \"#000000\"\n          },\n          \"strokeOpacity\": {\n            \"value\": 0.2\n          },\n          \"strokeWidth\": {\n            \"value\": 0\n          }\n        }\n      }\n    },\n    {\n      \"type\": \"rect\",\n      \"name\": \"15f5c74d-cf82-40ec-ab0b-f33c884ff1c9\",\n      \"description\": \"Vertical Range\",\n      \"clip\": true,\n      \"encode\": {\n        \"enter\": {\n          \"x\": {\n            \"scale\": \"xscale\",\n            \"signal\": \"datetime(2016, 2, 22, 12, 30, 43)\"\n          },\n          \"x2\": {\n            \"scale\": \"xscale\",\n            \"signal\": \"datetime(2016, 2, 22, 12, 30, 49)\"\n          },\n          \"y\": {\n            \"value\": 0\n          },\n          \"y2\": {\n            \"field\": {\n              \"group\": \"height\"\n            }\n          },\n          \"fill\": {\n            \"value\": \"#1f78b4\"\n          },\n          \"fillOpacity\": {\n            \"value\": 0.2\n          },\n          \"stroke\": {\n            \"value\": \"#000000\"\n          },\n          \"strokeOpacity\": {\n            \"value\": 0.2\n          },\n          \"strokeWidth\": {\n            \"value\": 0\n          }\n        }\n      }\n    },\n    {\n      \"type\": \"rect\",\n      \"name\": \"e235d4b6-76c9-4fee-a196-62aef5dae429\",\n      \"description\": \"Horizontal Range\",\n      \"clip\": true,\n      \"encode\": {\n        \"enter\": {\n          \"x\": {\n            \"value\": 0\n          },\n          \"x2\": {\n            \"field\": {\n              \"group\": \"width\"\n            }\n          },\n          \"y\": {\n            \"scale\": \"yscale\",\n            \"value\": 8.0\n          },\n          \"y2\": {\n            \"scale\": \"yscale\",\n            \"value\": 11.0\n          },\n          \"fill\": {\n            \"value\": \"#b2df8a\"\n          },\n          \"fillOpacity\": {\n            \"value\": 0.2\n          },\n          \"stroke\": {\n            \"value\": \"#000000\"\n          },\n          \"strokeOpacity\": {\n            \"value\": 0.2\n          },\n          \"strokeWidth\": {\n            \"value\": 0\n          }\n        }\n      }\n    }\n  ],\n  \"axes\": [\n    {\n      \"orient\": \"bottom\",\n      \"scale\": \"xscale\",\n      \"title\": \"Time\"\n    },\n    {\n      \"orient\": \"left\",\n      \"scale\": \"yscale\",\n      \"title\": \"Intensity\"\n    }\n  ],\n  \"scales\": [\n    {\n      \"name\": \"xscale\",\n      \"type\": \"time\",\n      \"range\": \"width\",\n      \"zero\": false,\n      \"padding\": 36,\n      \"domain\": [\n        {\n          \"signal\": \"datetime(2016, 2, 22, 12, 30, 31)\"\n        },\n        {\n          \"signal\": \"datetime(2016, 2, 22, 12, 30, 58)\"\n        }\n      ]\n    },\n    {\n      \"name\": \"yscale\",\n      \"type\": \"linear\",\n      \"range\": \"height\",\n      \"zero\": false,\n      \"padding\": 36,\n      \"domain\": [\n        2.0,\n        12.0\n      ]\n    }\n  ]\n}",
       "width": 600
      }
     },
     "fc8cd8efa6aa49ceaa04038ded93a759": {
      "model_module": "@jupyter-widgets/base",
      "model_module_version": "1.1.0",
      "model_name": "LayoutModel",
      "state": {}
     },
     "fec3cfd63e424614b347996b0fd6c3e1": {
      "model_module": "@jupyter-widgets/base",
      "model_module_version": "1.1.0",
      "model_name": "LayoutModel",
      "state": {}
     },
     "ff9480df026149bb81bfe64255afc406": {
      "model_module": "jupyter-aas-timeseries",
      "model_module_version": "^0.1.6",
      "model_name": "TimeSeriesModel",
      "state": {
       "_model_module_version": "^0.1.6",
       "_view_module_version": "^0.1.6",
       "height": 480,
       "layout": "IPY_MODEL_ae4d4a0c73be47d38baaaa0e191a8dd2",
       "vega_json": "{\n  \"$schema\": \"https://vega.github.io/schema/vega/v4.json\",\n  \"width\": 600,\n  \"height\": 400,\n  \"padding\": 0,\n  \"autosize\": {\n    \"type\": \"fit\",\n    \"resize\": false\n  },\n  \"data\": [\n    {\n      \"name\": \"fb65add2-b390-4340-87cf-dc080bbee8da\",\n      \"format\": {\n        \"type\": \"csv\",\n        \"parse\": {\n          \"time\": \"date\",\n          \"flux\": \"number\",\n          \"error\": \"number\"\n        }\n      },\n      \"values\": \"time,flux,error\\n2016-03-22T12:30:31.000,10.0,2.0\\n2016-03-22T12:30:34.000,11.0,2.5\\n2016-03-22T12:30:37.000,9.0,2.0\\n2016-03-22T12:30:40.000,10.0,1.5\\n2016-03-22T12:30:43.000,2.0,2.0\\n2016-03-22T12:30:46.000,3.0,2.0\\n2016-03-22T12:30:49.000,5.0,1.5\\n2016-03-22T12:30:52.000,12.0,1.5\\n2016-03-22T12:30:55.000,11.0,2.0\\n2016-03-22T12:30:58.000,10.0,2.5\\n\"\n    }\n  ],\n  \"marks\": [\n    {\n      \"type\": \"symbol\",\n      \"name\": \"56590664-cd06-4ad0-b159-d0279f0d762f\",\n      \"description\": \"Flux\",\n      \"clip\": true,\n      \"from\": {\n        \"data\": \"fb65add2-b390-4340-87cf-dc080bbee8da\"\n      },\n      \"encode\": {\n        \"enter\": {\n          \"x\": {\n            \"scale\": \"xscale\",\n            \"field\": \"time\"\n          },\n          \"y\": {\n            \"scale\": \"yscale\",\n            \"field\": \"flux\"\n          },\n          \"shape\": {\n            \"value\": \"circle\"\n          }\n        },\n        \"update\": {\n          \"shape\": {\n            \"value\": \"circle\"\n          },\n          \"size\": {\n            \"value\": 40\n          },\n          \"fill\": {\n            \"value\": \"#000000\"\n          },\n          \"fillOpacity\": {\n            \"value\": 1\n          },\n          \"stroke\": {\n            \"value\": \"#000000\"\n          },\n          \"strokeOpacity\": {\n            \"value\": 0.2\n          },\n          \"strokeWidth\": {\n            \"value\": 0\n          }\n        }\n      }\n    },\n    {\n      \"type\": \"rect\",\n      \"name\": \"56590664-cd06-4ad0-b159-d0279f0d762f\",\n      \"description\": \"Flux\",\n      \"clip\": true,\n      \"from\": {\n        \"data\": \"fb65add2-b390-4340-87cf-dc080bbee8da\"\n      },\n      \"encode\": {\n        \"enter\": {\n          \"x\": {\n            \"scale\": \"xscale\",\n            \"field\": \"time\"\n          },\n          \"y\": {\n            \"scale\": \"yscale\",\n            \"signal\": \"datum['flux'] - datum['error']\"\n          },\n          \"y2\": {\n            \"scale\": \"yscale\",\n            \"signal\": \"datum['flux'] + datum['error']\"\n          }\n        },\n        \"update\": {\n          \"shape\": {\n            \"value\": \"circle\"\n          },\n          \"width\": {\n            \"value\": 1\n          },\n          \"fill\": {\n            \"value\": \"#000000\"\n          },\n          \"fillOpacity\": {\n            \"value\": 1\n          },\n          \"stroke\": {\n            \"value\": \"#000000\"\n          },\n          \"strokeOpacity\": {\n            \"value\": 0.2\n          },\n          \"strokeWidth\": {\n            \"value\": 0\n          }\n        }\n      }\n    },\n    {\n      \"type\": \"line\",\n      \"name\": \"bd23f57b-9582-4027-9506-abc5455c09df\",\n      \"description\": \"Flux\",\n      \"clip\": true,\n      \"from\": {\n        \"data\": \"fb65add2-b390-4340-87cf-dc080bbee8da\"\n      },\n      \"encode\": {\n        \"enter\": {\n          \"x\": {\n            \"scale\": \"xscale\",\n            \"field\": \"time\"\n          },\n          \"y\": {\n            \"scale\": \"yscale\",\n            \"field\": \"flux\"\n          },\n          \"stroke\": {\n            \"value\": \"#000000\"\n          },\n          \"strokeOpacity\": {\n            \"value\": 1\n          },\n          \"strokeWidth\": {\n            \"value\": 2\n          }\n        }\n      }\n    }\n  ],\n  \"axes\": [\n    {\n      \"orient\": \"bottom\",\n      \"scale\": \"xscale\",\n      \"title\": \"Time\"\n    },\n    {\n      \"orient\": \"left\",\n      \"scale\": \"yscale\",\n      \"title\": \"Intensity\"\n    }\n  ],\n  \"scales\": [\n    {\n      \"name\": \"xscale\",\n      \"type\": \"time\",\n      \"range\": \"width\",\n      \"zero\": false,\n      \"padding\": 36,\n      \"domain\": [\n        {\n          \"signal\": \"datetime(2016, 2, 22, 12, 30, 31)\"\n        },\n        {\n          \"signal\": \"datetime(2016, 2, 22, 12, 30, 58)\"\n        }\n      ]\n    },\n    {\n      \"name\": \"yscale\",\n      \"type\": \"linear\",\n      \"range\": \"height\",\n      \"zero\": false,\n      \"padding\": 36,\n      \"domain\": [\n        2.0,\n        12.0\n      ]\n    }\n  ]\n}",
       "width": 600
      }
     }
    },
    "version_major": 2,
    "version_minor": 0
   }
  }
 },
 "nbformat": 4,
 "nbformat_minor": 2
}
