{
 "cells": [
  {
   "cell_type": "markdown",
   "metadata": {},
   "source": [
    "# Adding and modifying layers"
   ]
  },
  {
   "cell_type": "markdown",
   "metadata": {},
   "source": [
    "On this page, we take a look at all the available plotting features. Let's start off by creating a simple time series:"
   ]
  },
  {
   "cell_type": "code",
   "execution_count": 1,
   "metadata": {},
   "outputs": [],
   "source": [
    "from astropy import units as u\n",
    "from astropy_timeseries import TimeSeries\n",
    "ts = TimeSeries(time='2016-03-22T12:30:31', time_delta=3 * u.s, n_samples=10)\n",
    "ts['flux'] = [10, 11, 9, 10, 2, 3, 5, 12, 11, 10]\n",
    "ts['error'] = [2, 2.5, 2, 1.5, 2, 2, 1.5, 1.5, 2., 2.5]"
   ]
  },
  {
   "cell_type": "markdown",
   "metadata": {},
   "source": [
    "### Creating an interactive figure"
   ]
  },
  {
   "cell_type": "markdown",
   "metadata": {},
   "source": [
    "To create an interactive figure, use the [InteractiveTimeSeriesFigure](api/aas_timeseries.InteractiveTimeSeriesFigure.html#aas_timeseries.InteractiveTimeSeriesFigure) class:"
   ]
  },
  {
   "cell_type": "code",
   "execution_count": 2,
   "metadata": {},
   "outputs": [],
   "source": [
    "from aas_timeseries import InteractiveTimeSeriesFigure\n",
    "fig = InteractiveTimeSeriesFigure()"
   ]
  },
  {
   "cell_type": "markdown",
   "metadata": {},
   "source": [
    "### Note on adding and modifying layers"
   ]
  },
  {
   "cell_type": "markdown",
   "metadata": {},
   "source": [
    "Before we look at specific examples of layers, let's take a look at a couple of general patterns. First, interactive plots are defined by a collection of layers (e.g. markers, lines, shaded areas, text) that you can add using ``fig.add_*`` methods. These methods take all the arguments that can be used to customize a layer, e.g.:\n",
    "\n",
    "    fig.add_markers(time_series=ts, column='flux', label='Flux', color='red')\n",
    "    \n",
    "The ``add_*`` methods typically return an object that can be used to further customize the layer, so the above is equivalent to:\n",
    "\n",
    "    markers = fig.add_markers(time_series=ts, column='flux', label='Flux')\n",
    "    markers.color = 'red'\n",
    "\n",
    "Second, ``add_*`` layers take a ``label=`` argument that is used to define the name of the layer as shown in the list of layers (accessible from the top right menu in each interactive plot)."
   ]
  },
  {
   "cell_type": "markdown",
   "metadata": {},
   "source": [
    "### Markers"
   ]
  },
  {
   "cell_type": "markdown",
   "metadata": {},
   "source": [
    "To add markers, use the [add_markers](api/aas_timeseries.InteractiveTimeSeriesFigure.html#aas_timeseries.InteractiveTimeSeriesFigure.add_markers) method:"
   ]
  },
  {
   "cell_type": "code",
   "execution_count": 3,
   "metadata": {},
   "outputs": [],
   "source": [
    "markers = fig.add_markers(time_series=ts, column='flux', label='Flux')"
   ]
  },
  {
   "cell_type": "markdown",
   "metadata": {},
   "source": [
    "We can then use [preview_interactive](api/aas_timeseries.InteractiveTimeSeriesFigure.html#aas_timeseries.InteractiveTimeSeriesFigure.preview_interactive) to view the current version of the interactive plot."
   ]
  },
  {
   "cell_type": "code",
   "execution_count": 4,
   "metadata": {
    "scrolled": false
   },
   "outputs": [
    {
     "data": {
      "application/vnd.jupyter.widget-view+json": {
       "model_id": "a70cfd2f01714243a521e49161102484",
       "version_major": 2,
       "version_minor": 0
      },
      "text/plain": [
       "TimeSeriesWidget(vega_json='{\\n  \"$schema\": \"https://vega.github.io/schema/vega/v4.json\",\\n  \"width\": 600,\\n  …"
      ]
     },
     "metadata": {},
     "output_type": "display_data"
    }
   ],
   "source": [
    "fig.preview_interactive()"
   ]
  },
  {
   "cell_type": "markdown",
   "metadata": {},
   "source": [
    "As mentioned above, because we wrote ``markers =``, we can further change the properties of the markers after they have been added to the figure - for example, we can change the marker size:"
   ]
  },
  {
   "cell_type": "code",
   "execution_count": 5,
   "metadata": {},
   "outputs": [
    {
     "data": {
      "application/vnd.jupyter.widget-view+json": {
       "model_id": "ba2073e440a04d12b74b237501e54838",
       "version_major": 2,
       "version_minor": 0
      },
      "text/plain": [
       "TimeSeriesWidget(vega_json='{\\n  \"$schema\": \"https://vega.github.io/schema/vega/v4.json\",\\n  \"width\": 600,\\n  …"
      ]
     },
     "metadata": {},
     "output_type": "display_data"
    }
   ],
   "source": [
    "markers.size = 40\n",
    "fig.preview_interactive()"
   ]
  },
  {
   "cell_type": "markdown",
   "metadata": {},
   "source": [
    "If you want to show error bars, you can pass the ``error`` argument to [add_markers](api/aas_timeseries.InteractiveTimeSeriesFigure.html#aas_timeseries.InteractiveTimeSeriesFigure.add_markers), specifying a column to use for the uncertainties, or you can set it on the ``markers`` object after the fact:"
   ]
  },
  {
   "cell_type": "code",
   "execution_count": 6,
   "metadata": {},
   "outputs": [
    {
     "data": {
      "application/vnd.jupyter.widget-view+json": {
       "model_id": "34c37e9f358c4128aabd7090102b42d5",
       "version_major": 2,
       "version_minor": 0
      },
      "text/plain": [
       "TimeSeriesWidget(vega_json='{\\n  \"$schema\": \"https://vega.github.io/schema/vega/v4.json\",\\n  \"width\": 600,\\n  …"
      ]
     },
     "metadata": {},
     "output_type": "display_data"
    }
   ],
   "source": [
    "markers.error = 'error'\n",
    "fig.preview_interactive()"
   ]
  },
  {
   "cell_type": "markdown",
   "metadata": {},
   "source": [
    "### Lines"
   ]
  },
  {
   "cell_type": "markdown",
   "metadata": {},
   "source": [
    "Adding a line is done in a similar way using the [add_line](api/aas_timeseries.InteractiveTimeSeriesFigure.html#aas_timeseries.InteractiveTimeSeriesFigure.add_line) method:"
   ]
  },
  {
   "cell_type": "code",
   "execution_count": 7,
   "metadata": {},
   "outputs": [],
   "source": [
    "line = fig.add_line(time_series=ts, column='flux', label='Flux')"
   ]
  },
  {
   "cell_type": "code",
   "execution_count": 8,
   "metadata": {},
   "outputs": [
    {
     "data": {
      "application/vnd.jupyter.widget-view+json": {
       "model_id": "f8ea908ec8c344fbbc7f4d8626145eca",
       "version_major": 2,
       "version_minor": 0
      },
      "text/plain": [
       "TimeSeriesWidget(vega_json='{\\n  \"$schema\": \"https://vega.github.io/schema/vega/v4.json\",\\n  \"width\": 600,\\n  …"
      ]
     },
     "metadata": {},
     "output_type": "display_data"
    }
   ],
   "source": [
    "fig.preview_interactive()"
   ]
  },
  {
   "cell_type": "markdown",
   "metadata": {},
   "source": [
    "As for markers, the returned ``line`` object can be used to update properties of the line, e.g.:"
   ]
  },
  {
   "cell_type": "code",
   "execution_count": 9,
   "metadata": {},
   "outputs": [
    {
     "data": {
      "application/vnd.jupyter.widget-view+json": {
       "model_id": "0c14bc7a9e7c4f2195c3b9692514497f",
       "version_major": 2,
       "version_minor": 0
      },
      "text/plain": [
       "TimeSeriesWidget(vega_json='{\\n  \"$schema\": \"https://vega.github.io/schema/vega/v4.json\",\\n  \"width\": 600,\\n  …"
      ]
     },
     "metadata": {},
     "output_type": "display_data"
    }
   ],
   "source": [
    "line.width = 2\n",
    "fig.preview_interactive()"
   ]
  },
  {
   "cell_type": "markdown",
   "metadata": {},
   "source": [
    "### Vertical and horizontal lines"
   ]
  },
  {
   "cell_type": "markdown",
   "metadata": {},
   "source": [
    "In some cases it can be useful to indicate specific points in time with vertical lines, or certain y-axis values with horizontal lines. These can be added with the [add_vertical_line](api/aas_timeseries.InteractiveTimeSeriesFigure.html#aas_timeseries.InteractiveTimeSeriesFigure.add_vertical_line) and [add_horizontal_line](api/aas_timeseries.InteractiveTimeSeriesFigure.html#aas_timeseries.InteractiveTimeSeriesFigure.add_horizontal_line) methods:"
   ]
  },
  {
   "cell_type": "code",
   "execution_count": 10,
   "metadata": {},
   "outputs": [],
   "source": [
    "vertical_line = fig.add_vertical_line(ts.time[5], label='Special event')\n",
    "horizontal_line = fig.add_horizontal_line(10, label='Baseline flux')"
   ]
  },
  {
   "cell_type": "code",
   "execution_count": 11,
   "metadata": {},
   "outputs": [
    {
     "data": {
      "application/vnd.jupyter.widget-view+json": {
       "model_id": "7a590dc94b604161b114bb2f3bb6f978",
       "version_major": 2,
       "version_minor": 0
      },
      "text/plain": [
       "TimeSeriesWidget(vega_json='{\\n  \"$schema\": \"https://vega.github.io/schema/vega/v4.json\",\\n  \"width\": 600,\\n  …"
      ]
     },
     "metadata": {},
     "output_type": "display_data"
    }
   ],
   "source": [
    "fig.preview_interactive()"
   ]
  },
  {
   "cell_type": "markdown",
   "metadata": {},
   "source": [
    "### Ranges"
   ]
  },
  {
   "cell_type": "markdown",
   "metadata": {},
   "source": [
    "There are three kinds of ranges that can be added to plots. First, if your time series has columns that can serve as the lower and upper values for a range as a function of time. Let's create two such columns to demonstrate:"
   ]
  },
  {
   "cell_type": "code",
   "execution_count": 12,
   "metadata": {},
   "outputs": [],
   "source": [
    "ts['flux_lo'] = ts['flux'] - ts['error']\n",
    "ts['flux_hi'] = ts['flux'] + ts['error']"
   ]
  },
  {
   "cell_type": "markdown",
   "metadata": {},
   "source": [
    "And we can now plot a time-dependent range using [add_range](api/aas_timeseries.InteractiveTimeSeriesFigure.html#aas_timeseries.InteractiveTimeSeriesFigure.add_range):"
   ]
  },
  {
   "cell_type": "code",
   "execution_count": 13,
   "metadata": {},
   "outputs": [
    {
     "data": {
      "application/vnd.jupyter.widget-view+json": {
       "model_id": "2c7d9d7521e64dc88898ad7301462e45",
       "version_major": 2,
       "version_minor": 0
      },
      "text/plain": [
       "TimeSeriesWidget(vega_json='{\\n  \"$schema\": \"https://vega.github.io/schema/vega/v4.json\",\\n  \"width\": 600,\\n  …"
      ]
     },
     "metadata": {},
     "output_type": "display_data"
    }
   ],
   "source": [
    "frange = fig.add_range(time_series=ts, column_lower='flux_lo',\n",
    "                       column_upper='flux_hi', label='Range')\n",
    "fig.preview_interactive()"
   ]
  },
  {
   "cell_type": "markdown",
   "metadata": {},
   "source": [
    "It is also possible to define horizontal and vertical ranges in a similar way to horizontal and vertical lines using [add_vertical_range](api/aas_timeseries.InteractiveTimeSeriesFigure.html#aas_timeseries.InteractiveTimeSeriesFigure.add_vertical_range) and [add_horizontal_range](api/aas_timeseries.InteractiveTimeSeriesFigure.html#aas_timeseries.InteractiveTimeSeriesFigure.add_horizontal_range):"
   ]
  },
  {
   "cell_type": "code",
   "execution_count": 14,
   "metadata": {},
   "outputs": [],
   "source": [
    "vrange = fig.add_vertical_range(ts.time[4], ts.time[6], label='Vertical Range')\n",
    "hrange = fig.add_horizontal_range(8, 11, label='Horizontal Range')"
   ]
  },
  {
   "cell_type": "code",
   "execution_count": 15,
   "metadata": {},
   "outputs": [
    {
     "data": {
      "application/vnd.jupyter.widget-view+json": {
       "model_id": "a67340fc7a6043278d724f59333dda44",
       "version_major": 2,
       "version_minor": 0
      },
      "text/plain": [
       "TimeSeriesWidget(vega_json='{\\n  \"$schema\": \"https://vega.github.io/schema/vega/v4.json\",\\n  \"width\": 600,\\n  …"
      ]
     },
     "metadata": {},
     "output_type": "display_data"
    }
   ],
   "source": [
    "fig.preview_interactive()"
   ]
  },
  {
   "cell_type": "markdown",
   "metadata": {},
   "source": [
    "### Text labels"
   ]
  },
  {
   "cell_type": "markdown",
   "metadata": {},
   "source": [
    "Text labels can be added using the [add_text](api/aas_timeseries.InteractiveTimeSeriesFigure.html#aas_timeseries.InteractiveTimeSeriesFigure.add_text) method:"
   ]
  },
  {
   "cell_type": "code",
   "execution_count": 16,
   "metadata": {},
   "outputs": [],
   "source": [
    "text = fig.add_text(time=ts.time[1], value=5, text='Here be dragons', label='Text')"
   ]
  },
  {
   "cell_type": "code",
   "execution_count": 17,
   "metadata": {
    "scrolled": false
   },
   "outputs": [
    {
     "data": {
      "application/vnd.jupyter.widget-view+json": {
       "model_id": "a95a670883b44de7b9b6c0fa51383bf2",
       "version_major": 2,
       "version_minor": 0
      },
      "text/plain": [
       "TimeSeriesWidget(vega_json='{\\n  \"$schema\": \"https://vega.github.io/schema/vega/v4.json\",\\n  \"width\": 600,\\n  …"
      ]
     },
     "metadata": {},
     "output_type": "display_data"
    }
   ],
   "source": [
    "fig.preview_interactive()"
   ]
  }
 ],
 "metadata": {
  "kernelspec": {
   "display_name": "Python 3",
   "language": "python",
   "name": "python3"
  },
  "language_info": {
   "codemirror_mode": {
    "name": "ipython",
    "version": 3
   },
   "file_extension": ".py",
   "mimetype": "text/x-python",
   "name": "python",
   "nbconvert_exporter": "python",
   "pygments_lexer": "ipython3",
   "version": "3.7.1"
  }
 },
 "nbformat": 4,
 "nbformat_minor": 2
}
