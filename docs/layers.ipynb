{
 "cells": [
  {
   "cell_type": "markdown",
   "metadata": {},
   "source": [
    "# Adding and modifying layers"
   ]
  },
  {
   "cell_type": "markdown",
   "metadata": {},
   "source": [
    "On this page, we take a look at all the available plotting features. Let's start off by creating a simple time series:"
   ]
  },
  {
   "cell_type": "code",
   "execution_count": 1,
   "metadata": {},
   "outputs": [],
   "source": [
    "from astropy import units as u\n",
    "from astropy_timeseries import TimeSeries\n",
    "ts = TimeSeries(time='2016-03-22T12:30:31', time_delta=3 * u.s, n_samples=10)\n",
    "ts['flux'] = [10, 11, 9, 10, 2, 3, 5, 12, 11, 10]\n",
    "ts['error'] = [2, 2.5, 2, 1.5, 2, 2, 1.5, 1.5, 2., 2.5]"
   ]
  },
  {
   "cell_type": "markdown",
   "metadata": {},
   "source": [
    "### Creating an interactive figure"
   ]
  },
  {
   "cell_type": "markdown",
   "metadata": {},
   "source": [
    "To create an interactive figure, use the [InteractiveTimeSeriesFigure](api/aas_timeseries.InteractiveTimeSeriesFigure.rst#aas_timeseries.InteractiveTimeSeriesFigure) class:"
   ]
  },
  {
   "cell_type": "code",
   "execution_count": 2,
   "metadata": {},
   "outputs": [],
   "source": [
    "from aas_timeseries import InteractiveTimeSeriesFigure\n",
    "fig = InteractiveTimeSeriesFigure()"
   ]
  },
  {
   "cell_type": "markdown",
   "metadata": {},
   "source": [
    "### Note on adding and modifying layers"
   ]
  },
  {
   "cell_type": "markdown",
   "metadata": {},
   "source": [
    "Before we look at specific examples of layers, let's take a look at a couple of general patterns. First, interactive plots are defined by a collection of layers (e.g. markers, lines, shaded areas, text) that you can add using ``fig.add_*`` methods. These methods take all the arguments that can be used to customize a layer, e.g.:\n",
    "\n",
    "    fig.add_markers(time_series=ts, column='flux', label='Flux', color='red')\n",
    "    \n",
    "The ``add_*`` methods typically return an object that can be used to further customize the layer, so the above is equivalent to:\n",
    "\n",
    "    markers = fig.add_markers(time_series=ts, column='flux', label='Flux')\n",
    "    markers.color = 'red'\n",
    "\n",
    "Second, ``add_*`` layers take a ``label=`` argument that is used to define the name of the layer as shown in the list of layers (accessible from the top right menu in each interactive plot)."
   ]
  },
  {
   "cell_type": "markdown",
   "metadata": {},
   "source": [
    "### Markers"
   ]
  },
  {
   "cell_type": "markdown",
   "metadata": {},
   "source": [
    "To add markers, use the [add_markers](api/aas_timeseries.InteractiveTimeSeriesFigure.rst#aas_timeseries.InteractiveTimeSeriesFigure.add_markers) method:"
   ]
  },
  {
   "cell_type": "code",
   "execution_count": 3,
   "metadata": {},
   "outputs": [],
   "source": [
    "markers = fig.add_markers(time_series=ts, column='flux', label='Flux')"
   ]
  },
  {
   "cell_type": "markdown",
   "metadata": {},
   "source": [
    "We can then use [preview_interactive](api/aas_timeseries.InteractiveTimeSeriesFigure.rst#aas_timeseries.InteractiveTimeSeriesFigure.preview_interactive) to view the current version of the interactive plot."
   ]
  },
  {
   "cell_type": "code",
   "execution_count": 4,
   "metadata": {
    "scrolled": false
   },
   "outputs": [
    {
     "data": {
      "application/vnd.jupyter.widget-view+json": {
       "model_id": "339aaa8dcd7d448f8892c17bab932d4a",
       "version_major": 2,
       "version_minor": 0
      },
      "text/plain": [
       "TimeSeriesWidget(vega_json='{\\n  \"$schema\": \"https://vega.github.io/schema/vega/v4.json\",\\n  \"width\": 600,\\n  …"
      ]
     },
     "metadata": {},
     "output_type": "display_data"
    }
   ],
   "source": [
    "fig.preview_interactive()"
   ]
  },
  {
   "cell_type": "markdown",
   "metadata": {},
   "source": [
    "As mentioned above, because we wrote ``markers =``, we can further change the properties of the markers after they have been added to the figure - for example, we can change the marker size:"
   ]
  },
  {
   "cell_type": "code",
   "execution_count": 5,
   "metadata": {},
   "outputs": [
    {
     "data": {
      "application/vnd.jupyter.widget-view+json": {
       "model_id": "800ec15be80e4d4d94d9adf5dbed4020",
       "version_major": 2,
       "version_minor": 0
      },
      "text/plain": [
       "TimeSeriesWidget(vega_json='{\\n  \"$schema\": \"https://vega.github.io/schema/vega/v4.json\",\\n  \"width\": 600,\\n  …"
      ]
     },
     "metadata": {},
     "output_type": "display_data"
    }
   ],
   "source": [
    "markers.size = 40\n",
    "fig.preview_interactive()"
   ]
  },
  {
   "cell_type": "markdown",
   "metadata": {},
   "source": [
    "If you want to show error bars, you can pass the ``error`` argument to [add_markers](api/aas_timeseries.InteractiveTimeSeriesFigure.rst#aas_timeseries.InteractiveTimeSeriesFigure.add_markers), specifying a column to use for the uncertainties, or you can set it on the ``markers`` object after the fact:"
   ]
  },
  {
   "cell_type": "code",
   "execution_count": 6,
   "metadata": {},
   "outputs": [
    {
     "data": {
      "application/vnd.jupyter.widget-view+json": {
       "model_id": "cbbfff39867842fc8f4bfb208395ce33",
       "version_major": 2,
       "version_minor": 0
      },
      "text/plain": [
       "TimeSeriesWidget(vega_json='{\\n  \"$schema\": \"https://vega.github.io/schema/vega/v4.json\",\\n  \"width\": 600,\\n  …"
      ]
     },
     "metadata": {},
     "output_type": "display_data"
    }
   ],
   "source": [
    "markers.error = 'error'\n",
    "fig.preview_interactive()"
   ]
  },
  {
   "cell_type": "markdown",
   "metadata": {},
   "source": [
    "### Lines"
   ]
  },
  {
   "cell_type": "markdown",
   "metadata": {},
   "source": [
    "Adding a line is done in a similar way using the [add_line](api/aas_timeseries.InteractiveTimeSeriesFigure.rst#aas_timeseries.InteractiveTimeSeriesFigure.add_line) method:"
   ]
  },
  {
   "cell_type": "code",
   "execution_count": 7,
   "metadata": {},
   "outputs": [],
   "source": [
    "line = fig.add_line(time_series=ts, column='flux', label='Flux')"
   ]
  },
  {
   "cell_type": "code",
   "execution_count": 8,
   "metadata": {},
   "outputs": [
    {
     "data": {
      "application/vnd.jupyter.widget-view+json": {
       "model_id": "56cff4caa99e4887bd802a79ac652013",
       "version_major": 2,
       "version_minor": 0
      },
      "text/plain": [
       "TimeSeriesWidget(vega_json='{\\n  \"$schema\": \"https://vega.github.io/schema/vega/v4.json\",\\n  \"width\": 600,\\n  …"
      ]
     },
     "metadata": {},
     "output_type": "display_data"
    }
   ],
   "source": [
    "fig.preview_interactive()"
   ]
  },
  {
   "cell_type": "markdown",
   "metadata": {},
   "source": [
    "As for markers, the returned ``line`` object can be used to update properties of the line, e.g.:"
   ]
  },
  {
   "cell_type": "code",
   "execution_count": 9,
   "metadata": {},
   "outputs": [
    {
     "data": {
      "application/vnd.jupyter.widget-view+json": {
       "model_id": "3b89677e726f4035b1ea477181dedda3",
       "version_major": 2,
       "version_minor": 0
      },
      "text/plain": [
       "TimeSeriesWidget(vega_json='{\\n  \"$schema\": \"https://vega.github.io/schema/vega/v4.json\",\\n  \"width\": 600,\\n  …"
      ]
     },
     "metadata": {},
     "output_type": "display_data"
    }
   ],
   "source": [
    "line.width = 2\n",
    "fig.preview_interactive()"
   ]
  },
  {
   "cell_type": "markdown",
   "metadata": {},
   "source": [
    "### Vertical and horizontal lines"
   ]
  },
  {
   "cell_type": "markdown",
   "metadata": {},
   "source": [
    "In some cases it can be useful to indicate specific points in time with vertical lines, or certain y-axis values with horizontal lines. These can be added with the [add_vertical_line](api/aas_timeseries.InteractiveTimeSeriesFigure.rst#aas_timeseries.InteractiveTimeSeriesFigure.add_vertical_line) and [add_horizontal_line](api/aas_timeseries.InteractiveTimeSeriesFigure.rst#aas_timeseries.InteractiveTimeSeriesFigure.add_horizontal_line) methods:"
   ]
  },
  {
   "cell_type": "code",
   "execution_count": 10,
   "metadata": {},
   "outputs": [],
   "source": [
    "vertical_line = fig.add_vertical_line(ts.time[5], label='Special event')\n",
    "horizontal_line = fig.add_horizontal_line(10, label='Baseline flux')"
   ]
  },
  {
   "cell_type": "code",
   "execution_count": 11,
   "metadata": {},
   "outputs": [
    {
     "data": {
      "application/vnd.jupyter.widget-view+json": {
       "model_id": "066f0b8b9efb4575a47b33675d5b616d",
       "version_major": 2,
       "version_minor": 0
      },
      "text/plain": [
       "TimeSeriesWidget(vega_json='{\\n  \"$schema\": \"https://vega.github.io/schema/vega/v4.json\",\\n  \"width\": 600,\\n  …"
      ]
     },
     "metadata": {},
     "output_type": "display_data"
    }
   ],
   "source": [
    "fig.preview_interactive()"
   ]
  },
  {
   "cell_type": "markdown",
   "metadata": {},
   "source": [
    "### Ranges"
   ]
  },
  {
   "cell_type": "markdown",
   "metadata": {},
   "source": [
    "There are three kinds of ranges that can be added to plots. First, if your time series has columns that can serve as the lower and upper values for a range as a function of time. Let's create two such columns to demonstrate:"
   ]
  },
  {
   "cell_type": "code",
   "execution_count": 12,
   "metadata": {},
   "outputs": [],
   "source": [
    "ts['flux_lo'] = ts['flux'] - ts['error']\n",
    "ts['flux_hi'] = ts['flux'] + ts['error']"
   ]
  },
  {
   "cell_type": "markdown",
   "metadata": {},
   "source": [
    "And we can now plot a time-dependent range using [add_range](api/aas_timeseries.InteractiveTimeSeriesFigure.rst#aas_timeseries.InteractiveTimeSeriesFigure.add_range):"
   ]
  },
  {
   "cell_type": "code",
   "execution_count": 13,
   "metadata": {},
   "outputs": [
    {
     "data": {
      "application/vnd.jupyter.widget-view+json": {
       "model_id": "d0d827b417b8454bb1575a83922d7afb",
       "version_major": 2,
       "version_minor": 0
      },
      "text/plain": [
       "TimeSeriesWidget(vega_json='{\\n  \"$schema\": \"https://vega.github.io/schema/vega/v4.json\",\\n  \"width\": 600,\\n  …"
      ]
     },
     "metadata": {},
     "output_type": "display_data"
    }
   ],
   "source": [
    "frange = fig.add_range(time_series=ts, column_lower='flux_lo',\n",
    "                       column_upper='flux_hi', label='Range')\n",
    "fig.preview_interactive()"
   ]
  },
  {
   "cell_type": "markdown",
   "metadata": {},
   "source": [
    "It is also possible to define horizontal and vertical ranges in a similar way to horizontal and vertical lines using [add_vertical_range](api/aas_timeseries.InteractiveTimeSeriesFigure.rst#aas_timeseries.InteractiveTimeSeriesFigure.add_vertical_range) and [add_horizontal_range](api/aas_timeseries.InteractiveTimeSeriesFigure.rst#aas_timeseries.InteractiveTimeSeriesFigure.add_horizontal_range):"
   ]
  },
  {
   "cell_type": "code",
   "execution_count": 14,
   "metadata": {},
   "outputs": [],
   "source": [
    "vrange = fig.add_vertical_range(ts.time[4], ts.time[6], label='Vertical Range')\n",
    "hrange = fig.add_horizontal_range(8, 11, label='Horizontal Range')"
   ]
  },
  {
   "cell_type": "code",
   "execution_count": 15,
   "metadata": {},
   "outputs": [
    {
     "data": {
      "application/vnd.jupyter.widget-view+json": {
       "model_id": "355200fafa9244eaa8f8dbdafb1efd44",
       "version_major": 2,
       "version_minor": 0
      },
      "text/plain": [
       "TimeSeriesWidget(vega_json='{\\n  \"$schema\": \"https://vega.github.io/schema/vega/v4.json\",\\n  \"width\": 600,\\n  …"
      ]
     },
     "metadata": {},
     "output_type": "display_data"
    }
   ],
   "source": [
    "fig.preview_interactive()"
   ]
  },
  {
   "cell_type": "markdown",
   "metadata": {},
   "source": [
    "### Text labels"
   ]
  },
  {
   "cell_type": "markdown",
   "metadata": {},
   "source": [
    "Text labels can be added using the [add_text](api/aas_timeseries.InteractiveTimeSeriesFigure.rst#aas_timeseries.InteractiveTimeSeriesFigure.add_text) method:"
   ]
  },
  {
   "cell_type": "code",
   "execution_count": 16,
   "metadata": {},
   "outputs": [],
   "source": [
    "text = fig.add_text(time=ts.time[1], value=5, text='Here be dragons', label='Text')"
   ]
  },
  {
   "cell_type": "code",
   "execution_count": 17,
   "metadata": {
    "scrolled": false
   },
   "outputs": [
    {
     "data": {
      "application/vnd.jupyter.widget-view+json": {
       "model_id": "18e0c837a10f4d488ca30bb3e50cff72",
       "version_major": 2,
       "version_minor": 0
      },
      "text/plain": [
       "TimeSeriesWidget(vega_json='{\\n  \"$schema\": \"https://vega.github.io/schema/vega/v4.json\",\\n  \"width\": 600,\\n  …"
      ]
     },
     "metadata": {},
     "output_type": "display_data"
    }
   ],
   "source": [
    "fig.preview_interactive()"
   ]
  }
 ],
 "metadata": {
  "kernelspec": {
   "display_name": "Python 3",
   "language": "python",
   "name": "python3"
  },
  "language_info": {
   "codemirror_mode": {
    "name": "ipython",
    "version": 3
   },
   "file_extension": ".py",
   "mimetype": "text/x-python",
   "name": "python",
   "nbconvert_exporter": "python",
   "pygments_lexer": "ipython3",
   "version": "3.7.1"
  },
  "widgets": {
   "application/vnd.jupyter.widget-state+json": {
    "state": {
     "066f0b8b9efb4575a47b33675d5b616d": {
      "model_module": "jupyter-aas-timeseries",
      "model_module_version": "^0.1.3",
      "model_name": "TimeSeriesModel",
      "state": {
       "_model_module_version": "^0.1.3",
       "_view_module_version": "^0.1.3",
       "height": 480,
       "layout": "IPY_MODEL_d0388dc3c0eb426c8983d82c22abbfaf",
       "vega_json": "{\n  \"$schema\": \"https://vega.github.io/schema/vega/v4.json\",\n  \"width\": 600,\n  \"height\": 400,\n  \"padding\": 0,\n  \"autosize\": {\n    \"type\": \"fit\",\n    \"resize\": false\n  },\n  \"data\": [\n    {\n      \"name\": \"fedf5748-bed4-412b-bde2-a92d9c7fa3af\",\n      \"values\": \"time,flux,error\\n2016-03-22T12:30:31.000,10,2.0\\n2016-03-22T12:30:34.000,11,2.5\\n2016-03-22T12:30:37.000,9,2.0\\n2016-03-22T12:30:40.000,10,1.5\\n2016-03-22T12:30:43.000,2,2.0\\n2016-03-22T12:30:46.000,3,2.0\\n2016-03-22T12:30:49.000,5,1.5\\n2016-03-22T12:30:52.000,12,1.5\\n2016-03-22T12:30:55.000,11,2.0\\n2016-03-22T12:30:58.000,10,2.5\\n\",\n      \"format\": {\n        \"type\": \"csv\",\n        \"parse\": {\n          \"time\": \"date\",\n          \"flux\": \"number\",\n          \"error\": \"number\"\n        }\n      }\n    }\n  ],\n  \"marks\": [\n    {\n      \"type\": \"symbol\",\n      \"description\": \"Flux\",\n      \"clip\": true,\n      \"from\": {\n        \"data\": \"fedf5748-bed4-412b-bde2-a92d9c7fa3af\"\n      },\n      \"encode\": {\n        \"enter\": {\n          \"x\": {\n            \"scale\": \"xscale\",\n            \"field\": \"time\"\n          },\n          \"y\": {\n            \"scale\": \"yscale\",\n            \"field\": \"flux\"\n          },\n          \"shape\": {\n            \"value\": \"circle\"\n          }\n        },\n        \"update\": {\n          \"shape\": {\n            \"value\": \"circle\"\n          },\n          \"size\": {\n            \"value\": 40\n          },\n          \"fill\": {\n            \"value\": \"#000000\"\n          },\n          \"fillOpacity\": {\n            \"value\": 1\n          },\n          \"stroke\": {\n            \"value\": \"#000000\"\n          },\n          \"strokeOpacity\": {\n            \"value\": 0.2\n          },\n          \"strokeWidth\": {\n            \"value\": 0\n          }\n        }\n      }\n    },\n    {\n      \"type\": \"rect\",\n      \"description\": \"Flux\",\n      \"clip\": true,\n      \"from\": {\n        \"data\": \"fedf5748-bed4-412b-bde2-a92d9c7fa3af\"\n      },\n      \"encode\": {\n        \"enter\": {\n          \"x\": {\n            \"scale\": \"xscale\",\n            \"field\": \"time\"\n          },\n          \"y\": {\n            \"scale\": \"yscale\",\n            \"signal\": \"datum['flux'] - datum['error']\"\n          },\n          \"y2\": {\n            \"scale\": \"yscale\",\n            \"signal\": \"datum['flux'] + datum['error']\"\n          }\n        },\n        \"update\": {\n          \"shape\": {\n            \"value\": \"circle\"\n          },\n          \"width\": {\n            \"value\": 1\n          },\n          \"fill\": {\n            \"value\": \"#000000\"\n          },\n          \"fillOpacity\": {\n            \"value\": 1\n          },\n          \"stroke\": {\n            \"value\": \"#000000\"\n          },\n          \"strokeOpacity\": {\n            \"value\": 0.2\n          },\n          \"strokeWidth\": {\n            \"value\": 0\n          }\n        }\n      }\n    },\n    {\n      \"type\": \"line\",\n      \"description\": \"Flux\",\n      \"clip\": true,\n      \"from\": {\n        \"data\": \"fedf5748-bed4-412b-bde2-a92d9c7fa3af\"\n      },\n      \"encode\": {\n        \"enter\": {\n          \"x\": {\n            \"scale\": \"xscale\",\n            \"field\": \"time\"\n          },\n          \"y\": {\n            \"scale\": \"yscale\",\n            \"field\": \"flux\"\n          },\n          \"stroke\": {\n            \"value\": \"#000000\"\n          },\n          \"strokeOpacity\": {\n            \"value\": 1\n          },\n          \"strokeWidth\": {\n            \"value\": 2\n          }\n        }\n      }\n    },\n    {\n      \"type\": \"rule\",\n      \"description\": \"Special event\",\n      \"clip\": true,\n      \"encode\": {\n        \"enter\": {\n          \"x\": {\n            \"scale\": \"xscale\",\n            \"signal\": \"datetime(2016, 2, 22, 12, 30, 46)\"\n          },\n          \"y\": {\n            \"value\": 0\n          },\n          \"y2\": {\n            \"field\": {\n              \"group\": \"height\"\n            }\n          },\n          \"strokeWidth\": {\n            \"value\": 1\n          },\n          \"stroke\": {\n            \"value\": \"#000000\"\n          },\n          \"strokeOpacity\": {\n            \"value\": 1\n          }\n        }\n      }\n    },\n    {\n      \"type\": \"rule\",\n      \"description\": \"Baseline flux\",\n      \"clip\": true,\n      \"encode\": {\n        \"enter\": {\n          \"x\": {\n            \"value\": 0\n          },\n          \"x2\": {\n            \"field\": {\n              \"group\": \"width\"\n            }\n          },\n          \"y\": {\n            \"scale\": \"yscale\",\n            \"value\": 10.0\n          },\n          \"strokeWidth\": {\n            \"value\": 1\n          },\n          \"stroke\": {\n            \"value\": \"#000000\"\n          },\n          \"strokeOpacity\": {\n            \"value\": 1\n          }\n        }\n      }\n    }\n  ],\n  \"axes\": [\n    {\n      \"orient\": \"bottom\",\n      \"scale\": \"xscale\",\n      \"title\": \"Time\"\n    },\n    {\n      \"orient\": \"left\",\n      \"scale\": \"yscale\",\n      \"title\": \"Intensity\"\n    }\n  ],\n  \"scales\": [\n    {\n      \"name\": \"xscale\",\n      \"type\": \"time\",\n      \"range\": \"width\",\n      \"zero\": false\n    },\n    {\n      \"name\": \"yscale\",\n      \"type\": \"linear\",\n      \"range\": \"width\",\n      \"zero\": false\n    }\n  ]\n}",
       "width": 600
      }
     },
     "18e0c837a10f4d488ca30bb3e50cff72": {
      "model_module": "jupyter-aas-timeseries",
      "model_module_version": "^0.1.3",
      "model_name": "TimeSeriesModel",
      "state": {
       "_model_module_version": "^0.1.3",
       "_view_module_version": "^0.1.3",
       "height": 480,
       "layout": "IPY_MODEL_b826ccfab3c846f486727f8ef2c51e7c",
       "vega_json": "{\n  \"$schema\": \"https://vega.github.io/schema/vega/v4.json\",\n  \"width\": 600,\n  \"height\": 400,\n  \"padding\": 0,\n  \"autosize\": {\n    \"type\": \"fit\",\n    \"resize\": false\n  },\n  \"data\": [\n    {\n      \"name\": \"fedf5748-bed4-412b-bde2-a92d9c7fa3af\",\n      \"values\": \"time,flux,error,flux_lo,flux_hi\\n2016-03-22T12:30:31.000,10,2.0,8.0,12.0\\n2016-03-22T12:30:34.000,11,2.5,8.5,13.5\\n2016-03-22T12:30:37.000,9,2.0,7.0,11.0\\n2016-03-22T12:30:40.000,10,1.5,8.5,11.5\\n2016-03-22T12:30:43.000,2,2.0,0.0,4.0\\n2016-03-22T12:30:46.000,3,2.0,1.0,5.0\\n2016-03-22T12:30:49.000,5,1.5,3.5,6.5\\n2016-03-22T12:30:52.000,12,1.5,10.5,13.5\\n2016-03-22T12:30:55.000,11,2.0,9.0,13.0\\n2016-03-22T12:30:58.000,10,2.5,7.5,12.5\\n\",\n      \"format\": {\n        \"type\": \"csv\",\n        \"parse\": {\n          \"time\": \"date\",\n          \"flux\": \"number\",\n          \"error\": \"number\",\n          \"flux_lo\": \"number\",\n          \"flux_hi\": \"number\"\n        }\n      }\n    }\n  ],\n  \"marks\": [\n    {\n      \"type\": \"symbol\",\n      \"description\": \"Flux\",\n      \"clip\": true,\n      \"from\": {\n        \"data\": \"fedf5748-bed4-412b-bde2-a92d9c7fa3af\"\n      },\n      \"encode\": {\n        \"enter\": {\n          \"x\": {\n            \"scale\": \"xscale\",\n            \"field\": \"time\"\n          },\n          \"y\": {\n            \"scale\": \"yscale\",\n            \"field\": \"flux\"\n          },\n          \"shape\": {\n            \"value\": \"circle\"\n          }\n        },\n        \"update\": {\n          \"shape\": {\n            \"value\": \"circle\"\n          },\n          \"size\": {\n            \"value\": 40\n          },\n          \"fill\": {\n            \"value\": \"#000000\"\n          },\n          \"fillOpacity\": {\n            \"value\": 1\n          },\n          \"stroke\": {\n            \"value\": \"#000000\"\n          },\n          \"strokeOpacity\": {\n            \"value\": 0.2\n          },\n          \"strokeWidth\": {\n            \"value\": 0\n          }\n        }\n      }\n    },\n    {\n      \"type\": \"rect\",\n      \"description\": \"Flux\",\n      \"clip\": true,\n      \"from\": {\n        \"data\": \"fedf5748-bed4-412b-bde2-a92d9c7fa3af\"\n      },\n      \"encode\": {\n        \"enter\": {\n          \"x\": {\n            \"scale\": \"xscale\",\n            \"field\": \"time\"\n          },\n          \"y\": {\n            \"scale\": \"yscale\",\n            \"signal\": \"datum['flux'] - datum['error']\"\n          },\n          \"y2\": {\n            \"scale\": \"yscale\",\n            \"signal\": \"datum['flux'] + datum['error']\"\n          }\n        },\n        \"update\": {\n          \"shape\": {\n            \"value\": \"circle\"\n          },\n          \"width\": {\n            \"value\": 1\n          },\n          \"fill\": {\n            \"value\": \"#000000\"\n          },\n          \"fillOpacity\": {\n            \"value\": 1\n          },\n          \"stroke\": {\n            \"value\": \"#000000\"\n          },\n          \"strokeOpacity\": {\n            \"value\": 0.2\n          },\n          \"strokeWidth\": {\n            \"value\": 0\n          }\n        }\n      }\n    },\n    {\n      \"type\": \"line\",\n      \"description\": \"Flux\",\n      \"clip\": true,\n      \"from\": {\n        \"data\": \"fedf5748-bed4-412b-bde2-a92d9c7fa3af\"\n      },\n      \"encode\": {\n        \"enter\": {\n          \"x\": {\n            \"scale\": \"xscale\",\n            \"field\": \"time\"\n          },\n          \"y\": {\n            \"scale\": \"yscale\",\n            \"field\": \"flux\"\n          },\n          \"stroke\": {\n            \"value\": \"#000000\"\n          },\n          \"strokeOpacity\": {\n            \"value\": 1\n          },\n          \"strokeWidth\": {\n            \"value\": 2\n          }\n        }\n      }\n    },\n    {\n      \"type\": \"rule\",\n      \"description\": \"Special event\",\n      \"clip\": true,\n      \"encode\": {\n        \"enter\": {\n          \"x\": {\n            \"scale\": \"xscale\",\n            \"signal\": \"datetime(2016, 2, 22, 12, 30, 46)\"\n          },\n          \"y\": {\n            \"value\": 0\n          },\n          \"y2\": {\n            \"field\": {\n              \"group\": \"height\"\n            }\n          },\n          \"strokeWidth\": {\n            \"value\": 1\n          },\n          \"stroke\": {\n            \"value\": \"#000000\"\n          },\n          \"strokeOpacity\": {\n            \"value\": 1\n          }\n        }\n      }\n    },\n    {\n      \"type\": \"rule\",\n      \"description\": \"Baseline flux\",\n      \"clip\": true,\n      \"encode\": {\n        \"enter\": {\n          \"x\": {\n            \"value\": 0\n          },\n          \"x2\": {\n            \"field\": {\n              \"group\": \"width\"\n            }\n          },\n          \"y\": {\n            \"scale\": \"yscale\",\n            \"value\": 10.0\n          },\n          \"strokeWidth\": {\n            \"value\": 1\n          },\n          \"stroke\": {\n            \"value\": \"#000000\"\n          },\n          \"strokeOpacity\": {\n            \"value\": 1\n          }\n        }\n      }\n    },\n    {\n      \"type\": \"area\",\n      \"description\": \"Range\",\n      \"clip\": true,\n      \"from\": {\n        \"data\": \"fedf5748-bed4-412b-bde2-a92d9c7fa3af\"\n      },\n      \"encode\": {\n        \"enter\": {\n          \"x\": {\n            \"scale\": \"xscale\",\n            \"field\": \"time\"\n          },\n          \"y\": {\n            \"scale\": \"yscale\",\n            \"field\": \"flux_lo\"\n          },\n          \"y2\": {\n            \"scale\": \"yscale\",\n            \"field\": \"flux_hi\"\n          },\n          \"fill\": {\n            \"value\": \"#a6cee3\"\n          },\n          \"fillOpacity\": {\n            \"value\": 0.2\n          },\n          \"stroke\": {\n            \"value\": \"#000000\"\n          },\n          \"strokeOpacity\": {\n            \"value\": 0.2\n          },\n          \"strokeWidth\": {\n            \"value\": 0\n          }\n        }\n      }\n    },\n    {\n      \"type\": \"rect\",\n      \"description\": \"Vertical Range\",\n      \"clip\": true,\n      \"encode\": {\n        \"enter\": {\n          \"x\": {\n            \"scale\": \"xscale\",\n            \"signal\": \"datetime(2016, 2, 22, 12, 30, 43)\"\n          },\n          \"x2\": {\n            \"scale\": \"xscale\",\n            \"signal\": \"datetime(2016, 2, 22, 12, 30, 49)\"\n          },\n          \"y\": {\n            \"value\": 0\n          },\n          \"y2\": {\n            \"field\": {\n              \"group\": \"height\"\n            }\n          },\n          \"fill\": {\n            \"value\": \"#1f78b4\"\n          },\n          \"fillOpacity\": {\n            \"value\": 0.2\n          },\n          \"stroke\": {\n            \"value\": \"#000000\"\n          },\n          \"strokeOpacity\": {\n            \"value\": 0.2\n          },\n          \"strokeWidth\": {\n            \"value\": 0\n          }\n        }\n      }\n    },\n    {\n      \"type\": \"rect\",\n      \"description\": \"Horizontal Range\",\n      \"clip\": true,\n      \"encode\": {\n        \"enter\": {\n          \"x\": {\n            \"value\": 0\n          },\n          \"x2\": {\n            \"field\": {\n              \"group\": \"width\"\n            }\n          },\n          \"y\": {\n            \"scale\": \"yscale\",\n            \"value\": 8.0\n          },\n          \"y2\": {\n            \"scale\": \"yscale\",\n            \"value\": 11.0\n          },\n          \"fill\": {\n            \"value\": \"#b2df8a\"\n          },\n          \"fillOpacity\": {\n            \"value\": 0.2\n          },\n          \"stroke\": {\n            \"value\": \"#000000\"\n          },\n          \"strokeOpacity\": {\n            \"value\": 0.2\n          },\n          \"strokeWidth\": {\n            \"value\": 0\n          }\n        }\n      }\n    },\n    {\n      \"type\": \"text\",\n      \"description\": \"Text\",\n      \"clip\": true,\n      \"encode\": {\n        \"enter\": {\n          \"x\": {\n            \"scale\": \"xscale\",\n            \"signal\": \"datetime(2016, 2, 22, 12, 30, 34)\"\n          },\n          \"y\": {\n            \"scale\": \"yscale\",\n            \"value\": 5\n          },\n          \"text\": {\n            \"value\": \"Here be dragons\"\n          },\n          \"fill\": {\n            \"value\": \"#000000\"\n          },\n          \"fillOpacity\": {\n            \"value\": 1\n          },\n          \"fontWeigth\": {\n            \"value\": \"normal\"\n          },\n          \"baseline\": {\n            \"value\": \"alphabetic\"\n          },\n          \"align\": {\n            \"value\": \"left\"\n          },\n          \"angle\": {\n            \"value\": 0.0\n          }\n        }\n      }\n    }\n  ],\n  \"axes\": [\n    {\n      \"orient\": \"bottom\",\n      \"scale\": \"xscale\",\n      \"title\": \"Time\"\n    },\n    {\n      \"orient\": \"left\",\n      \"scale\": \"yscale\",\n      \"title\": \"Intensity\"\n    }\n  ],\n  \"scales\": [\n    {\n      \"name\": \"xscale\",\n      \"type\": \"time\",\n      \"range\": \"width\",\n      \"zero\": false\n    },\n    {\n      \"name\": \"yscale\",\n      \"type\": \"linear\",\n      \"range\": \"width\",\n      \"zero\": false\n    }\n  ]\n}",
       "width": 600
      }
     },
     "339aaa8dcd7d448f8892c17bab932d4a": {
      "model_module": "jupyter-aas-timeseries",
      "model_module_version": "^0.1.3",
      "model_name": "TimeSeriesModel",
      "state": {
       "_model_module_version": "^0.1.3",
       "_view_module_version": "^0.1.3",
       "height": 480,
       "layout": "IPY_MODEL_a767183fcc594fe3bd2624a360f6d218",
       "vega_json": "{\n  \"$schema\": \"https://vega.github.io/schema/vega/v4.json\",\n  \"width\": 600,\n  \"height\": 400,\n  \"padding\": 0,\n  \"autosize\": {\n    \"type\": \"fit\",\n    \"resize\": false\n  },\n  \"data\": [\n    {\n      \"name\": \"fedf5748-bed4-412b-bde2-a92d9c7fa3af\",\n      \"values\": \"time,flux,error\\n2016-03-22T12:30:31.000,10,2.0\\n2016-03-22T12:30:34.000,11,2.5\\n2016-03-22T12:30:37.000,9,2.0\\n2016-03-22T12:30:40.000,10,1.5\\n2016-03-22T12:30:43.000,2,2.0\\n2016-03-22T12:30:46.000,3,2.0\\n2016-03-22T12:30:49.000,5,1.5\\n2016-03-22T12:30:52.000,12,1.5\\n2016-03-22T12:30:55.000,11,2.0\\n2016-03-22T12:30:58.000,10,2.5\\n\",\n      \"format\": {\n        \"type\": \"csv\",\n        \"parse\": {\n          \"time\": \"date\",\n          \"flux\": \"number\",\n          \"error\": \"number\"\n        }\n      }\n    }\n  ],\n  \"marks\": [\n    {\n      \"type\": \"symbol\",\n      \"description\": \"Flux\",\n      \"clip\": true,\n      \"from\": {\n        \"data\": \"fedf5748-bed4-412b-bde2-a92d9c7fa3af\"\n      },\n      \"encode\": {\n        \"enter\": {\n          \"x\": {\n            \"scale\": \"xscale\",\n            \"field\": \"time\"\n          },\n          \"y\": {\n            \"scale\": \"yscale\",\n            \"field\": \"flux\"\n          },\n          \"shape\": {\n            \"value\": \"circle\"\n          }\n        },\n        \"update\": {\n          \"shape\": {\n            \"value\": \"circle\"\n          },\n          \"size\": {\n            \"value\": 20\n          },\n          \"fill\": {\n            \"value\": \"#000000\"\n          },\n          \"fillOpacity\": {\n            \"value\": 1\n          },\n          \"stroke\": {\n            \"value\": \"#000000\"\n          },\n          \"strokeOpacity\": {\n            \"value\": 0.2\n          },\n          \"strokeWidth\": {\n            \"value\": 0\n          }\n        }\n      }\n    }\n  ],\n  \"axes\": [\n    {\n      \"orient\": \"bottom\",\n      \"scale\": \"xscale\",\n      \"title\": \"Time\"\n    },\n    {\n      \"orient\": \"left\",\n      \"scale\": \"yscale\",\n      \"title\": \"Intensity\"\n    }\n  ],\n  \"scales\": [\n    {\n      \"name\": \"xscale\",\n      \"type\": \"time\",\n      \"range\": \"width\",\n      \"zero\": false\n    },\n    {\n      \"name\": \"yscale\",\n      \"type\": \"linear\",\n      \"range\": \"width\",\n      \"zero\": false\n    }\n  ]\n}",
       "width": 600
      }
     },
     "355200fafa9244eaa8f8dbdafb1efd44": {
      "model_module": "jupyter-aas-timeseries",
      "model_module_version": "^0.1.3",
      "model_name": "TimeSeriesModel",
      "state": {
       "_model_module_version": "^0.1.3",
       "_view_module_version": "^0.1.3",
       "height": 480,
       "layout": "IPY_MODEL_9541692348754f46a291325860640bd7",
       "vega_json": "{\n  \"$schema\": \"https://vega.github.io/schema/vega/v4.json\",\n  \"width\": 600,\n  \"height\": 400,\n  \"padding\": 0,\n  \"autosize\": {\n    \"type\": \"fit\",\n    \"resize\": false\n  },\n  \"data\": [\n    {\n      \"name\": \"fedf5748-bed4-412b-bde2-a92d9c7fa3af\",\n      \"values\": \"time,flux,error,flux_lo,flux_hi\\n2016-03-22T12:30:31.000,10,2.0,8.0,12.0\\n2016-03-22T12:30:34.000,11,2.5,8.5,13.5\\n2016-03-22T12:30:37.000,9,2.0,7.0,11.0\\n2016-03-22T12:30:40.000,10,1.5,8.5,11.5\\n2016-03-22T12:30:43.000,2,2.0,0.0,4.0\\n2016-03-22T12:30:46.000,3,2.0,1.0,5.0\\n2016-03-22T12:30:49.000,5,1.5,3.5,6.5\\n2016-03-22T12:30:52.000,12,1.5,10.5,13.5\\n2016-03-22T12:30:55.000,11,2.0,9.0,13.0\\n2016-03-22T12:30:58.000,10,2.5,7.5,12.5\\n\",\n      \"format\": {\n        \"type\": \"csv\",\n        \"parse\": {\n          \"time\": \"date\",\n          \"flux\": \"number\",\n          \"error\": \"number\",\n          \"flux_lo\": \"number\",\n          \"flux_hi\": \"number\"\n        }\n      }\n    }\n  ],\n  \"marks\": [\n    {\n      \"type\": \"symbol\",\n      \"description\": \"Flux\",\n      \"clip\": true,\n      \"from\": {\n        \"data\": \"fedf5748-bed4-412b-bde2-a92d9c7fa3af\"\n      },\n      \"encode\": {\n        \"enter\": {\n          \"x\": {\n            \"scale\": \"xscale\",\n            \"field\": \"time\"\n          },\n          \"y\": {\n            \"scale\": \"yscale\",\n            \"field\": \"flux\"\n          },\n          \"shape\": {\n            \"value\": \"circle\"\n          }\n        },\n        \"update\": {\n          \"shape\": {\n            \"value\": \"circle\"\n          },\n          \"size\": {\n            \"value\": 40\n          },\n          \"fill\": {\n            \"value\": \"#000000\"\n          },\n          \"fillOpacity\": {\n            \"value\": 1\n          },\n          \"stroke\": {\n            \"value\": \"#000000\"\n          },\n          \"strokeOpacity\": {\n            \"value\": 0.2\n          },\n          \"strokeWidth\": {\n            \"value\": 0\n          }\n        }\n      }\n    },\n    {\n      \"type\": \"rect\",\n      \"description\": \"Flux\",\n      \"clip\": true,\n      \"from\": {\n        \"data\": \"fedf5748-bed4-412b-bde2-a92d9c7fa3af\"\n      },\n      \"encode\": {\n        \"enter\": {\n          \"x\": {\n            \"scale\": \"xscale\",\n            \"field\": \"time\"\n          },\n          \"y\": {\n            \"scale\": \"yscale\",\n            \"signal\": \"datum['flux'] - datum['error']\"\n          },\n          \"y2\": {\n            \"scale\": \"yscale\",\n            \"signal\": \"datum['flux'] + datum['error']\"\n          }\n        },\n        \"update\": {\n          \"shape\": {\n            \"value\": \"circle\"\n          },\n          \"width\": {\n            \"value\": 1\n          },\n          \"fill\": {\n            \"value\": \"#000000\"\n          },\n          \"fillOpacity\": {\n            \"value\": 1\n          },\n          \"stroke\": {\n            \"value\": \"#000000\"\n          },\n          \"strokeOpacity\": {\n            \"value\": 0.2\n          },\n          \"strokeWidth\": {\n            \"value\": 0\n          }\n        }\n      }\n    },\n    {\n      \"type\": \"line\",\n      \"description\": \"Flux\",\n      \"clip\": true,\n      \"from\": {\n        \"data\": \"fedf5748-bed4-412b-bde2-a92d9c7fa3af\"\n      },\n      \"encode\": {\n        \"enter\": {\n          \"x\": {\n            \"scale\": \"xscale\",\n            \"field\": \"time\"\n          },\n          \"y\": {\n            \"scale\": \"yscale\",\n            \"field\": \"flux\"\n          },\n          \"stroke\": {\n            \"value\": \"#000000\"\n          },\n          \"strokeOpacity\": {\n            \"value\": 1\n          },\n          \"strokeWidth\": {\n            \"value\": 2\n          }\n        }\n      }\n    },\n    {\n      \"type\": \"rule\",\n      \"description\": \"Special event\",\n      \"clip\": true,\n      \"encode\": {\n        \"enter\": {\n          \"x\": {\n            \"scale\": \"xscale\",\n            \"signal\": \"datetime(2016, 2, 22, 12, 30, 46)\"\n          },\n          \"y\": {\n            \"value\": 0\n          },\n          \"y2\": {\n            \"field\": {\n              \"group\": \"height\"\n            }\n          },\n          \"strokeWidth\": {\n            \"value\": 1\n          },\n          \"stroke\": {\n            \"value\": \"#000000\"\n          },\n          \"strokeOpacity\": {\n            \"value\": 1\n          }\n        }\n      }\n    },\n    {\n      \"type\": \"rule\",\n      \"description\": \"Baseline flux\",\n      \"clip\": true,\n      \"encode\": {\n        \"enter\": {\n          \"x\": {\n            \"value\": 0\n          },\n          \"x2\": {\n            \"field\": {\n              \"group\": \"width\"\n            }\n          },\n          \"y\": {\n            \"scale\": \"yscale\",\n            \"value\": 10.0\n          },\n          \"strokeWidth\": {\n            \"value\": 1\n          },\n          \"stroke\": {\n            \"value\": \"#000000\"\n          },\n          \"strokeOpacity\": {\n            \"value\": 1\n          }\n        }\n      }\n    },\n    {\n      \"type\": \"area\",\n      \"description\": \"Range\",\n      \"clip\": true,\n      \"from\": {\n        \"data\": \"fedf5748-bed4-412b-bde2-a92d9c7fa3af\"\n      },\n      \"encode\": {\n        \"enter\": {\n          \"x\": {\n            \"scale\": \"xscale\",\n            \"field\": \"time\"\n          },\n          \"y\": {\n            \"scale\": \"yscale\",\n            \"field\": \"flux_lo\"\n          },\n          \"y2\": {\n            \"scale\": \"yscale\",\n            \"field\": \"flux_hi\"\n          },\n          \"fill\": {\n            \"value\": \"#a6cee3\"\n          },\n          \"fillOpacity\": {\n            \"value\": 0.2\n          },\n          \"stroke\": {\n            \"value\": \"#000000\"\n          },\n          \"strokeOpacity\": {\n            \"value\": 0.2\n          },\n          \"strokeWidth\": {\n            \"value\": 0\n          }\n        }\n      }\n    },\n    {\n      \"type\": \"rect\",\n      \"description\": \"Vertical Range\",\n      \"clip\": true,\n      \"encode\": {\n        \"enter\": {\n          \"x\": {\n            \"scale\": \"xscale\",\n            \"signal\": \"datetime(2016, 2, 22, 12, 30, 43)\"\n          },\n          \"x2\": {\n            \"scale\": \"xscale\",\n            \"signal\": \"datetime(2016, 2, 22, 12, 30, 49)\"\n          },\n          \"y\": {\n            \"value\": 0\n          },\n          \"y2\": {\n            \"field\": {\n              \"group\": \"height\"\n            }\n          },\n          \"fill\": {\n            \"value\": \"#1f78b4\"\n          },\n          \"fillOpacity\": {\n            \"value\": 0.2\n          },\n          \"stroke\": {\n            \"value\": \"#000000\"\n          },\n          \"strokeOpacity\": {\n            \"value\": 0.2\n          },\n          \"strokeWidth\": {\n            \"value\": 0\n          }\n        }\n      }\n    },\n    {\n      \"type\": \"rect\",\n      \"description\": \"Horizontal Range\",\n      \"clip\": true,\n      \"encode\": {\n        \"enter\": {\n          \"x\": {\n            \"value\": 0\n          },\n          \"x2\": {\n            \"field\": {\n              \"group\": \"width\"\n            }\n          },\n          \"y\": {\n            \"scale\": \"yscale\",\n            \"value\": 8.0\n          },\n          \"y2\": {\n            \"scale\": \"yscale\",\n            \"value\": 11.0\n          },\n          \"fill\": {\n            \"value\": \"#b2df8a\"\n          },\n          \"fillOpacity\": {\n            \"value\": 0.2\n          },\n          \"stroke\": {\n            \"value\": \"#000000\"\n          },\n          \"strokeOpacity\": {\n            \"value\": 0.2\n          },\n          \"strokeWidth\": {\n            \"value\": 0\n          }\n        }\n      }\n    }\n  ],\n  \"axes\": [\n    {\n      \"orient\": \"bottom\",\n      \"scale\": \"xscale\",\n      \"title\": \"Time\"\n    },\n    {\n      \"orient\": \"left\",\n      \"scale\": \"yscale\",\n      \"title\": \"Intensity\"\n    }\n  ],\n  \"scales\": [\n    {\n      \"name\": \"xscale\",\n      \"type\": \"time\",\n      \"range\": \"width\",\n      \"zero\": false\n    },\n    {\n      \"name\": \"yscale\",\n      \"type\": \"linear\",\n      \"range\": \"width\",\n      \"zero\": false\n    }\n  ]\n}",
       "width": 600
      }
     },
     "3b89677e726f4035b1ea477181dedda3": {
      "model_module": "jupyter-aas-timeseries",
      "model_module_version": "^0.1.3",
      "model_name": "TimeSeriesModel",
      "state": {
       "_model_module_version": "^0.1.3",
       "_view_module_version": "^0.1.3",
       "height": 480,
       "layout": "IPY_MODEL_eacaf89f1476417a992cdb0881195848",
       "vega_json": "{\n  \"$schema\": \"https://vega.github.io/schema/vega/v4.json\",\n  \"width\": 600,\n  \"height\": 400,\n  \"padding\": 0,\n  \"autosize\": {\n    \"type\": \"fit\",\n    \"resize\": false\n  },\n  \"data\": [\n    {\n      \"name\": \"fedf5748-bed4-412b-bde2-a92d9c7fa3af\",\n      \"values\": \"time,flux,error\\n2016-03-22T12:30:31.000,10,2.0\\n2016-03-22T12:30:34.000,11,2.5\\n2016-03-22T12:30:37.000,9,2.0\\n2016-03-22T12:30:40.000,10,1.5\\n2016-03-22T12:30:43.000,2,2.0\\n2016-03-22T12:30:46.000,3,2.0\\n2016-03-22T12:30:49.000,5,1.5\\n2016-03-22T12:30:52.000,12,1.5\\n2016-03-22T12:30:55.000,11,2.0\\n2016-03-22T12:30:58.000,10,2.5\\n\",\n      \"format\": {\n        \"type\": \"csv\",\n        \"parse\": {\n          \"time\": \"date\",\n          \"flux\": \"number\",\n          \"error\": \"number\"\n        }\n      }\n    }\n  ],\n  \"marks\": [\n    {\n      \"type\": \"symbol\",\n      \"description\": \"Flux\",\n      \"clip\": true,\n      \"from\": {\n        \"data\": \"fedf5748-bed4-412b-bde2-a92d9c7fa3af\"\n      },\n      \"encode\": {\n        \"enter\": {\n          \"x\": {\n            \"scale\": \"xscale\",\n            \"field\": \"time\"\n          },\n          \"y\": {\n            \"scale\": \"yscale\",\n            \"field\": \"flux\"\n          },\n          \"shape\": {\n            \"value\": \"circle\"\n          }\n        },\n        \"update\": {\n          \"shape\": {\n            \"value\": \"circle\"\n          },\n          \"size\": {\n            \"value\": 40\n          },\n          \"fill\": {\n            \"value\": \"#000000\"\n          },\n          \"fillOpacity\": {\n            \"value\": 1\n          },\n          \"stroke\": {\n            \"value\": \"#000000\"\n          },\n          \"strokeOpacity\": {\n            \"value\": 0.2\n          },\n          \"strokeWidth\": {\n            \"value\": 0\n          }\n        }\n      }\n    },\n    {\n      \"type\": \"rect\",\n      \"description\": \"Flux\",\n      \"clip\": true,\n      \"from\": {\n        \"data\": \"fedf5748-bed4-412b-bde2-a92d9c7fa3af\"\n      },\n      \"encode\": {\n        \"enter\": {\n          \"x\": {\n            \"scale\": \"xscale\",\n            \"field\": \"time\"\n          },\n          \"y\": {\n            \"scale\": \"yscale\",\n            \"signal\": \"datum['flux'] - datum['error']\"\n          },\n          \"y2\": {\n            \"scale\": \"yscale\",\n            \"signal\": \"datum['flux'] + datum['error']\"\n          }\n        },\n        \"update\": {\n          \"shape\": {\n            \"value\": \"circle\"\n          },\n          \"width\": {\n            \"value\": 1\n          },\n          \"fill\": {\n            \"value\": \"#000000\"\n          },\n          \"fillOpacity\": {\n            \"value\": 1\n          },\n          \"stroke\": {\n            \"value\": \"#000000\"\n          },\n          \"strokeOpacity\": {\n            \"value\": 0.2\n          },\n          \"strokeWidth\": {\n            \"value\": 0\n          }\n        }\n      }\n    },\n    {\n      \"type\": \"line\",\n      \"description\": \"Flux\",\n      \"clip\": true,\n      \"from\": {\n        \"data\": \"fedf5748-bed4-412b-bde2-a92d9c7fa3af\"\n      },\n      \"encode\": {\n        \"enter\": {\n          \"x\": {\n            \"scale\": \"xscale\",\n            \"field\": \"time\"\n          },\n          \"y\": {\n            \"scale\": \"yscale\",\n            \"field\": \"flux\"\n          },\n          \"stroke\": {\n            \"value\": \"#000000\"\n          },\n          \"strokeOpacity\": {\n            \"value\": 1\n          },\n          \"strokeWidth\": {\n            \"value\": 2\n          }\n        }\n      }\n    }\n  ],\n  \"axes\": [\n    {\n      \"orient\": \"bottom\",\n      \"scale\": \"xscale\",\n      \"title\": \"Time\"\n    },\n    {\n      \"orient\": \"left\",\n      \"scale\": \"yscale\",\n      \"title\": \"Intensity\"\n    }\n  ],\n  \"scales\": [\n    {\n      \"name\": \"xscale\",\n      \"type\": \"time\",\n      \"range\": \"width\",\n      \"zero\": false\n    },\n    {\n      \"name\": \"yscale\",\n      \"type\": \"linear\",\n      \"range\": \"width\",\n      \"zero\": false\n    }\n  ]\n}",
       "width": 600
      }
     },
     "492ccfea7df84f30809ec414ff25b058": {
      "model_module": "@jupyter-widgets/base",
      "model_module_version": "1.1.0",
      "model_name": "LayoutModel",
      "state": {}
     },
     "56cff4caa99e4887bd802a79ac652013": {
      "model_module": "jupyter-aas-timeseries",
      "model_module_version": "^0.1.3",
      "model_name": "TimeSeriesModel",
      "state": {
       "_model_module_version": "^0.1.3",
       "_view_module_version": "^0.1.3",
       "height": 480,
       "layout": "IPY_MODEL_492ccfea7df84f30809ec414ff25b058",
       "vega_json": "{\n  \"$schema\": \"https://vega.github.io/schema/vega/v4.json\",\n  \"width\": 600,\n  \"height\": 400,\n  \"padding\": 0,\n  \"autosize\": {\n    \"type\": \"fit\",\n    \"resize\": false\n  },\n  \"data\": [\n    {\n      \"name\": \"fedf5748-bed4-412b-bde2-a92d9c7fa3af\",\n      \"values\": \"time,flux,error\\n2016-03-22T12:30:31.000,10,2.0\\n2016-03-22T12:30:34.000,11,2.5\\n2016-03-22T12:30:37.000,9,2.0\\n2016-03-22T12:30:40.000,10,1.5\\n2016-03-22T12:30:43.000,2,2.0\\n2016-03-22T12:30:46.000,3,2.0\\n2016-03-22T12:30:49.000,5,1.5\\n2016-03-22T12:30:52.000,12,1.5\\n2016-03-22T12:30:55.000,11,2.0\\n2016-03-22T12:30:58.000,10,2.5\\n\",\n      \"format\": {\n        \"type\": \"csv\",\n        \"parse\": {\n          \"time\": \"date\",\n          \"flux\": \"number\",\n          \"error\": \"number\"\n        }\n      }\n    }\n  ],\n  \"marks\": [\n    {\n      \"type\": \"symbol\",\n      \"description\": \"Flux\",\n      \"clip\": true,\n      \"from\": {\n        \"data\": \"fedf5748-bed4-412b-bde2-a92d9c7fa3af\"\n      },\n      \"encode\": {\n        \"enter\": {\n          \"x\": {\n            \"scale\": \"xscale\",\n            \"field\": \"time\"\n          },\n          \"y\": {\n            \"scale\": \"yscale\",\n            \"field\": \"flux\"\n          },\n          \"shape\": {\n            \"value\": \"circle\"\n          }\n        },\n        \"update\": {\n          \"shape\": {\n            \"value\": \"circle\"\n          },\n          \"size\": {\n            \"value\": 40\n          },\n          \"fill\": {\n            \"value\": \"#000000\"\n          },\n          \"fillOpacity\": {\n            \"value\": 1\n          },\n          \"stroke\": {\n            \"value\": \"#000000\"\n          },\n          \"strokeOpacity\": {\n            \"value\": 0.2\n          },\n          \"strokeWidth\": {\n            \"value\": 0\n          }\n        }\n      }\n    },\n    {\n      \"type\": \"rect\",\n      \"description\": \"Flux\",\n      \"clip\": true,\n      \"from\": {\n        \"data\": \"fedf5748-bed4-412b-bde2-a92d9c7fa3af\"\n      },\n      \"encode\": {\n        \"enter\": {\n          \"x\": {\n            \"scale\": \"xscale\",\n            \"field\": \"time\"\n          },\n          \"y\": {\n            \"scale\": \"yscale\",\n            \"signal\": \"datum['flux'] - datum['error']\"\n          },\n          \"y2\": {\n            \"scale\": \"yscale\",\n            \"signal\": \"datum['flux'] + datum['error']\"\n          }\n        },\n        \"update\": {\n          \"shape\": {\n            \"value\": \"circle\"\n          },\n          \"width\": {\n            \"value\": 1\n          },\n          \"fill\": {\n            \"value\": \"#000000\"\n          },\n          \"fillOpacity\": {\n            \"value\": 1\n          },\n          \"stroke\": {\n            \"value\": \"#000000\"\n          },\n          \"strokeOpacity\": {\n            \"value\": 0.2\n          },\n          \"strokeWidth\": {\n            \"value\": 0\n          }\n        }\n      }\n    },\n    {\n      \"type\": \"line\",\n      \"description\": \"Flux\",\n      \"clip\": true,\n      \"from\": {\n        \"data\": \"fedf5748-bed4-412b-bde2-a92d9c7fa3af\"\n      },\n      \"encode\": {\n        \"enter\": {\n          \"x\": {\n            \"scale\": \"xscale\",\n            \"field\": \"time\"\n          },\n          \"y\": {\n            \"scale\": \"yscale\",\n            \"field\": \"flux\"\n          },\n          \"stroke\": {\n            \"value\": \"#000000\"\n          },\n          \"strokeOpacity\": {\n            \"value\": 1\n          },\n          \"strokeWidth\": {\n            \"value\": 1\n          }\n        }\n      }\n    }\n  ],\n  \"axes\": [\n    {\n      \"orient\": \"bottom\",\n      \"scale\": \"xscale\",\n      \"title\": \"Time\"\n    },\n    {\n      \"orient\": \"left\",\n      \"scale\": \"yscale\",\n      \"title\": \"Intensity\"\n    }\n  ],\n  \"scales\": [\n    {\n      \"name\": \"xscale\",\n      \"type\": \"time\",\n      \"range\": \"width\",\n      \"zero\": false\n    },\n    {\n      \"name\": \"yscale\",\n      \"type\": \"linear\",\n      \"range\": \"width\",\n      \"zero\": false\n    }\n  ]\n}",
       "width": 600
      }
     },
     "800ec15be80e4d4d94d9adf5dbed4020": {
      "model_module": "jupyter-aas-timeseries",
      "model_module_version": "^0.1.3",
      "model_name": "TimeSeriesModel",
      "state": {
       "_model_module_version": "^0.1.3",
       "_view_module_version": "^0.1.3",
       "height": 480,
       "layout": "IPY_MODEL_a64a153c70c245fd8650e154be0065fe",
       "vega_json": "{\n  \"$schema\": \"https://vega.github.io/schema/vega/v4.json\",\n  \"width\": 600,\n  \"height\": 400,\n  \"padding\": 0,\n  \"autosize\": {\n    \"type\": \"fit\",\n    \"resize\": false\n  },\n  \"data\": [\n    {\n      \"name\": \"fedf5748-bed4-412b-bde2-a92d9c7fa3af\",\n      \"values\": \"time,flux,error\\n2016-03-22T12:30:31.000,10,2.0\\n2016-03-22T12:30:34.000,11,2.5\\n2016-03-22T12:30:37.000,9,2.0\\n2016-03-22T12:30:40.000,10,1.5\\n2016-03-22T12:30:43.000,2,2.0\\n2016-03-22T12:30:46.000,3,2.0\\n2016-03-22T12:30:49.000,5,1.5\\n2016-03-22T12:30:52.000,12,1.5\\n2016-03-22T12:30:55.000,11,2.0\\n2016-03-22T12:30:58.000,10,2.5\\n\",\n      \"format\": {\n        \"type\": \"csv\",\n        \"parse\": {\n          \"time\": \"date\",\n          \"flux\": \"number\",\n          \"error\": \"number\"\n        }\n      }\n    }\n  ],\n  \"marks\": [\n    {\n      \"type\": \"symbol\",\n      \"description\": \"Flux\",\n      \"clip\": true,\n      \"from\": {\n        \"data\": \"fedf5748-bed4-412b-bde2-a92d9c7fa3af\"\n      },\n      \"encode\": {\n        \"enter\": {\n          \"x\": {\n            \"scale\": \"xscale\",\n            \"field\": \"time\"\n          },\n          \"y\": {\n            \"scale\": \"yscale\",\n            \"field\": \"flux\"\n          },\n          \"shape\": {\n            \"value\": \"circle\"\n          }\n        },\n        \"update\": {\n          \"shape\": {\n            \"value\": \"circle\"\n          },\n          \"size\": {\n            \"value\": 40\n          },\n          \"fill\": {\n            \"value\": \"#000000\"\n          },\n          \"fillOpacity\": {\n            \"value\": 1\n          },\n          \"stroke\": {\n            \"value\": \"#000000\"\n          },\n          \"strokeOpacity\": {\n            \"value\": 0.2\n          },\n          \"strokeWidth\": {\n            \"value\": 0\n          }\n        }\n      }\n    }\n  ],\n  \"axes\": [\n    {\n      \"orient\": \"bottom\",\n      \"scale\": \"xscale\",\n      \"title\": \"Time\"\n    },\n    {\n      \"orient\": \"left\",\n      \"scale\": \"yscale\",\n      \"title\": \"Intensity\"\n    }\n  ],\n  \"scales\": [\n    {\n      \"name\": \"xscale\",\n      \"type\": \"time\",\n      \"range\": \"width\",\n      \"zero\": false\n    },\n    {\n      \"name\": \"yscale\",\n      \"type\": \"linear\",\n      \"range\": \"width\",\n      \"zero\": false\n    }\n  ]\n}",
       "width": 600
      }
     },
     "9541692348754f46a291325860640bd7": {
      "model_module": "@jupyter-widgets/base",
      "model_module_version": "1.1.0",
      "model_name": "LayoutModel",
      "state": {}
     },
     "98dfdab67e8041ae829d99c2b8d30471": {
      "model_module": "@jupyter-widgets/base",
      "model_module_version": "1.1.0",
      "model_name": "LayoutModel",
      "state": {}
     },
     "a64a153c70c245fd8650e154be0065fe": {
      "model_module": "@jupyter-widgets/base",
      "model_module_version": "1.1.0",
      "model_name": "LayoutModel",
      "state": {}
     },
     "a767183fcc594fe3bd2624a360f6d218": {
      "model_module": "@jupyter-widgets/base",
      "model_module_version": "1.1.0",
      "model_name": "LayoutModel",
      "state": {}
     },
     "b826ccfab3c846f486727f8ef2c51e7c": {
      "model_module": "@jupyter-widgets/base",
      "model_module_version": "1.1.0",
      "model_name": "LayoutModel",
      "state": {}
     },
     "cbbfff39867842fc8f4bfb208395ce33": {
      "model_module": "jupyter-aas-timeseries",
      "model_module_version": "^0.1.3",
      "model_name": "TimeSeriesModel",
      "state": {
       "_model_module_version": "^0.1.3",
       "_view_module_version": "^0.1.3",
       "height": 480,
       "layout": "IPY_MODEL_98dfdab67e8041ae829d99c2b8d30471",
       "vega_json": "{\n  \"$schema\": \"https://vega.github.io/schema/vega/v4.json\",\n  \"width\": 600,\n  \"height\": 400,\n  \"padding\": 0,\n  \"autosize\": {\n    \"type\": \"fit\",\n    \"resize\": false\n  },\n  \"data\": [\n    {\n      \"name\": \"fedf5748-bed4-412b-bde2-a92d9c7fa3af\",\n      \"values\": \"time,flux,error\\n2016-03-22T12:30:31.000,10,2.0\\n2016-03-22T12:30:34.000,11,2.5\\n2016-03-22T12:30:37.000,9,2.0\\n2016-03-22T12:30:40.000,10,1.5\\n2016-03-22T12:30:43.000,2,2.0\\n2016-03-22T12:30:46.000,3,2.0\\n2016-03-22T12:30:49.000,5,1.5\\n2016-03-22T12:30:52.000,12,1.5\\n2016-03-22T12:30:55.000,11,2.0\\n2016-03-22T12:30:58.000,10,2.5\\n\",\n      \"format\": {\n        \"type\": \"csv\",\n        \"parse\": {\n          \"time\": \"date\",\n          \"flux\": \"number\",\n          \"error\": \"number\"\n        }\n      }\n    }\n  ],\n  \"marks\": [\n    {\n      \"type\": \"symbol\",\n      \"description\": \"Flux\",\n      \"clip\": true,\n      \"from\": {\n        \"data\": \"fedf5748-bed4-412b-bde2-a92d9c7fa3af\"\n      },\n      \"encode\": {\n        \"enter\": {\n          \"x\": {\n            \"scale\": \"xscale\",\n            \"field\": \"time\"\n          },\n          \"y\": {\n            \"scale\": \"yscale\",\n            \"field\": \"flux\"\n          },\n          \"shape\": {\n            \"value\": \"circle\"\n          }\n        },\n        \"update\": {\n          \"shape\": {\n            \"value\": \"circle\"\n          },\n          \"size\": {\n            \"value\": 40\n          },\n          \"fill\": {\n            \"value\": \"#000000\"\n          },\n          \"fillOpacity\": {\n            \"value\": 1\n          },\n          \"stroke\": {\n            \"value\": \"#000000\"\n          },\n          \"strokeOpacity\": {\n            \"value\": 0.2\n          },\n          \"strokeWidth\": {\n            \"value\": 0\n          }\n        }\n      }\n    },\n    {\n      \"type\": \"rect\",\n      \"description\": \"Flux\",\n      \"clip\": true,\n      \"from\": {\n        \"data\": \"fedf5748-bed4-412b-bde2-a92d9c7fa3af\"\n      },\n      \"encode\": {\n        \"enter\": {\n          \"x\": {\n            \"scale\": \"xscale\",\n            \"field\": \"time\"\n          },\n          \"y\": {\n            \"scale\": \"yscale\",\n            \"signal\": \"datum['flux'] - datum['error']\"\n          },\n          \"y2\": {\n            \"scale\": \"yscale\",\n            \"signal\": \"datum['flux'] + datum['error']\"\n          }\n        },\n        \"update\": {\n          \"shape\": {\n            \"value\": \"circle\"\n          },\n          \"width\": {\n            \"value\": 1\n          },\n          \"fill\": {\n            \"value\": \"#000000\"\n          },\n          \"fillOpacity\": {\n            \"value\": 1\n          },\n          \"stroke\": {\n            \"value\": \"#000000\"\n          },\n          \"strokeOpacity\": {\n            \"value\": 0.2\n          },\n          \"strokeWidth\": {\n            \"value\": 0\n          }\n        }\n      }\n    }\n  ],\n  \"axes\": [\n    {\n      \"orient\": \"bottom\",\n      \"scale\": \"xscale\",\n      \"title\": \"Time\"\n    },\n    {\n      \"orient\": \"left\",\n      \"scale\": \"yscale\",\n      \"title\": \"Intensity\"\n    }\n  ],\n  \"scales\": [\n    {\n      \"name\": \"xscale\",\n      \"type\": \"time\",\n      \"range\": \"width\",\n      \"zero\": false\n    },\n    {\n      \"name\": \"yscale\",\n      \"type\": \"linear\",\n      \"range\": \"width\",\n      \"zero\": false\n    }\n  ]\n}",
       "width": 600
      }
     },
     "d0388dc3c0eb426c8983d82c22abbfaf": {
      "model_module": "@jupyter-widgets/base",
      "model_module_version": "1.1.0",
      "model_name": "LayoutModel",
      "state": {}
     },
     "d0d827b417b8454bb1575a83922d7afb": {
      "model_module": "jupyter-aas-timeseries",
      "model_module_version": "^0.1.3",
      "model_name": "TimeSeriesModel",
      "state": {
       "_model_module_version": "^0.1.3",
       "_view_module_version": "^0.1.3",
       "height": 480,
       "layout": "IPY_MODEL_d4edb3e8bcb343edb3a2d91f9332f7c8",
       "vega_json": "{\n  \"$schema\": \"https://vega.github.io/schema/vega/v4.json\",\n  \"width\": 600,\n  \"height\": 400,\n  \"padding\": 0,\n  \"autosize\": {\n    \"type\": \"fit\",\n    \"resize\": false\n  },\n  \"data\": [\n    {\n      \"name\": \"fedf5748-bed4-412b-bde2-a92d9c7fa3af\",\n      \"values\": \"time,flux,error,flux_lo,flux_hi\\n2016-03-22T12:30:31.000,10,2.0,8.0,12.0\\n2016-03-22T12:30:34.000,11,2.5,8.5,13.5\\n2016-03-22T12:30:37.000,9,2.0,7.0,11.0\\n2016-03-22T12:30:40.000,10,1.5,8.5,11.5\\n2016-03-22T12:30:43.000,2,2.0,0.0,4.0\\n2016-03-22T12:30:46.000,3,2.0,1.0,5.0\\n2016-03-22T12:30:49.000,5,1.5,3.5,6.5\\n2016-03-22T12:30:52.000,12,1.5,10.5,13.5\\n2016-03-22T12:30:55.000,11,2.0,9.0,13.0\\n2016-03-22T12:30:58.000,10,2.5,7.5,12.5\\n\",\n      \"format\": {\n        \"type\": \"csv\",\n        \"parse\": {\n          \"time\": \"date\",\n          \"flux\": \"number\",\n          \"error\": \"number\",\n          \"flux_lo\": \"number\",\n          \"flux_hi\": \"number\"\n        }\n      }\n    }\n  ],\n  \"marks\": [\n    {\n      \"type\": \"symbol\",\n      \"description\": \"Flux\",\n      \"clip\": true,\n      \"from\": {\n        \"data\": \"fedf5748-bed4-412b-bde2-a92d9c7fa3af\"\n      },\n      \"encode\": {\n        \"enter\": {\n          \"x\": {\n            \"scale\": \"xscale\",\n            \"field\": \"time\"\n          },\n          \"y\": {\n            \"scale\": \"yscale\",\n            \"field\": \"flux\"\n          },\n          \"shape\": {\n            \"value\": \"circle\"\n          }\n        },\n        \"update\": {\n          \"shape\": {\n            \"value\": \"circle\"\n          },\n          \"size\": {\n            \"value\": 40\n          },\n          \"fill\": {\n            \"value\": \"#000000\"\n          },\n          \"fillOpacity\": {\n            \"value\": 1\n          },\n          \"stroke\": {\n            \"value\": \"#000000\"\n          },\n          \"strokeOpacity\": {\n            \"value\": 0.2\n          },\n          \"strokeWidth\": {\n            \"value\": 0\n          }\n        }\n      }\n    },\n    {\n      \"type\": \"rect\",\n      \"description\": \"Flux\",\n      \"clip\": true,\n      \"from\": {\n        \"data\": \"fedf5748-bed4-412b-bde2-a92d9c7fa3af\"\n      },\n      \"encode\": {\n        \"enter\": {\n          \"x\": {\n            \"scale\": \"xscale\",\n            \"field\": \"time\"\n          },\n          \"y\": {\n            \"scale\": \"yscale\",\n            \"signal\": \"datum['flux'] - datum['error']\"\n          },\n          \"y2\": {\n            \"scale\": \"yscale\",\n            \"signal\": \"datum['flux'] + datum['error']\"\n          }\n        },\n        \"update\": {\n          \"shape\": {\n            \"value\": \"circle\"\n          },\n          \"width\": {\n            \"value\": 1\n          },\n          \"fill\": {\n            \"value\": \"#000000\"\n          },\n          \"fillOpacity\": {\n            \"value\": 1\n          },\n          \"stroke\": {\n            \"value\": \"#000000\"\n          },\n          \"strokeOpacity\": {\n            \"value\": 0.2\n          },\n          \"strokeWidth\": {\n            \"value\": 0\n          }\n        }\n      }\n    },\n    {\n      \"type\": \"line\",\n      \"description\": \"Flux\",\n      \"clip\": true,\n      \"from\": {\n        \"data\": \"fedf5748-bed4-412b-bde2-a92d9c7fa3af\"\n      },\n      \"encode\": {\n        \"enter\": {\n          \"x\": {\n            \"scale\": \"xscale\",\n            \"field\": \"time\"\n          },\n          \"y\": {\n            \"scale\": \"yscale\",\n            \"field\": \"flux\"\n          },\n          \"stroke\": {\n            \"value\": \"#000000\"\n          },\n          \"strokeOpacity\": {\n            \"value\": 1\n          },\n          \"strokeWidth\": {\n            \"value\": 2\n          }\n        }\n      }\n    },\n    {\n      \"type\": \"rule\",\n      \"description\": \"Special event\",\n      \"clip\": true,\n      \"encode\": {\n        \"enter\": {\n          \"x\": {\n            \"scale\": \"xscale\",\n            \"signal\": \"datetime(2016, 2, 22, 12, 30, 46)\"\n          },\n          \"y\": {\n            \"value\": 0\n          },\n          \"y2\": {\n            \"field\": {\n              \"group\": \"height\"\n            }\n          },\n          \"strokeWidth\": {\n            \"value\": 1\n          },\n          \"stroke\": {\n            \"value\": \"#000000\"\n          },\n          \"strokeOpacity\": {\n            \"value\": 1\n          }\n        }\n      }\n    },\n    {\n      \"type\": \"rule\",\n      \"description\": \"Baseline flux\",\n      \"clip\": true,\n      \"encode\": {\n        \"enter\": {\n          \"x\": {\n            \"value\": 0\n          },\n          \"x2\": {\n            \"field\": {\n              \"group\": \"width\"\n            }\n          },\n          \"y\": {\n            \"scale\": \"yscale\",\n            \"value\": 10.0\n          },\n          \"strokeWidth\": {\n            \"value\": 1\n          },\n          \"stroke\": {\n            \"value\": \"#000000\"\n          },\n          \"strokeOpacity\": {\n            \"value\": 1\n          }\n        }\n      }\n    },\n    {\n      \"type\": \"area\",\n      \"description\": \"Range\",\n      \"clip\": true,\n      \"from\": {\n        \"data\": \"fedf5748-bed4-412b-bde2-a92d9c7fa3af\"\n      },\n      \"encode\": {\n        \"enter\": {\n          \"x\": {\n            \"scale\": \"xscale\",\n            \"field\": \"time\"\n          },\n          \"y\": {\n            \"scale\": \"yscale\",\n            \"field\": \"flux_lo\"\n          },\n          \"y2\": {\n            \"scale\": \"yscale\",\n            \"field\": \"flux_hi\"\n          },\n          \"fill\": {\n            \"value\": \"#a6cee3\"\n          },\n          \"fillOpacity\": {\n            \"value\": 0.2\n          },\n          \"stroke\": {\n            \"value\": \"#000000\"\n          },\n          \"strokeOpacity\": {\n            \"value\": 0.2\n          },\n          \"strokeWidth\": {\n            \"value\": 0\n          }\n        }\n      }\n    }\n  ],\n  \"axes\": [\n    {\n      \"orient\": \"bottom\",\n      \"scale\": \"xscale\",\n      \"title\": \"Time\"\n    },\n    {\n      \"orient\": \"left\",\n      \"scale\": \"yscale\",\n      \"title\": \"Intensity\"\n    }\n  ],\n  \"scales\": [\n    {\n      \"name\": \"xscale\",\n      \"type\": \"time\",\n      \"range\": \"width\",\n      \"zero\": false\n    },\n    {\n      \"name\": \"yscale\",\n      \"type\": \"linear\",\n      \"range\": \"width\",\n      \"zero\": false\n    }\n  ]\n}",
       "width": 600
      }
     },
     "d4edb3e8bcb343edb3a2d91f9332f7c8": {
      "model_module": "@jupyter-widgets/base",
      "model_module_version": "1.1.0",
      "model_name": "LayoutModel",
      "state": {}
     },
     "eacaf89f1476417a992cdb0881195848": {
      "model_module": "@jupyter-widgets/base",
      "model_module_version": "1.1.0",
      "model_name": "LayoutModel",
      "state": {}
     }
    },
    "version_major": 2,
    "version_minor": 0
   }
  }
 },
 "nbformat": 4,
 "nbformat_minor": 2
}
